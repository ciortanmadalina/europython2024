{
 "cells": [
  {
   "cell_type": "code",
   "execution_count": 1,
   "metadata": {},
   "outputs": [],
   "source": [
    "import sys\n",
    "sys.path.append('../src')\n",
    "import evaluation_utils, data_utils\n",
    "\n",
    "import numpy as np\n",
    "from sklearn.ensemble import IsolationForest\n",
    "from sklearn.svm import OneClassSVM\n",
    "from sklearn.neighbors import LocalOutlierFactor\n"
   ]
  },
  {
   "cell_type": "code",
   "execution_count": 2,
   "metadata": {},
   "outputs": [],
   "source": [
    "X, y = data_utils.get_data('../data/6_cardio.npz')\n",
    "# data_utils.plot_dataset(X, y)"
   ]
  },
  {
   "cell_type": "code",
   "execution_count": 3,
   "metadata": {},
   "outputs": [
    {
     "name": "stdout",
     "output_type": "stream",
     "text": [
      "Isolation Forest Results:\n",
      "{'AUCROC': 0.733871189233727, 'AUCPR': 0.3086684231360168, 'F1': 0.5125298208912222, 'Precision': 0.5027322404371585, 'Recall': 0.5227272727272727, 'Adjusted AUCROC': 0.9725075528700906, 'Adjusted AUCPR': 0.6591760299625468, 'Adjusted F1': 0.7945776037873541, 'Adjusted Precision': 0.6591760299625468, 'Adjusted Recall': 1.0}\n",
      "One-Class SVM Results:\n",
      "{'AUCROC': 0.666961343037627, 'AUCPR': 0.2113352044163913, 'F1': 0.3922601972493124, 'Precision': 0.3817204301075269, 'Recall': 0.4034090909090909, 'Adjusted AUCROC': 0.9652567975830816, 'Adjusted AUCPR': 0.6048109965635738, 'Adjusted F1': 0.7537426265716416, 'Adjusted Precision': 0.6048109965635738, 'Adjusted Recall': 1.0}\n",
      "Local Outlier Factor Results:\n",
      "{'AUCROC': 0.5452897555616589, 'AUCPR': 0.11043889214914632, 'F1': 0.17826798254249498, 'Precision': 0.17486338797814208, 'Recall': 0.18181818181818182, 'Adjusted AUCROC': 0.954380664652568, 'Adjusted AUCPR': 0.5382262996941896, 'Adjusted F1': 0.6997966434691368, 'Adjusted Precision': 0.5382262996941896, 'Adjusted Recall': 1.0}\n"
     ]
    }
   ],
   "source": [
    "# Define the anomaly detection methods\n",
    "methods = {\n",
    "    \"Isolation Forest\": IsolationForest(contamination=0.1),\n",
    "    \"One-Class SVM\": OneClassSVM(nu=0.1),\n",
    "    \"Local Outlier Factor\": LocalOutlierFactor(n_neighbors=20, contamination=0.1)\n",
    "}\n",
    "\n",
    "# Apply each method\n",
    "for name, method in methods.items():\n",
    "    if name == \"Local Outlier Factor\":\n",
    "        y_pred = method.fit_predict(X)\n",
    "    else:\n",
    "        method.fit(X)\n",
    "        y_pred = method.predict(X)\n",
    "    \n",
    "    # Reshape the prediction values to 0 for valid, 1 for fraud. \n",
    "    y_pred[y_pred == 1] = 0\n",
    "    y_pred[y_pred == -1] = 1\n",
    "\n",
    "    print(f\"{name} Results:\")\n",
    "    print(evaluation_utils.run_evaluation(y, y_pred, do_point_adjustment=True))"
   ]
  },
  {
   "cell_type": "code",
   "execution_count": null,
   "metadata": {},
   "outputs": [],
   "source": []
  }
 ],
 "metadata": {
  "kernelspec": {
   "display_name": "Python 3",
   "language": "python",
   "name": "python3"
  },
  "language_info": {
   "codemirror_mode": {
    "name": "ipython",
    "version": 3
   },
   "file_extension": ".py",
   "mimetype": "text/x-python",
   "name": "python",
   "nbconvert_exporter": "python",
   "pygments_lexer": "ipython3",
   "version": "3.9.19"
  }
 },
 "nbformat": 4,
 "nbformat_minor": 2
}
