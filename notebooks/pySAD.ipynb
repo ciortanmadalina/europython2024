{
 "cells": [
  {
   "cell_type": "markdown",
   "metadata": {},
   "source": [
    "# Streaming usecase\n",
    "\n",
    "Requirements:\n",
    "- Can access only instances as they arrive (not all data)\n",
    "- Limited memory \n",
    "- Fast processing time\n",
    "- Approximation algorithms: sketches\n",
    "\n",
    "Streaming library for anomaly detection: https://pysad.readthedocs.io/en/latest/api.html#module-pysad.core\n",
    "\n",
    "Paper: https://arxiv.org/pdf/2009.02572"
   ]
  },
  {
   "cell_type": "code",
   "execution_count": 1,
   "metadata": {},
   "outputs": [],
   "source": [
    "import sys\n",
    "sys.path.append('../src')\n",
    "import evaluation_utils, data_utils\n",
    "\n",
    "from pysad.models import xStream, LODA\n",
    "from pysad.utils import ArrayStreamer\n",
    "from pysad.transform.postprocessing import RunningAveragePostprocessor\n",
    "from pysad.transform.preprocessing import InstanceUnitNormScaler\n",
    "from pysad.transform.ensemble import AverageScoreEnsembler\n",
    "from tqdm import tqdm\n",
    "import numpy as np\n",
    "np.float = np.float64\n",
    "np.int = np.int64\n",
    "\n",
    "import warnings\n",
    "# Ignore DeprecationWarning\n",
    "warnings.filterwarnings('ignore', category=DeprecationWarning)\n"
   ]
  },
  {
   "cell_type": "code",
   "execution_count": 2,
   "metadata": {},
   "outputs": [],
   "source": [
    "X_all, y_all = data_utils.get_data('../data/6_cardio.npz')"
   ]
  },
  {
   "cell_type": "code",
   "execution_count": 3,
   "metadata": {},
   "outputs": [
    {
     "name": "stderr",
     "output_type": "stream",
     "text": [
      "1831it [04:05,  7.46it/s]\n"
     ]
    }
   ],
   "source": [
    "\n",
    "iterator = ArrayStreamer(shuffle=False)  # Init streamer to simulate streaming data.\n",
    "\n",
    "preprocessor = InstanceUnitNormScaler()  # Init normalizer.\n",
    "postprocessor = RunningAveragePostprocessor(window_size=5)  # Init running average postprocessor.\n",
    "\n",
    "models = [  # Models to be ensembled.\n",
    "    xStream(),\n",
    "    LODA()\n",
    "]\n",
    "ensembler = AverageScoreEnsembler()  # Ensembler module.\n",
    "\n",
    "y_pred = []\n",
    "for X, y in tqdm(iterator.iter(X_all, y_all)):  # Iterate over examples.\n",
    "    model_scores = np.empty(len(models), dtype=np.float64)\n",
    "\n",
    "    # Fit & Score via for each model.\n",
    "    for i, model in enumerate(models):\n",
    "        model.fit_partial(X)\n",
    "        model_scores[i] = model.score_partial(X)\n",
    "\n",
    "    score = ensembler.fit_transform_partial(model_scores)  # fit to ensembler model and get ensembled score.\n",
    "    y_pred.append(score)"
   ]
  },
  {
   "cell_type": "markdown",
   "metadata": {},
   "source": [
    "# Evaluation"
   ]
  },
  {
   "cell_type": "code",
   "execution_count": null,
   "metadata": {},
   "outputs": [],
   "source": [
    "print(evaluation_utils.run_evaluation(\n",
    "    y_all, np.array(y_pred).reshape(-1),\n",
    "    do_point_adjustment=True))"
   ]
  },
  {
   "cell_type": "code",
   "execution_count": null,
   "metadata": {},
   "outputs": [],
   "source": []
  }
 ],
 "metadata": {
  "kernelspec": {
   "display_name": ".venv",
   "language": "python",
   "name": "python3"
  },
  "language_info": {
   "codemirror_mode": {
    "name": "ipython",
    "version": 3
   },
   "file_extension": ".py",
   "mimetype": "text/x-python",
   "name": "python",
   "nbconvert_exporter": "python",
   "pygments_lexer": "ipython3",
   "version": "3.9.19"
  }
 },
 "nbformat": 4,
 "nbformat_minor": 2
}
