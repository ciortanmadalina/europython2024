{
 "cells": [
  {
   "cell_type": "markdown",
   "metadata": {},
   "source": [
    "# Deep learning SOTA approach"
   ]
  },
  {
   "cell_type": "code",
   "execution_count": 1,
   "metadata": {},
   "outputs": [],
   "source": [
    "import sys\n",
    "sys.path.append('../src')\n",
    "import evaluation_utils, data_utils\n",
    "\n",
    "import numpy as np\n",
    "import matplotlib.pyplot as plt\n",
    "from deepod.models.tabular import DeepSVDD\n"
   ]
  },
  {
   "cell_type": "markdown",
   "metadata": {},
   "source": [
    "# Load input data"
   ]
  },
  {
   "cell_type": "code",
   "execution_count": null,
   "metadata": {},
   "outputs": [],
   "source": [
    "X, y = data_utils.get_data('../data/6_cardio.npz')"
   ]
  },
  {
   "cell_type": "markdown",
   "metadata": {},
   "source": [
    "# Model for tabular data"
   ]
  },
  {
   "cell_type": "code",
   "execution_count": null,
   "metadata": {},
   "outputs": [
    {
     "name": "stdout",
     "output_type": "stream",
     "text": [
      "Start Training...\n",
      "ensemble size: 1\n",
      "MLPnet(\n",
      "  (network): Sequential(\n",
      "    (0): LinearBlock(\n",
      "      (linear): Linear(in_features=21, out_features=100, bias=False)\n",
      "      (act_layer): ReLU()\n",
      "    )\n",
      "    (1): LinearBlock(\n",
      "      (linear): Linear(in_features=100, out_features=50, bias=False)\n",
      "      (act_layer): ReLU()\n",
      "    )\n",
      "    (2): LinearBlock(\n",
      "      (linear): Linear(in_features=50, out_features=128, bias=False)\n",
      "      (act_layer): Identity()\n",
      "    )\n",
      "  )\n",
      ")\n",
      "epoch  1, training loss: 0.508020, time: 0.1s\n",
      "epoch 10, training loss: 0.024299, time: 0.1s\n",
      "epoch 20, training loss: 0.011135, time: 0.1s\n",
      "epoch 30, training loss: 0.006726, time: 0.1s\n",
      "epoch 40, training loss: 0.005063, time: 0.1s\n",
      "epoch 50, training loss: 0.003334, time: 0.1s\n",
      "epoch 60, training loss: 0.002521, time: 0.1s\n",
      "epoch 70, training loss: 0.002205, time: 0.1s\n",
      "epoch 80, training loss: 0.001739, time: 0.1s\n",
      "epoch 90, training loss: 0.001397, time: 0.1s\n",
      "epoch100, training loss: 0.001231, time: 0.1s\n",
      "Start Inference on the training data...\n"
     ]
    },
    {
     "name": "stderr",
     "output_type": "stream",
     "text": [
      "testing: 100%|██████████| 29/29 [00:00<00:00, 1074.84it/s]\n",
      "testing: 100%|██████████| 29/29 [00:00<00:00, 1208.07it/s]\n"
     ]
    }
   ],
   "source": [
    "clf = DeepSVDD(device = None)\n",
    "clf.fit(X, y=None)\n",
    "y_pred = clf.decision_function(X)"
   ]
  },
  {
   "cell_type": "code",
   "execution_count": null,
   "metadata": {},
   "outputs": [
    {
     "name": "stdout",
     "output_type": "stream",
     "text": [
      "{'AUCROC': 0.5445344685525955, 'AUCPR': 0.1188124434534083, 'F1': 0.18515023677498718, 'Precision': 0.10939112487100103, 'Recall': 0.6022727272727273, 'Adjusted AUCROC': 0.9921450151057402, 'Adjusted AUCPR': 0.9312169312169312, 'Adjusted F1': 0.9643785680123464, 'Adjusted Precision': 0.9312169312169312, 'Adjusted Recall': 1.0}\n"
     ]
    }
   ],
   "source": [
    "print(evaluation_utils.run_evaluation(\n",
    "    y, np.array(y_pred).reshape(-1),\n",
    "    do_point_adjustment=True))"
   ]
  },
  {
   "cell_type": "markdown",
   "metadata": {},
   "source": [
    "# Model for timeseries data"
   ]
  },
  {
   "cell_type": "code",
   "execution_count": null,
   "metadata": {},
   "outputs": [
    {
     "name": "stdout",
     "output_type": "stream",
     "text": [
      "epoch  1, training loss: 0.989508, time: 53.4s\n",
      "epoch  2, training loss: 0.901019, time: 66.1s\n",
      "epoch  3, training loss: 0.691227, time: 81.4s\n",
      "epoch  4, training loss: 0.680557, time: 101.6s\n",
      "epoch  5, training loss: 0.560068, time: 122.1s\n",
      "epoch  6, training loss: 0.563404, time: 135.1s\n",
      "epoch  7, training loss: 0.487279, time: 141.5s\n",
      "epoch  8, training loss: 0.461194, time: 131.7s\n",
      "epoch  9, training loss: 0.463147, time: 133.2s\n",
      "epoch 10, training loss: 0.473248, time: 131.5s\n"
     ]
    }
   ],
   "source": [
    "from deepod.models.time_series import TimesNet\n",
    "clf = TimesNet(device=None)\n",
    "clf.fit(X)\n",
    "y_pred = clf.decision_function(X)"
   ]
  },
  {
   "cell_type": "code",
   "execution_count": null,
   "metadata": {},
   "outputs": [
    {
     "name": "stdout",
     "output_type": "stream",
     "text": [
      "{'AUCROC': 0.7765586377368856, 'AUCPR': 0.3896573686043172, 'F1': 0.4196135370223078, 'Precision': 0.4031413612565445, 'Recall': 0.4375, 'Adjusted AUCROC': 1.0, 'Adjusted AUCPR': 1.0, 'Adjusted F1': 0.9999950000249999, 'Adjusted Precision': 1.0, 'Adjusted Recall': 1.0}\n"
     ]
    }
   ],
   "source": [
    "print(evaluation_utils.run_evaluation(\n",
    "    y, np.array(y_pred).reshape(-1),\n",
    "    do_point_adjustment=True))"
   ]
  },
  {
   "cell_type": "code",
   "execution_count": null,
   "metadata": {},
   "outputs": [
    {
     "name": "stdout",
     "output_type": "stream",
     "text": [
      "Epoch 1,\t L1 = 1.0385258793830872\n",
      "Epoch 2,\t L1 = 1.0296148274626051\n",
      "Epoch 3,\t L1 = 0.916243280683245\n",
      "Epoch 4,\t L1 = 0.8829407691955566\n",
      "Epoch 5,\t L1 = 0.8665252923965454\n"
     ]
    }
   ],
   "source": [
    "from deepod.models.time_series import TranAD\n",
    "clf = TranAD(device=None)\n",
    "clf.fit(X)\n",
    "y_pred = clf.decision_function(X)"
   ]
  },
  {
   "cell_type": "code",
   "execution_count": null,
   "metadata": {},
   "outputs": [
    {
     "name": "stdout",
     "output_type": "stream",
     "text": [
      "{'AUCROC': 0.9525473770942049, 'AUCPR': 0.6586196052325077, 'F1': 0.6788462077274473, 'Precision': 0.6280193236714976, 'Recall': 0.7386363636363636, 'Adjusted AUCROC': 1.0, 'Adjusted AUCPR': 1.0, 'Adjusted F1': 0.9999950000249999, 'Adjusted Precision': 1.0, 'Adjusted Recall': 1.0}\n"
     ]
    }
   ],
   "source": [
    "print(evaluation_utils.run_evaluation(\n",
    "    y, np.array(y_pred).reshape(-1),\n",
    "    do_point_adjustment=True))"
   ]
  },
  {
   "cell_type": "code",
   "execution_count": null,
   "metadata": {},
   "outputs": [],
   "source": []
  }
 ],
 "metadata": {
  "kernelspec": {
   "display_name": "Python 3",
   "language": "python",
   "name": "python3"
  },
  "language_info": {
   "codemirror_mode": {
    "name": "ipython",
    "version": 3
   },
   "file_extension": ".py",
   "mimetype": "text/x-python",
   "name": "python",
   "nbconvert_exporter": "python",
   "pygments_lexer": "ipython3",
   "version": "3.9.19"
  }
 },
 "nbformat": 4,
 "nbformat_minor": 2
}
