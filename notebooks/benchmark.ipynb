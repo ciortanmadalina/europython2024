{
 "cells": [
  {
   "cell_type": "markdown",
   "metadata": {},
   "source": [
    "# Summary\n",
    "\n",
    "This notebook compares the results of all implemented methods which have dumped the scores under the results repository.\n",
    "\n",
    "The scores are sorted from the best to the worst performing method."
   ]
  },
  {
   "cell_type": "code",
   "execution_count": 19,
   "metadata": {},
   "outputs": [],
   "source": [
    "import sys\n",
    "sys.path.append('../src')\n",
    "import data_utils\n",
    "import glob\n",
    "import os\n",
    "import pandas as pd"
   ]
  },
  {
   "cell_type": "markdown",
   "metadata": {},
   "source": [
    "Put together all experimental results in results_df dataframe."
   ]
  },
  {
   "cell_type": "code",
   "execution_count": null,
   "metadata": {},
   "outputs": [],
   "source": [
    "results_folder = 'results/*'\n",
    "results_df = pd.DataFrame() # create an empty dataframe to store the results of all experiments\n",
    "\n",
    "# load the results of all experiments saved in the results folder\n",
    "file_paths = glob.glob(results_folder)\n",
    "for file_path in file_paths:\n",
    "    # extract the method name from the file path\n",
    "    file_name = os.path.basename(file_path)\n",
    "    method_name = os.path.splitext(file_name)[0]\n",
    "    scores = data_utils.load_results(file_path)\n",
    "    # add the method name to the dictionary\n",
    "    scores[\"method\"] = method_name\n",
    "\n",
    "    \n",
    "    # add one row to the dataframe which is a dictionary where the keys are the column names\n",
    "    results_df = pd.concat([results_df, pd.DataFrame([scores])], ignore_index=True)"
   ]
  },
  {
   "cell_type": "code",
   "execution_count": null,
   "metadata": {},
   "outputs": [],
   "source": [
    "# Set the method column as the index of the dataframe to make it easier to access the results of a specific method\n",
    "results_df.set_index(\"method\", inplace=True)"
   ]
  },
  {
   "cell_type": "code",
   "execution_count": null,
   "metadata": {},
   "outputs": [],
   "source": [
    "results_df"
   ]
  },
  {
   "cell_type": "code",
   "execution_count": null,
   "metadata": {},
   "outputs": [],
   "source": []
  }
 ],
 "metadata": {
  "kernelspec": {
   "display_name": "Python 3",
   "language": "python",
   "name": "python3"
  },
  "language_info": {
   "codemirror_mode": {
    "name": "ipython",
    "version": 3
   },
   "file_extension": ".py",
   "mimetype": "text/x-python",
   "name": "python",
   "nbconvert_exporter": "python",
   "pygments_lexer": "ipython3",
   "version": "3.9.19"
  }
 },
 "nbformat": 4,
 "nbformat_minor": 2
}
