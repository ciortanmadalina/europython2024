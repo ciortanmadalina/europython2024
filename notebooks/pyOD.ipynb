{
 "cells": [
  {
   "cell_type": "markdown",
   "metadata": {},
   "source": [
    "# Summary\n",
    "\n",
    "Traditional anomaly detection approach with pyOD https://pyod.readthedocs.io/en/latest/index.html\n",
    "\n",
    "Tutorial examples: https://pyod.readthedocs.io/en/latest/example.html"
   ]
  },
  {
   "cell_type": "code",
   "execution_count": 2,
   "metadata": {},
   "outputs": [],
   "source": [
    "import sys\n",
    "sys.path.append('../src')\n",
    "import evaluation_utils, data_utils\n",
    "import numpy as np\n",
    "from pyod.models.ecod import ECOD"
   ]
  },
  {
   "cell_type": "code",
   "execution_count": 6,
   "metadata": {},
   "outputs": [],
   "source": [
    "X, y = data_utils.get_data('../data/6_cardio.npz')"
   ]
  },
  {
   "cell_type": "code",
   "execution_count": 7,
   "metadata": {},
   "outputs": [],
   "source": [
    "clf = ECOD()\n",
    "clf.fit(X)\n",
    "y_pred = clf.decision_scores_ "
   ]
  },
  {
   "cell_type": "code",
   "execution_count": 9,
   "metadata": {},
   "outputs": [
    {
     "name": "stdout",
     "output_type": "stream",
     "text": [
      "{'AUCROC': 0.9350006866245537, 'AUCPR': 0.5674131327593924, 'F1': 0.609751502447214, 'Precision': 0.47468354430379744, 'Recall': 0.8522727272727273, 'Adjusted AUCROC': 1.0, 'Adjusted AUCPR': 1.0, 'Adjusted F1': 0.9999950000249999, 'Adjusted Precision': 1.0, 'Adjusted Recall': 1.0}\n"
     ]
    }
   ],
   "source": [
    "print(evaluation_utils.run_evaluation(y, y_pred, do_point_adjustment=True))"
   ]
  },
  {
   "cell_type": "markdown",
   "metadata": {},
   "source": []
  },
  {
   "cell_type": "code",
   "execution_count": null,
   "metadata": {},
   "outputs": [],
   "source": []
  }
 ],
 "metadata": {
  "kernelspec": {
   "display_name": "Python 3",
   "language": "python",
   "name": "python3"
  },
  "language_info": {
   "codemirror_mode": {
    "name": "ipython",
    "version": 3
   },
   "file_extension": ".py",
   "mimetype": "text/x-python",
   "name": "python",
   "nbconvert_exporter": "python",
   "pygments_lexer": "ipython3",
   "version": "3.9.19"
  }
 },
 "nbformat": 4,
 "nbformat_minor": 2
}
