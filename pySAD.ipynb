{
 "cells": [
  {
   "cell_type": "code",
   "execution_count": 2,
   "metadata": {},
   "outputs": [],
   "source": [
    "# !pip install -U pysad\n",
    "# ! pip install tqdm\n",
    "# ! pip install mmh3"
   ]
  },
  {
   "cell_type": "markdown",
   "metadata": {},
   "source": [
    "# Streaming usecase\n",
    "\n",
    "Requirements:\n",
    "- access one sample at at time\n",
    "- limited memory and processing time\n",
    "\n",
    "Paper: https://arxiv.org/pdf/2009.02572"
   ]
  },
  {
   "cell_type": "code",
   "execution_count": 5,
   "metadata": {},
   "outputs": [],
   "source": [
    "from pysad.evaluation import AUROCMetric\n",
    "from pysad.models import xStream, LODA\n",
    "from pysad.utils import ArrayStreamer\n",
    "from pysad.transform.postprocessing import RunningAveragePostprocessor\n",
    "from pysad.transform.preprocessing import InstanceUnitNormScaler\n",
    "from pysad.transform.ensemble import AverageScoreEnsembler\n",
    "from pysad.utils import Data\n",
    "from tqdm import tqdm\n",
    "import numpy as np\n",
    "import evaluation_utils, data_utils"
   ]
  },
  {
   "cell_type": "code",
   "execution_count": 6,
   "metadata": {},
   "outputs": [],
   "source": [
    "X_all, y_all = data_utils.get_data('data/6_cardio.npz')"
   ]
  },
  {
   "cell_type": "markdown",
   "metadata": {},
   "source": [
    "# Models\n",
    "https://pysad.readthedocs.io/en/latest/api.html#module-pysad.core"
   ]
  },
  {
   "cell_type": "code",
   "execution_count": 7,
   "metadata": {},
   "outputs": [
    {
     "name": "stderr",
     "output_type": "stream",
     "text": [
      "1831it [02:26, 12.50it/s]"
     ]
    },
    {
     "name": "stdout",
     "output_type": "stream",
     "text": [
      "AUROC:  0.5910464158198298\n"
     ]
    },
    {
     "name": "stderr",
     "output_type": "stream",
     "text": [
      "\n"
     ]
    }
   ],
   "source": [
    "\n",
    "iterator = ArrayStreamer(shuffle=False)  # Init streamer to simulate streaming data.\n",
    "\n",
    "preprocessor = InstanceUnitNormScaler()  # Init normalizer.\n",
    "postprocessor = RunningAveragePostprocessor(window_size=5)  # Init running average postprocessor.\n",
    "\n",
    "models = [  # Models to be ensembled.\n",
    "    xStream(),\n",
    "    LODA()\n",
    "]\n",
    "ensembler = AverageScoreEnsembler()  # Ensembler module.\n",
    "\n",
    "y_pred = []\n",
    "for X, y in tqdm(iterator.iter(X_all, y_all)):  # Iterate over examples.\n",
    "    model_scores = np.empty(len(models), dtype=np.float64)\n",
    "\n",
    "    # Fit & Score via for each model.\n",
    "    for i, model in enumerate(models):\n",
    "        model.fit_partial(X)\n",
    "        model_scores[i] = model.score_partial(X)\n",
    "\n",
    "    score = ensembler.fit_transform_partial(model_scores)  # fit to ensembler model and get ensembled score.\n",
    "    y_pred.append(score)"
   ]
  },
  {
   "cell_type": "markdown",
   "metadata": {},
   "source": [
    "# Evaluation"
   ]
  },
  {
   "cell_type": "code",
   "execution_count": 16,
   "metadata": {},
   "outputs": [
    {
     "name": "stdout",
     "output_type": "stream",
     "text": [
      "{'AUCROC': 0.5910464158198298, 'AUCPR': 0.20462602994407797, 'F1': 0.26756889987567156, 'Precision': 0.22264150943396227, 'Recall': 0.3352272727272727, 'Adjusted AUCROC': 1.0, 'Adjusted AUCPR': 1.0, 'Adjusted F1': 0.9999950000249999, 'Adjusted Precision': 1.0, 'Adjusted Recall': 1.0}\n"
     ]
    }
   ],
   "source": [
    "print(evaluation_utils.run_evaluation(\n",
    "    y_all, np.array(y_pred).reshape(-1),\n",
    "    do_point_adjustment=True))"
   ]
  },
  {
   "cell_type": "code",
   "execution_count": null,
   "metadata": {},
   "outputs": [],
   "source": []
  }
 ],
 "metadata": {
  "kernelspec": {
   "display_name": ".venv",
   "language": "python",
   "name": "python3"
  },
  "language_info": {
   "codemirror_mode": {
    "name": "ipython",
    "version": 3
   },
   "file_extension": ".py",
   "mimetype": "text/x-python",
   "name": "python",
   "nbconvert_exporter": "python",
   "pygments_lexer": "ipython3",
   "version": "3.10.14"
  }
 },
 "nbformat": 4,
 "nbformat_minor": 2
}
