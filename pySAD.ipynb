{
 "cells": [
  {
   "cell_type": "code",
   "execution_count": 2,
   "metadata": {},
   "outputs": [],
   "source": [
    "# !pip install -U pysad\n",
    "# ! pip install tqdm\n",
    "# ! pip install mmh3"
   ]
  },
  {
   "cell_type": "markdown",
   "metadata": {},
   "source": [
    "# Paper\n",
    "https://arxiv.org/pdf/2009.02572"
   ]
  },
  {
   "cell_type": "code",
   "execution_count": 12,
   "metadata": {},
   "outputs": [],
   "source": [
    "from sklearn.utils import shuffle\n",
    "from pysad.evaluation import AUROCMetric\n",
    "from pysad.models import xStream, LODA\n",
    "from pysad.utils import ArrayStreamer\n",
    "from pysad.transform.postprocessing import RunningAveragePostprocessor\n",
    "from pysad.transform.preprocessing import InstanceUnitNormScaler\n",
    "from pysad.transform.ensemble import AverageScoreEnsembler\n",
    "from pysad.utils import Data\n",
    "from tqdm import tqdm\n",
    "import numpy as np"
   ]
  },
  {
   "cell_type": "markdown",
   "metadata": {},
   "source": [
    "# Load data\n",
    "\n",
    "Download arrhythmia.mat and place in data\n",
    "https://odds.cs.stonybrook.edu/arrhythmia-dataset/"
   ]
  },
  {
   "cell_type": "code",
   "execution_count": 9,
   "metadata": {},
   "outputs": [],
   "source": [
    "# Get data to stream.\n",
    "data = Data(\"data\")\n",
    "X_all, y_all = data.get_data(\"arrhythmia.mat\")\n",
    "X_all, y_all = shuffle(X_all, y_all)\n"
   ]
  },
  {
   "cell_type": "code",
   "execution_count": 10,
   "metadata": {},
   "outputs": [
    {
     "data": {
      "text/plain": [
       "((452, 274), (452,))"
      ]
     },
     "execution_count": 10,
     "metadata": {},
     "output_type": "execute_result"
    }
   ],
   "source": [
    "X_all.shape, y_all.shape"
   ]
  },
  {
   "cell_type": "markdown",
   "metadata": {},
   "source": [
    "# Models\n",
    "https://pysad.readthedocs.io/en/latest/api.html#module-pysad.core"
   ]
  },
  {
   "cell_type": "code",
   "execution_count": 13,
   "metadata": {},
   "outputs": [
    {
     "name": "stderr",
     "output_type": "stream",
     "text": [
      "452it [00:57,  7.84it/s]"
     ]
    },
    {
     "name": "stdout",
     "output_type": "stream",
     "text": [
      "AUROC:  0.69983513895431\n"
     ]
    },
    {
     "name": "stderr",
     "output_type": "stream",
     "text": [
      "\n"
     ]
    }
   ],
   "source": [
    "\n",
    "iterator = ArrayStreamer(shuffle=False)  # Init streamer to simulate streaming data.\n",
    "\n",
    "preprocessor = InstanceUnitNormScaler()  # Init normalizer.\n",
    "postprocessor = RunningAveragePostprocessor(window_size=5)  # Init running average postprocessor.\n",
    "auroc = AUROCMetric()  # Init area under receiver-operating- characteristics curve metric.\n",
    "\n",
    "models = [  # Models to be ensembled.\n",
    "    xStream(),\n",
    "    LODA()\n",
    "]\n",
    "ensembler = AverageScoreEnsembler()  # Ensembler module.\n",
    "\n",
    "for X, y in tqdm(iterator.iter(X_all, y_all)):  # Iterate over examples.\n",
    "    model_scores = np.empty(len(models), dtype=np.float64)\n",
    "\n",
    "    # Fit & Score via for each model.\n",
    "    for i, model in enumerate(models):\n",
    "        model.fit_partial(X)\n",
    "        model_scores[i] = model.score_partial(X)\n",
    "\n",
    "    score = ensembler.fit_transform_partial(model_scores)  # fit to ensembler model and get ensembled score.\n",
    "\n",
    "    auroc.update(y, score)  # update AUROC metric.\n",
    "\n",
    "# Output score.\n",
    "print(\"AUROC: \", auroc.get())"
   ]
  },
  {
   "cell_type": "code",
   "execution_count": null,
   "metadata": {},
   "outputs": [],
   "source": []
  }
 ],
 "metadata": {
  "kernelspec": {
   "display_name": ".venv",
   "language": "python",
   "name": "python3"
  },
  "language_info": {
   "codemirror_mode": {
    "name": "ipython",
    "version": 3
   },
   "file_extension": ".py",
   "mimetype": "text/x-python",
   "name": "python",
   "nbconvert_exporter": "python",
   "pygments_lexer": "ipython3",
   "version": "3.10.14"
  }
 },
 "nbformat": 4,
 "nbformat_minor": 2
}
