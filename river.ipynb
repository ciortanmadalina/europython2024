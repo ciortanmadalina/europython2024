{
 "cells": [
  {
   "cell_type": "code",
   "execution_count": 1,
   "metadata": {},
   "outputs": [
    {
     "name": "stdout",
     "output_type": "stream",
     "text": [
      "Collecting river\n",
      "  Downloading river-0.21.1-cp310-cp310-win_amd64.whl.metadata (9.0 kB)\n",
      "Requirement already satisfied: numpy<2.0.0,>=1.23.0 in c:\\users\\madalina.ciortan\\appdata\\local\\miniconda3\\envs\\europython\\lib\\site-packages (from river) (1.23.5)\n",
      "Requirement already satisfied: pandas<3.0,>=2.1 in c:\\users\\madalina.ciortan\\appdata\\local\\miniconda3\\envs\\europython\\lib\\site-packages (from river) (2.1.4)\n",
      "Collecting polars<0.21.0,>=0.20.8 (from river)\n",
      "  Downloading polars-0.20.26-cp38-abi3-win_amd64.whl.metadata (14 kB)\n",
      "Requirement already satisfied: scipy<2.0.0,>=1.8.1 in c:\\users\\madalina.ciortan\\appdata\\local\\miniconda3\\envs\\europython\\lib\\site-packages (from river) (1.10.0)\n",
      "Requirement already satisfied: python-dateutil>=2.8.2 in c:\\users\\madalina.ciortan\\appdata\\local\\miniconda3\\envs\\europython\\lib\\site-packages (from pandas<3.0,>=2.1->river) (2.9.0)\n",
      "Requirement already satisfied: pytz>=2020.1 in c:\\users\\madalina.ciortan\\appdata\\local\\miniconda3\\envs\\europython\\lib\\site-packages (from pandas<3.0,>=2.1->river) (2024.1)\n",
      "Requirement already satisfied: tzdata>=2022.1 in c:\\users\\madalina.ciortan\\appdata\\local\\miniconda3\\envs\\europython\\lib\\site-packages (from pandas<3.0,>=2.1->river) (2024.1)\n",
      "Requirement already satisfied: six>=1.5 in c:\\users\\madalina.ciortan\\appdata\\local\\miniconda3\\envs\\europython\\lib\\site-packages (from python-dateutil>=2.8.2->pandas<3.0,>=2.1->river) (1.16.0)\n",
      "Downloading river-0.21.1-cp310-cp310-win_amd64.whl (2.0 MB)\n",
      "   ---------------------------------------- 0.0/2.0 MB ? eta -:--:--\n",
      "   ---------------------------------------- 0.0/2.0 MB ? eta -:--:--\n",
      "   ---------------------------------------- 0.0/2.0 MB ? eta -:--:--\n",
      "   -- ------------------------------------- 0.1/2.0 MB 1.1 MB/s eta 0:00:02\n",
      "   -------------------- ------------------- 1.0/2.0 MB 7.2 MB/s eta 0:00:01\n",
      "   ---------------------------------------  2.0/2.0 MB 11.5 MB/s eta 0:00:01\n",
      "   ---------------------------------------- 2.0/2.0 MB 9.8 MB/s eta 0:00:00\n",
      "Downloading polars-0.20.26-cp38-abi3-win_amd64.whl (28.2 MB)\n",
      "   ---------------------------------------- 0.0/28.2 MB ? eta -:--:--\n",
      "   -- ------------------------------------- 2.1/28.2 MB 67.1 MB/s eta 0:00:01\n",
      "   -- ------------------------------------- 2.1/28.2 MB 67.1 MB/s eta 0:00:01\n",
      "   -- ------------------------------------- 2.1/28.2 MB 67.1 MB/s eta 0:00:01\n",
      "   -- ------------------------------------- 2.1/28.2 MB 67.1 MB/s eta 0:00:01\n",
      "   ---- ----------------------------------- 3.1/28.2 MB 14.4 MB/s eta 0:00:02\n",
      "   ----- ---------------------------------- 4.2/28.2 MB 16.7 MB/s eta 0:00:02\n",
      "   ----- ---------------------------------- 4.2/28.2 MB 16.7 MB/s eta 0:00:02\n",
      "   ------- -------------------------------- 5.2/28.2 MB 14.0 MB/s eta 0:00:02\n",
      "   ------- -------------------------------- 5.2/28.2 MB 14.0 MB/s eta 0:00:02\n",
      "   ------- -------------------------------- 5.2/28.2 MB 14.0 MB/s eta 0:00:02\n",
      "   ---------- ----------------------------- 7.7/28.2 MB 15.0 MB/s eta 0:00:02\n",
      "   ------------- -------------------------- 9.4/28.2 MB 16.8 MB/s eta 0:00:02\n",
      "   ------------- -------------------------- 9.6/28.2 MB 15.7 MB/s eta 0:00:02\n",
      "   ------------------ --------------------- 13.3/28.2 MB 23.4 MB/s eta 0:00:01\n",
      "   -------------------- ------------------- 14.7/28.2 MB 31.2 MB/s eta 0:00:01\n",
      "   ---------------------- ----------------- 16.0/28.2 MB 38.5 MB/s eta 0:00:01\n",
      "   --------------------------- ------------ 19.2/28.2 MB 40.9 MB/s eta 0:00:01\n",
      "   ----------------------------- ---------- 21.0/28.2 MB 50.4 MB/s eta 0:00:01\n",
      "   -------------------------------- ------- 23.0/28.2 MB 43.7 MB/s eta 0:00:01\n",
      "   ------------------------------------ --- 25.9/28.2 MB 59.8 MB/s eta 0:00:01\n",
      "   ---------------------------------------  28.2/28.2 MB 54.7 MB/s eta 0:00:01\n",
      "   ---------------------------------------  28.2/28.2 MB 54.7 MB/s eta 0:00:01\n",
      "   ---------------------------------------- 28.2/28.2 MB 40.9 MB/s eta 0:00:00\n",
      "Installing collected packages: polars, river\n",
      "Successfully installed polars-0.20.26 river-0.21.1\n"
     ]
    },
    {
     "name": "stderr",
     "output_type": "stream",
     "text": [
      "WARNING: Ignoring invalid distribution -atplotlib (c:\\users\\madalina.ciortan\\appdata\\local\\miniconda3\\envs\\europython\\lib\\site-packages)\n",
      "WARNING: Ignoring invalid distribution -atplotlib (c:\\users\\madalina.ciortan\\appdata\\local\\miniconda3\\envs\\europython\\lib\\site-packages)\n"
     ]
    }
   ],
   "source": [
    "! pip install river"
   ]
  },
  {
   "cell_type": "markdown",
   "metadata": {},
   "source": [
    "https://riverml.xyz/0.21.0/api/anomaly/HalfSpaceTrees/"
   ]
  },
  {
   "cell_type": "code",
   "execution_count": 3,
   "metadata": {},
   "outputs": [],
   "source": [
    "from river import anomaly\n",
    "from river import compose\n",
    "from river import datasets\n",
    "from river import metrics\n",
    "from river import preprocessing"
   ]
  },
  {
   "cell_type": "code",
   "execution_count": 7,
   "metadata": {},
   "outputs": [],
   "source": [
    "data = datasets.CreditCard()"
   ]
  },
  {
   "cell_type": "code",
   "execution_count": 10,
   "metadata": {},
   "outputs": [
    {
     "name": "stdout",
     "output_type": "stream",
     "text": [
      "Downloading https://maxhalford.github.io/files/datasets/creditcardfraud.zip (65.95 MB)\n",
      "Uncompressing into C:\\Users\\madalina.ciortan\\river_data\\CreditCard\n"
     ]
    },
    {
     "data": {
      "text/plain": [
       "ROCAUC: 91.15%"
      ]
     },
     "execution_count": 10,
     "metadata": {},
     "output_type": "execute_result"
    }
   ],
   "source": [
    "model = compose.Pipeline(\n",
    "    preprocessing.MinMaxScaler(),\n",
    "    anomaly.HalfSpaceTrees(seed=42)\n",
    ")\n",
    "\n",
    "auc = metrics.ROCAUC()\n",
    "\n",
    "for x, y in datasets.CreditCard().take(2500):\n",
    "    score = model.score_one(x)\n",
    "    model.learn_one(x)\n",
    "    auc.update(y, score)\n",
    "\n",
    "auc"
   ]
  },
  {
   "cell_type": "code",
   "execution_count": 14,
   "metadata": {},
   "outputs": [
    {
     "name": "stdout",
     "output_type": "stream",
     "text": [
      "{'Time': 2072.0, 'V1': -2.6800918359723, 'V2': -2.02926897129268, 'V3': 1.03264279720913, 'V4': 1.09696792325082, 'V5': 3.84472133848605, 'V6': -3.3043394675384, 'V7': -1.01558637004872, 'V8': -0.471079676453928, 'V9': 0.435722895937725, 'V10': -0.263433344878553, 'V11': -0.131910196929606, 'V12': -1.06804620471524, 'V13': -1.57115355137907, 'V14': -1.61760544976294, 'V15': 0.883059849991427, 'V16': 0.726776901490985, 'V17': 0.515266817151798, 'V18': 0.710599738653984, 'V19': -1.04683046400677, 'V20': -0.599776531254664, 'V21': -0.266218650720272, 'V22': -0.232672399668787, 'V23': -0.821725671313424, 'V24': 0.290202670805187, 'V25': 0.119130004796419, 'V26': -0.520188270249575, 'V27': 0.0399481404211563, 'V28': -0.564946233860938, 'Amount': 1.0} \n",
      " 0\n"
     ]
    }
   ],
   "source": [
    "print(x, \"\\n\", y)"
   ]
  },
  {
   "cell_type": "code",
   "execution_count": null,
   "metadata": {},
   "outputs": [],
   "source": []
  }
 ],
 "metadata": {
  "kernelspec": {
   "display_name": "Python 3",
   "language": "python",
   "name": "python3"
  },
  "language_info": {
   "codemirror_mode": {
    "name": "ipython",
    "version": 3
   },
   "file_extension": ".py",
   "mimetype": "text/x-python",
   "name": "python",
   "nbconvert_exporter": "python",
   "pygments_lexer": "ipython3",
   "version": "3.10.14"
  }
 },
 "nbformat": 4,
 "nbformat_minor": 2
}
