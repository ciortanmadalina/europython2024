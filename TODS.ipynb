{
  "cells": [
    {
      "cell_type": "markdown",
      "metadata": {
        "id": "lzyLLsuhoiYC"
      },
      "source": [
        "# **TODS** (Automated Time Series Outlier Detection System)"
      ]
    },
    {
      "cell_type": "markdown",
      "metadata": {
        "id": "RLUmq4y3oiYF"
      },
      "source": [
        "## Introduction Summary"
      ]
    },
    {
      "cell_type": "markdown",
      "metadata": {
        "id": "Gfr8PghHoiYG"
      },
      "source": [
        "TODS is a full-stack automated machine learning system for outlier detection on multivariate time-series data. TODS provides exhaustive modules for building machine learning-based outlier detection systems, including: data processing, time series processing, feature analysis (extraction), detection algorithms, and reinforcement module. The functionalities provided via these modules include data preprocessing for general purposes, time series data smoothing/transformation, extracting features from time/frequency domains, various detection algorithms, and involving human expertise to calibrate the system. Three common outlier detection scenarios on time-series data can be performed: point-wise detection (time points as outliers), pattern-wise detection (subsequences as outliers), and system-wise detection (sets of time series as outliers), and a wide-range of corresponding algorithms are provided in TODS. This package is developed by DATA Lab @ Texas A&M University."
      ]
    },
    {
      "cell_type": "markdown",
      "metadata": {
        "id": "0357BXMUoiYG"
      },
      "source": [
        "## Packages"
      ]
    },
    {
      "cell_type": "markdown",
      "source": [
        "**PLEASE READ**: First run the cell below, DO NOT click \"RUN ALL\".\n",
        "\n",
        "\n",
        "\n",
        "\n",
        "\n",
        "\n"
      ],
      "metadata": {
        "id": "XNEivpVOXWQS"
      }
    },
    {
      "cell_type": "code",
      "source": [
        "import warnings\n",
        "warnings.filterwarnings(\"ignore\")\n",
        "\n",
        "!pip install -e git+https://github.com/datamllab/tods.git@dev#egg=tods\n",
        "exit()"
      ],
      "metadata": {
        "id": "c8Cr9u6SQvQx",
        "colab": {
          "base_uri": "https://localhost:8080/",
          "height": 1000
        },
        "outputId": "9ad8fc98-97de-40bb-d330-4af89765f265"
      },
      "execution_count": null,
      "outputs": [
        {
          "output_type": "stream",
          "name": "stdout",
          "text": [
            "Looking in indexes: https://pypi.org/simple, https://us-python.pkg.dev/colab-wheels/public/simple/\n",
            "Obtaining tods from git+https://github.com/datamllab/tods.git@dev#egg=tods\n",
            "  Cloning https://github.com/datamllab/tods.git (to revision dev) to ./src/tods\n",
            "  Running command git clone -q https://github.com/datamllab/tods.git /content/src/tods\n",
            "  Running command git checkout -b dev --track origin/dev\n",
            "  Switched to a new branch 'dev'\n",
            "  Branch 'dev' set up to track remote branch 'dev' from 'origin'.\n",
            "Collecting tamu_d3m==2022.05.23\n",
            "  Downloading tamu_d3m-2022.5.23-py3-none-any.whl (313 kB)\n",
            "\u001b[K     |████████████████████████████████| 313 kB 3.5 MB/s \n",
            "\u001b[?25hCollecting tamu_axolotl\n",
            "  Downloading tamu_axolotl-2021.4.8-py3-none-any.whl (88 kB)\n",
            "\u001b[K     |████████████████████████████████| 88 kB 3.6 MB/s \n",
            "\u001b[?25hCollecting numpy<=1.21.2\n",
            "  Downloading numpy-1.21.2-cp37-cp37m-manylinux_2_12_x86_64.manylinux2010_x86_64.whl (15.7 MB)\n",
            "\u001b[K     |████████████████████████████████| 15.7 MB 8.8 MB/s \n",
            "\u001b[?25hCollecting combo\n",
            "  Downloading combo-0.1.3.tar.gz (38 kB)\n",
            "Collecting simplejson==3.12.0\n",
            "  Downloading simplejson-3.12.0.tar.gz (77 kB)\n",
            "\u001b[K     |████████████████████████████████| 77 kB 5.5 MB/s \n",
            "\u001b[?25hRequirement already satisfied: scikit-learn in /usr/local/lib/python3.7/dist-packages (from tods) (1.0.2)\n",
            "Collecting statsmodels==0.11.1\n",
            "  Downloading statsmodels-0.11.1-cp37-cp37m-manylinux1_x86_64.whl (8.7 MB)\n",
            "\u001b[K     |████████████████████████████████| 8.7 MB 44.3 MB/s \n",
            "\u001b[?25hRequirement already satisfied: PyWavelets>=1.1.1 in /usr/local/lib/python3.7/dist-packages (from tods) (1.3.0)\n",
            "Requirement already satisfied: pillow==7.1.2 in /usr/local/lib/python3.7/dist-packages (from tods) (7.1.2)\n",
            "Collecting tensorflow==2.4\n",
            "  Downloading tensorflow-2.4.0-cp37-cp37m-manylinux2010_x86_64.whl (394.7 MB)\n",
            "\u001b[K     |████████████████████████████████| 394.7 MB 15 kB/s \n",
            "\u001b[?25hCollecting keras==2.4.0\n",
            "  Downloading Keras-2.4.0-py2.py3-none-any.whl (170 kB)\n",
            "\u001b[K     |████████████████████████████████| 170 kB 41.9 MB/s \n",
            "\u001b[?25hCollecting pyod\n",
            "  Downloading pyod-1.0.5.tar.gz (137 kB)\n",
            "\u001b[K     |████████████████████████████████| 137 kB 57.6 MB/s \n",
            "\u001b[?25hCollecting nimfa==1.4.0\n",
            "  Downloading nimfa-1.4.0-py2.py3-none-any.whl (4.7 MB)\n",
            "\u001b[K     |████████████████████████████████| 4.7 MB 44.3 MB/s \n",
            "\u001b[?25hCollecting stumpy==1.4.0\n",
            "  Downloading stumpy-1.4.0-py3-none-any.whl (48 kB)\n",
            "\u001b[K     |████████████████████████████████| 48 kB 4.9 MB/s \n",
            "\u001b[?25hCollecting more-itertools==8.5.0\n",
            "  Downloading more_itertools-8.5.0-py3-none-any.whl (44 kB)\n",
            "\u001b[K     |████████████████████████████████| 44 kB 2.8 MB/s \n",
            "\u001b[?25hRequirement already satisfied: xgboost in /usr/local/lib/python3.7/dist-packages (from tods) (0.90)\n",
            "Requirement already satisfied: h5py in /usr/local/lib/python3.7/dist-packages (from keras==2.4.0->tods) (3.1.0)\n",
            "Requirement already satisfied: pyyaml in /usr/local/lib/python3.7/dist-packages (from keras==2.4.0->tods) (6.0)\n",
            "Requirement already satisfied: scipy>=0.14 in /usr/local/lib/python3.7/dist-packages (from keras==2.4.0->tods) (1.7.3)\n",
            "Requirement already satisfied: patsy>=0.5 in /usr/local/lib/python3.7/dist-packages (from statsmodels==0.11.1->tods) (0.5.2)\n",
            "Requirement already satisfied: pandas>=0.21 in /usr/local/lib/python3.7/dist-packages (from statsmodels==0.11.1->tods) (1.3.5)\n",
            "Requirement already satisfied: numba>=0.42.0 in /usr/local/lib/python3.7/dist-packages (from stumpy==1.4.0->tods) (0.56.2)\n",
            "Collecting webcolors<=1.11.1,>=1.8.1\n",
            "  Downloading webcolors-1.11.1-py3-none-any.whl (9.9 kB)\n",
            "Collecting pandas>=0.21\n",
            "  Downloading pandas-1.3.4-cp37-cp37m-manylinux_2_17_x86_64.manylinux2014_x86_64.whl (11.3 MB)\n",
            "\u001b[K     |████████████████████████████████| 11.3 MB 27.2 MB/s \n",
            "\u001b[?25hCollecting pytypes>=1.0b5\n",
            "  Downloading pytypes-1.0b10-py2.py3-none-any.whl (87 kB)\n",
            "\u001b[K     |████████████████████████████████| 87 kB 6.0 MB/s \n",
            "\u001b[?25hCollecting scipy>=0.14\n",
            "  Downloading scipy-1.7.1-cp37-cp37m-manylinux_2_5_x86_64.manylinux1_x86_64.whl (28.5 MB)\n",
            "\u001b[K     |████████████████████████████████| 28.5 MB 96.4 MB/s \n",
            "\u001b[?25hCollecting typing-inspect==0.7.1\n",
            "  Downloading typing_inspect-0.7.1-py3-none-any.whl (8.4 kB)\n",
            "Collecting GitPython<=3.1.24,>=3.1.0\n",
            "  Downloading GitPython-3.1.24-py3-none-any.whl (180 kB)\n",
            "\u001b[K     |████████████████████████████████| 180 kB 51.4 MB/s \n",
            "\u001b[?25hRequirement already satisfied: python-dateutil<=2.8.2,>=2.8.1 in /usr/local/lib/python3.7/dist-packages (from tamu_d3m==2022.05.23->tods) (2.8.2)\n",
            "Collecting jsonschema<=4.0.1,>=3.0.2\n",
            "  Downloading jsonschema-4.0.1-py3-none-any.whl (69 kB)\n",
            "\u001b[K     |████████████████████████████████| 69 kB 4.8 MB/s \n",
            "\u001b[?25hCollecting pyrsistent<=0.18.0,>=0.14.11\n",
            "  Downloading pyrsistent-0.18.0-cp37-cp37m-manylinux1_x86_64.whl (119 kB)\n",
            "\u001b[K     |████████████████████████████████| 119 kB 59.0 MB/s \n",
            "\u001b[?25hCollecting scikit-learn\n",
            "  Downloading scikit_learn-0.24.2-cp37-cp37m-manylinux2010_x86_64.whl (22.3 MB)\n",
            "\u001b[K     |████████████████████████████████| 22.3 MB 1.4 MB/s \n",
            "\u001b[?25hCollecting gputil<=1.4.0,>=1.3.0\n",
            "  Downloading GPUtil-1.4.0.tar.gz (5.5 kB)\n",
            "Collecting openml==0.11.0\n",
            "  Downloading openml-0.11.0.tar.gz (110 kB)\n",
            "\u001b[K     |████████████████████████████████| 110 kB 53.3 MB/s \n",
            "\u001b[?25hRequirement already satisfied: requests<=2.26.0,>=2.19.1 in /usr/local/lib/python3.7/dist-packages (from tamu_d3m==2022.05.23->tods) (2.23.0)\n",
            "Collecting pyyaml\n",
            "  Downloading PyYAML-5.4.1-cp37-cp37m-manylinux1_x86_64.whl (636 kB)\n",
            "\u001b[K     |████████████████████████████████| 636 kB 40.7 MB/s \n",
            "\u001b[?25hCollecting jsonpath-ng<=1.5.3,>=1.4.3\n",
            "  Downloading jsonpath_ng-1.5.3-py3-none-any.whl (29 kB)\n",
            "Collecting custom-inherit<=2.3.2,>=2.2.0\n",
            "  Downloading custom_inherit-2.3.2-py3-none-any.whl (14 kB)\n",
            "Collecting dateparser<1.2.0,>=0.7.0\n",
            "  Downloading dateparser-1.1.1-py2.py3-none-any.whl (288 kB)\n",
            "\u001b[K     |████████████████████████████████| 288 kB 50.9 MB/s \n",
            "\u001b[?25hCollecting rfc3986-validator<0.2,>=0.1\n",
            "  Downloading rfc3986_validator-0.1.1-py2.py3-none-any.whl (4.2 kB)\n",
            "Collecting rfc3339-validator<0.2,>=0.1\n",
            "  Downloading rfc3339_validator-0.1.4-py2.py3-none-any.whl (3.5 kB)\n",
            "Collecting frozendict==1.2\n",
            "  Downloading frozendict-1.2.tar.gz (2.6 kB)\n",
            "Collecting liac-arff>=2.4.0\n",
            "  Downloading liac-arff-2.5.0.tar.gz (13 kB)\n",
            "Collecting xmltodict\n",
            "  Downloading xmltodict-0.13.0-py2.py3-none-any.whl (10.0 kB)\n",
            "Collecting tensorflow-estimator<2.5.0,>=2.4.0rc0\n",
            "  Downloading tensorflow_estimator-2.4.0-py2.py3-none-any.whl (462 kB)\n",
            "\u001b[K     |████████████████████████████████| 462 kB 65.4 MB/s \n",
            "\u001b[?25hRequirement already satisfied: protobuf>=3.9.2 in /usr/local/lib/python3.7/dist-packages (from tensorflow==2.4->tods) (3.17.3)\n",
            "Requirement already satisfied: google-pasta~=0.2 in /usr/local/lib/python3.7/dist-packages (from tensorflow==2.4->tods) (0.2.0)\n",
            "Collecting numpy<=1.21.2\n",
            "  Downloading numpy-1.19.5-cp37-cp37m-manylinux2010_x86_64.whl (14.8 MB)\n",
            "\u001b[K     |████████████████████████████████| 14.8 MB 55.5 MB/s \n",
            "\u001b[?25hCollecting grpcio~=1.32.0\n",
            "  Downloading grpcio-1.32.0-cp37-cp37m-manylinux2014_x86_64.whl (3.8 MB)\n",
            "\u001b[K     |████████████████████████████████| 3.8 MB 16.0 MB/s \n",
            "\u001b[?25hRequirement already satisfied: astunparse~=1.6.3 in /usr/local/lib/python3.7/dist-packages (from tensorflow==2.4->tods) (1.6.3)\n",
            "Collecting absl-py~=0.10\n",
            "  Downloading absl_py-0.15.0-py3-none-any.whl (132 kB)\n",
            "\u001b[K     |████████████████████████████████| 132 kB 64.1 MB/s \n",
            "\u001b[?25hCollecting typing-extensions~=3.7.4\n",
            "  Downloading typing_extensions-3.7.4.3-py3-none-any.whl (22 kB)\n",
            "Requirement already satisfied: opt-einsum~=3.3.0 in /usr/local/lib/python3.7/dist-packages (from tensorflow==2.4->tods) (3.3.0)\n",
            "Collecting flatbuffers~=1.12.0\n",
            "  Downloading flatbuffers-1.12-py2.py3-none-any.whl (15 kB)\n",
            "Requirement already satisfied: six~=1.15.0 in /usr/local/lib/python3.7/dist-packages (from tensorflow==2.4->tods) (1.15.0)\n",
            "Collecting wrapt~=1.12.1\n",
            "  Downloading wrapt-1.12.1.tar.gz (27 kB)\n",
            "Collecting h5py\n",
            "  Downloading h5py-2.10.0-cp37-cp37m-manylinux1_x86_64.whl (2.9 MB)\n",
            "\u001b[K     |████████████████████████████████| 2.9 MB 47.0 MB/s \n",
            "\u001b[?25hCollecting gast==0.3.3\n",
            "  Downloading gast-0.3.3-py2.py3-none-any.whl (9.7 kB)\n",
            "Requirement already satisfied: wheel~=0.35 in /usr/local/lib/python3.7/dist-packages (from tensorflow==2.4->tods) (0.37.1)\n",
            "Requirement already satisfied: tensorboard~=2.4 in /usr/local/lib/python3.7/dist-packages (from tensorflow==2.4->tods) (2.8.0)\n",
            "Requirement already satisfied: termcolor~=1.1.0 in /usr/local/lib/python3.7/dist-packages (from tensorflow==2.4->tods) (1.1.0)\n",
            "Requirement already satisfied: keras-preprocessing~=1.1.2 in /usr/local/lib/python3.7/dist-packages (from tensorflow==2.4->tods) (1.1.2)\n",
            "Collecting mypy-extensions>=0.3.0\n",
            "  Downloading mypy_extensions-0.4.3-py2.py3-none-any.whl (4.5 kB)\n",
            "Collecting regex!=2019.02.19,!=2021.8.27,<2022.3.15\n",
            "  Downloading regex-2022.3.2-cp37-cp37m-manylinux_2_17_x86_64.manylinux2014_x86_64.whl (749 kB)\n",
            "\u001b[K     |████████████████████████████████| 749 kB 50.5 MB/s \n",
            "\u001b[?25hRequirement already satisfied: pytz in /usr/local/lib/python3.7/dist-packages (from dateparser<1.2.0,>=0.7.0->tamu_d3m==2022.05.23->tods) (2022.2.1)\n",
            "Requirement already satisfied: tzlocal in /usr/local/lib/python3.7/dist-packages (from dateparser<1.2.0,>=0.7.0->tamu_d3m==2022.05.23->tods) (1.5.1)\n",
            "Collecting gitdb<5,>=4.0.1\n",
            "  Downloading gitdb-4.0.9-py3-none-any.whl (63 kB)\n",
            "\u001b[K     |████████████████████████████████| 63 kB 1.7 MB/s \n",
            "\u001b[?25hCollecting smmap<6,>=3.0.1\n",
            "  Downloading smmap-5.0.0-py3-none-any.whl (24 kB)\n",
            "Requirement already satisfied: decorator in /usr/local/lib/python3.7/dist-packages (from jsonpath-ng<=1.5.3,>=1.4.3->tamu_d3m==2022.05.23->tods) (4.4.2)\n",
            "Collecting ply\n",
            "  Downloading ply-3.11-py2.py3-none-any.whl (49 kB)\n",
            "\u001b[K     |████████████████████████████████| 49 kB 6.4 MB/s \n",
            "\u001b[?25hRequirement already satisfied: attrs>=17.4.0 in /usr/local/lib/python3.7/dist-packages (from jsonschema<=4.0.1,>=3.0.2->tamu_d3m==2022.05.23->tods) (22.1.0)\n",
            "Requirement already satisfied: importlib-metadata in /usr/local/lib/python3.7/dist-packages (from jsonschema<=4.0.1,>=3.0.2->tamu_d3m==2022.05.23->tods) (4.12.0)\n",
            "Requirement already satisfied: setuptools<60 in /usr/local/lib/python3.7/dist-packages (from numba>=0.42.0->stumpy==1.4.0->tods) (57.4.0)\n",
            "Requirement already satisfied: llvmlite<0.40,>=0.39.0dev0 in /usr/local/lib/python3.7/dist-packages (from numba>=0.42.0->stumpy==1.4.0->tods) (0.39.1)\n",
            "Requirement already satisfied: chardet<4,>=3.0.2 in /usr/local/lib/python3.7/dist-packages (from requests<=2.26.0,>=2.19.1->tamu_d3m==2022.05.23->tods) (3.0.4)\n",
            "Requirement already satisfied: certifi>=2017.4.17 in /usr/local/lib/python3.7/dist-packages (from requests<=2.26.0,>=2.19.1->tamu_d3m==2022.05.23->tods) (2022.6.15)\n",
            "Requirement already satisfied: urllib3!=1.25.0,!=1.25.1,<1.26,>=1.21.1 in /usr/local/lib/python3.7/dist-packages (from requests<=2.26.0,>=2.19.1->tamu_d3m==2022.05.23->tods) (1.24.3)\n",
            "Requirement already satisfied: idna<3,>=2.5 in /usr/local/lib/python3.7/dist-packages (from requests<=2.26.0,>=2.19.1->tamu_d3m==2022.05.23->tods) (2.10)\n",
            "Requirement already satisfied: joblib>=0.11 in /usr/local/lib/python3.7/dist-packages (from scikit-learn->tods) (1.1.0)\n",
            "Requirement already satisfied: threadpoolctl>=2.0.0 in /usr/local/lib/python3.7/dist-packages (from scikit-learn->tods) (3.1.0)\n",
            "Requirement already satisfied: werkzeug>=0.11.15 in /usr/local/lib/python3.7/dist-packages (from tensorboard~=2.4->tensorflow==2.4->tods) (1.0.1)\n",
            "Requirement already satisfied: tensorboard-plugin-wit>=1.6.0 in /usr/local/lib/python3.7/dist-packages (from tensorboard~=2.4->tensorflow==2.4->tods) (1.8.1)\n",
            "Requirement already satisfied: tensorboard-data-server<0.7.0,>=0.6.0 in /usr/local/lib/python3.7/dist-packages (from tensorboard~=2.4->tensorflow==2.4->tods) (0.6.1)\n",
            "Requirement already satisfied: google-auth<3,>=1.6.3 in /usr/local/lib/python3.7/dist-packages (from tensorboard~=2.4->tensorflow==2.4->tods) (1.35.0)\n",
            "Requirement already satisfied: markdown>=2.6.8 in /usr/local/lib/python3.7/dist-packages (from tensorboard~=2.4->tensorflow==2.4->tods) (3.4.1)\n",
            "Requirement already satisfied: google-auth-oauthlib<0.5,>=0.4.1 in /usr/local/lib/python3.7/dist-packages (from tensorboard~=2.4->tensorflow==2.4->tods) (0.4.6)\n",
            "Requirement already satisfied: pyasn1-modules>=0.2.1 in /usr/local/lib/python3.7/dist-packages (from google-auth<3,>=1.6.3->tensorboard~=2.4->tensorflow==2.4->tods) (0.2.8)\n",
            "Requirement already satisfied: cachetools<5.0,>=2.0.0 in /usr/local/lib/python3.7/dist-packages (from google-auth<3,>=1.6.3->tensorboard~=2.4->tensorflow==2.4->tods) (4.2.4)\n",
            "Requirement already satisfied: rsa<5,>=3.1.4 in /usr/local/lib/python3.7/dist-packages (from google-auth<3,>=1.6.3->tensorboard~=2.4->tensorflow==2.4->tods) (4.9)\n",
            "Requirement already satisfied: requests-oauthlib>=0.7.0 in /usr/local/lib/python3.7/dist-packages (from google-auth-oauthlib<0.5,>=0.4.1->tensorboard~=2.4->tensorflow==2.4->tods) (1.3.1)\n",
            "Requirement already satisfied: zipp>=0.5 in /usr/local/lib/python3.7/dist-packages (from importlib-metadata->jsonschema<=4.0.1,>=3.0.2->tamu_d3m==2022.05.23->tods) (3.8.1)\n",
            "Requirement already satisfied: pyasn1<0.5.0,>=0.4.6 in /usr/local/lib/python3.7/dist-packages (from pyasn1-modules>=0.2.1->google-auth<3,>=1.6.3->tensorboard~=2.4->tensorflow==2.4->tods) (0.4.8)\n",
            "Requirement already satisfied: oauthlib>=3.0.0 in /usr/local/lib/python3.7/dist-packages (from requests-oauthlib>=0.7.0->google-auth-oauthlib<0.5,>=0.4.1->tensorboard~=2.4->tensorflow==2.4->tods) (3.2.0)\n",
            "Requirement already satisfied: matplotlib in /usr/local/lib/python3.7/dist-packages (from combo->tods) (3.2.2)\n",
            "Requirement already satisfied: kiwisolver>=1.0.1 in /usr/local/lib/python3.7/dist-packages (from matplotlib->combo->tods) (1.4.4)\n",
            "Requirement already satisfied: pyparsing!=2.0.4,!=2.1.2,!=2.1.6,>=2.0.1 in /usr/local/lib/python3.7/dist-packages (from matplotlib->combo->tods) (3.0.9)\n",
            "Requirement already satisfied: cycler>=0.10 in /usr/local/lib/python3.7/dist-packages (from matplotlib->combo->tods) (0.11.0)\n",
            "Collecting ray<=1.0.1.post1\n",
            "  Downloading ray-1.0.1.post1-cp37-cp37m-manylinux1_x86_64.whl (23.1 MB)\n",
            "\u001b[K     |████████████████████████████████| 23.1 MB 1.5 MB/s \n",
            "\u001b[?25hCollecting grpcio-testing\n",
            "  Downloading grpcio_testing-1.48.1-py3-none-any.whl (33 kB)\n",
            "Collecting grpcio-tools\n",
            "  Downloading grpcio_tools-1.48.1-cp37-cp37m-manylinux_2_17_x86_64.manylinux2014_x86_64.whl (2.4 MB)\n",
            "\u001b[K     |████████████████████████████████| 2.4 MB 60.5 MB/s \n",
            "\u001b[?25hCollecting networkx==2.4\n",
            "  Downloading networkx-2.4-py3-none-any.whl (1.6 MB)\n",
            "\u001b[K     |████████████████████████████████| 1.6 MB 51.5 MB/s \n",
            "\u001b[?25hRequirement already satisfied: msgpack<2.0.0,>=1.0.0 in /usr/local/lib/python3.7/dist-packages (from ray<=1.0.1.post1->tamu_axolotl->tods) (1.0.4)\n",
            "Collecting colorama\n",
            "  Downloading colorama-0.4.5-py2.py3-none-any.whl (16 kB)\n",
            "Requirement already satisfied: click>=7.0 in /usr/local/lib/python3.7/dist-packages (from ray<=1.0.1.post1->tamu_axolotl->tods) (7.1.2)\n",
            "Collecting aioredis\n",
            "  Downloading aioredis-2.0.1-py3-none-any.whl (71 kB)\n",
            "\u001b[K     |████████████████████████████████| 71 kB 8.4 MB/s \n",
            "\u001b[?25hCollecting aiohttp-cors\n",
            "  Downloading aiohttp_cors-0.7.0-py3-none-any.whl (27 kB)\n",
            "Requirement already satisfied: google in /usr/local/lib/python3.7/dist-packages (from ray<=1.0.1.post1->tamu_axolotl->tods) (2.0.3)\n",
            "Collecting opencensus\n",
            "  Downloading opencensus-0.11.0-py2.py3-none-any.whl (128 kB)\n",
            "\u001b[K     |████████████████████████████████| 128 kB 54.3 MB/s \n",
            "\u001b[?25hCollecting prometheus-client>=0.7.1\n",
            "  Downloading prometheus_client-0.14.1-py3-none-any.whl (59 kB)\n",
            "\u001b[K     |████████████████████████████████| 59 kB 3.9 MB/s \n",
            "\u001b[?25hRequirement already satisfied: filelock in /usr/local/lib/python3.7/dist-packages (from ray<=1.0.1.post1->tamu_axolotl->tods) (3.8.0)\n",
            "Requirement already satisfied: aiohttp in /usr/local/lib/python3.7/dist-packages (from ray<=1.0.1.post1->tamu_axolotl->tods) (3.8.1)\n",
            "Collecting py-spy>=0.2.0\n",
            "  Downloading py_spy-0.3.14-py2.py3-none-manylinux_2_5_x86_64.manylinux1_x86_64.whl (3.0 MB)\n",
            "\u001b[K     |████████████████████████████████| 3.0 MB 55.7 MB/s \n",
            "\u001b[?25hCollecting redis<3.5.0,>=3.3.2\n",
            "  Downloading redis-3.4.1-py2.py3-none-any.whl (71 kB)\n",
            "\u001b[K     |████████████████████████████████| 71 kB 8.0 MB/s \n",
            "\u001b[?25hCollecting gpustat\n",
            "  Downloading gpustat-1.0.0.tar.gz (90 kB)\n",
            "\u001b[K     |████████████████████████████████| 90 kB 8.7 MB/s \n",
            "\u001b[?25hCollecting colorful\n",
            "  Downloading colorful-0.5.4-py2.py3-none-any.whl (201 kB)\n",
            "\u001b[K     |████████████████████████████████| 201 kB 69.3 MB/s \n",
            "\u001b[?25hRequirement already satisfied: aiosignal>=1.1.2 in /usr/local/lib/python3.7/dist-packages (from aiohttp->ray<=1.0.1.post1->tamu_axolotl->tods) (1.2.0)\n",
            "Requirement already satisfied: frozenlist>=1.1.1 in /usr/local/lib/python3.7/dist-packages (from aiohttp->ray<=1.0.1.post1->tamu_axolotl->tods) (1.3.1)\n",
            "Requirement already satisfied: asynctest==0.13.0 in /usr/local/lib/python3.7/dist-packages (from aiohttp->ray<=1.0.1.post1->tamu_axolotl->tods) (0.13.0)\n",
            "Requirement already satisfied: async-timeout<5.0,>=4.0.0a3 in /usr/local/lib/python3.7/dist-packages (from aiohttp->ray<=1.0.1.post1->tamu_axolotl->tods) (4.0.2)\n",
            "Requirement already satisfied: charset-normalizer<3.0,>=2.0 in /usr/local/lib/python3.7/dist-packages (from aiohttp->ray<=1.0.1.post1->tamu_axolotl->tods) (2.1.1)\n",
            "Requirement already satisfied: multidict<7.0,>=4.5 in /usr/local/lib/python3.7/dist-packages (from aiohttp->ray<=1.0.1.post1->tamu_axolotl->tods) (6.0.2)\n",
            "Requirement already satisfied: yarl<2.0,>=1.0 in /usr/local/lib/python3.7/dist-packages (from aiohttp->ray<=1.0.1.post1->tamu_axolotl->tods) (1.8.1)\n",
            "Requirement already satisfied: beautifulsoup4 in /usr/local/lib/python3.7/dist-packages (from google->ray<=1.0.1.post1->tamu_axolotl->tods) (4.6.3)\n",
            "Collecting nvidia-ml-py<=11.495.46,>=11.450.129\n",
            "  Downloading nvidia_ml_py-11.495.46-py3-none-any.whl (25 kB)\n",
            "Collecting psutil>=5.6.0\n",
            "  Downloading psutil-5.9.2-cp37-cp37m-manylinux_2_12_x86_64.manylinux2010_x86_64.manylinux_2_17_x86_64.manylinux2014_x86_64.whl (281 kB)\n",
            "\u001b[K     |████████████████████████████████| 281 kB 69.1 MB/s \n",
            "\u001b[?25hCollecting blessed>=1.17.1\n",
            "  Downloading blessed-1.19.1-py2.py3-none-any.whl (58 kB)\n",
            "\u001b[K     |████████████████████████████████| 58 kB 5.7 MB/s \n",
            "\u001b[?25hRequirement already satisfied: wcwidth>=0.1.4 in /usr/local/lib/python3.7/dist-packages (from blessed>=1.17.1->gpustat->ray<=1.0.1.post1->tamu_axolotl->tods) (0.2.5)\n",
            "Collecting grpcio-testing\n",
            "  Downloading grpcio_testing-1.47.0-py3-none-any.whl (28 kB)\n",
            "  Downloading grpcio_testing-1.46.3-py3-none-any.whl (28 kB)\n",
            "  Downloading grpcio_testing-1.46.1-py3-none-any.whl (28 kB)\n",
            "  Downloading grpcio_testing-1.46.0-py3-none-any.whl (28 kB)\n",
            "  Downloading grpcio_testing-1.44.0-py3-none-any.whl (28 kB)\n",
            "  Downloading grpcio_testing-1.43.0-py3-none-any.whl (28 kB)\n",
            "  Downloading grpcio_testing-1.42.0-py3-none-any.whl (28 kB)\n",
            "  Downloading grpcio_testing-1.41.1-py3-none-any.whl (27 kB)\n",
            "  Downloading grpcio_testing-1.41.0-py3-none-any.whl (27 kB)\n",
            "  Downloading grpcio_testing-1.40.0-py3-none-any.whl (28 kB)\n",
            "  Downloading grpcio_testing-1.39.0-py3-none-any.whl (28 kB)\n",
            "  Downloading grpcio_testing-1.38.1-py3-none-any.whl (28 kB)\n",
            "  Downloading grpcio_testing-1.38.0-py3-none-any.whl (28 kB)\n",
            "  Downloading grpcio-testing-1.37.1.tar.gz (16 kB)\n",
            "  Downloading grpcio-testing-1.37.0.tar.gz (16 kB)\n",
            "  Downloading grpcio-testing-1.36.1.tar.gz (16 kB)\n",
            "  Downloading grpcio-testing-1.36.0.tar.gz (16 kB)\n",
            "  Downloading grpcio-testing-1.35.0.tar.gz (16 kB)\n",
            "  Downloading grpcio-testing-1.34.1.tar.gz (16 kB)\n",
            "  Downloading grpcio-testing-1.34.0.tar.gz (16 kB)\n",
            "  Downloading grpcio-testing-1.33.2.tar.gz (17 kB)\n",
            "  Downloading grpcio-testing-1.33.1.tar.gz (16 kB)\n",
            "  Downloading grpcio-testing-1.32.0.tar.gz (16 kB)\n",
            "Collecting grpcio-tools\n",
            "  Downloading grpcio_tools-1.47.0-cp37-cp37m-manylinux_2_17_x86_64.manylinux2014_x86_64.whl (2.4 MB)\n",
            "\u001b[K     |████████████████████████████████| 2.4 MB 44.2 MB/s \n",
            "\u001b[?25h  Downloading grpcio_tools-1.46.3-cp37-cp37m-manylinux_2_17_x86_64.manylinux2014_x86_64.whl (2.4 MB)\n",
            "\u001b[K     |████████████████████████████████| 2.4 MB 59.3 MB/s \n",
            "\u001b[?25h  Downloading grpcio_tools-1.46.1-cp37-cp37m-manylinux_2_17_x86_64.manylinux2014_x86_64.whl (2.4 MB)\n",
            "\u001b[K     |████████████████████████████████| 2.4 MB 28.8 MB/s \n",
            "\u001b[?25h  Downloading grpcio_tools-1.46.0-cp37-cp37m-manylinux_2_17_x86_64.manylinux2014_x86_64.whl (2.4 MB)\n",
            "\u001b[K     |████████████████████████████████| 2.4 MB 47.6 MB/s \n",
            "\u001b[?25h  Downloading grpcio_tools-1.44.0-cp37-cp37m-manylinux_2_17_x86_64.manylinux2014_x86_64.whl (2.4 MB)\n",
            "\u001b[K     |████████████████████████████████| 2.4 MB 49.2 MB/s \n",
            "\u001b[?25h  Downloading grpcio_tools-1.43.0-cp37-cp37m-manylinux_2_17_x86_64.manylinux2014_x86_64.whl (2.4 MB)\n",
            "\u001b[K     |████████████████████████████████| 2.4 MB 35.4 MB/s \n",
            "\u001b[?25h  Downloading grpcio_tools-1.42.0-cp37-cp37m-manylinux_2_17_x86_64.manylinux2014_x86_64.whl (2.4 MB)\n",
            "\u001b[K     |████████████████████████████████| 2.4 MB 21.3 MB/s \n",
            "\u001b[?25h  Downloading grpcio_tools-1.41.1-cp37-cp37m-manylinux_2_17_x86_64.manylinux2014_x86_64.whl (2.4 MB)\n",
            "\u001b[K     |████████████████████████████████| 2.4 MB 38.0 MB/s \n",
            "\u001b[?25h  Downloading grpcio_tools-1.41.0-cp37-cp37m-manylinux_2_17_x86_64.manylinux2014_x86_64.whl (2.4 MB)\n",
            "\u001b[K     |████████████████████████████████| 2.4 MB 41.9 MB/s \n",
            "\u001b[?25h  Downloading grpcio_tools-1.40.0-cp37-cp37m-manylinux2014_x86_64.whl (2.5 MB)\n",
            "\u001b[K     |████████████████████████████████| 2.5 MB 23.3 MB/s \n",
            "\u001b[?25h  Downloading grpcio_tools-1.39.0-cp37-cp37m-manylinux2014_x86_64.whl (2.5 MB)\n",
            "\u001b[K     |████████████████████████████████| 2.5 MB 49.9 MB/s \n",
            "\u001b[?25h  Downloading grpcio_tools-1.38.1-cp37-cp37m-manylinux2014_x86_64.whl (2.5 MB)\n",
            "\u001b[K     |████████████████████████████████| 2.5 MB 41.4 MB/s \n",
            "\u001b[?25h  Downloading grpcio_tools-1.38.0-cp37-cp37m-manylinux2014_x86_64.whl (2.5 MB)\n",
            "\u001b[K     |████████████████████████████████| 2.5 MB 45.7 MB/s \n",
            "\u001b[?25h  Downloading grpcio_tools-1.37.1-cp37-cp37m-manylinux2014_x86_64.whl (2.5 MB)\n",
            "\u001b[K     |████████████████████████████████| 2.5 MB 44.6 MB/s \n",
            "\u001b[?25h  Downloading grpcio_tools-1.37.0-cp37-cp37m-manylinux2014_x86_64.whl (2.5 MB)\n",
            "\u001b[K     |████████████████████████████████| 2.5 MB 29.9 MB/s \n",
            "\u001b[?25h  Downloading grpcio_tools-1.36.1-cp37-cp37m-manylinux2014_x86_64.whl (2.5 MB)\n",
            "\u001b[K     |████████████████████████████████| 2.5 MB 44.7 MB/s \n",
            "\u001b[?25h  Downloading grpcio_tools-1.36.0-cp37-cp37m-manylinux2014_x86_64.whl (2.5 MB)\n",
            "\u001b[K     |████████████████████████████████| 2.5 MB 45.8 MB/s \n",
            "\u001b[?25h  Downloading grpcio_tools-1.35.0-cp37-cp37m-manylinux2014_x86_64.whl (2.5 MB)\n",
            "\u001b[K     |████████████████████████████████| 2.5 MB 38.5 MB/s \n",
            "\u001b[?25h  Downloading grpcio_tools-1.34.1-cp37-cp37m-manylinux2014_x86_64.whl (2.5 MB)\n",
            "\u001b[K     |████████████████████████████████| 2.5 MB 59.2 MB/s \n",
            "\u001b[?25h  Downloading grpcio_tools-1.34.0-cp37-cp37m-manylinux2014_x86_64.whl (2.5 MB)\n",
            "\u001b[K     |████████████████████████████████| 2.5 MB 45.9 MB/s \n",
            "\u001b[?25h  Downloading grpcio_tools-1.33.2-cp37-cp37m-manylinux2014_x86_64.whl (2.5 MB)\n",
            "\u001b[K     |████████████████████████████████| 2.5 MB 45.2 MB/s \n",
            "\u001b[?25h  Downloading grpcio_tools-1.33.1-cp37-cp37m-manylinux2014_x86_64.whl (2.5 MB)\n",
            "\u001b[K     |████████████████████████████████| 2.5 MB 39.8 MB/s \n",
            "\u001b[?25h  Downloading grpcio_tools-1.32.0-cp37-cp37m-manylinux2014_x86_64.whl (2.5 MB)\n",
            "\u001b[K     |████████████████████████████████| 2.5 MB 43.1 MB/s \n",
            "\u001b[?25hCollecting opencensus-context>=0.1.3\n",
            "  Downloading opencensus_context-0.1.3-py2.py3-none-any.whl (5.1 kB)\n",
            "Requirement already satisfied: google-api-core<3.0.0,>=1.0.0 in /usr/local/lib/python3.7/dist-packages (from opencensus->ray<=1.0.1.post1->tamu_axolotl->tods) (1.31.6)\n",
            "Requirement already satisfied: googleapis-common-protos<2.0dev,>=1.6.0 in /usr/local/lib/python3.7/dist-packages (from google-api-core<3.0.0,>=1.0.0->opencensus->ray<=1.0.1.post1->tamu_axolotl->tods) (1.56.4)\n",
            "Requirement already satisfied: packaging>=14.3 in /usr/local/lib/python3.7/dist-packages (from google-api-core<3.0.0,>=1.0.0->opencensus->ray<=1.0.1.post1->tamu_axolotl->tods) (21.3)\n",
            "Building wheels for collected packages: simplejson, frozendict, openml, gputil, liac-arff, wrapt, combo, pyod, gpustat, grpcio-testing\n",
            "  Building wheel for simplejson (setup.py) ... \u001b[?25l\u001b[?25hdone\n",
            "  Created wheel for simplejson: filename=simplejson-3.12.0-cp37-cp37m-linux_x86_64.whl size=114038 sha256=5d825ca482cc82174114d4587f42ef0997b3a4ac4784b2684fc2256707972a5e\n",
            "  Stored in directory: /root/.cache/pip/wheels/ab/20/7e/1f3c9326443e2047bf83ce1e9667f259deaeed42269cc4d884\n",
            "  Building wheel for frozendict (setup.py) ... \u001b[?25l\u001b[?25hdone\n",
            "  Created wheel for frozendict: filename=frozendict-1.2-py3-none-any.whl size=3166 sha256=95789d2532b2cd98e56ed77d920ca76725fa63331c1cae721e006dcf6d2f0649\n",
            "  Stored in directory: /root/.cache/pip/wheels/68/17/69/ac196dd181e620bba5fae5488e4fd6366a7316dce13cf88776\n",
            "  Building wheel for openml (setup.py) ... \u001b[?25l\u001b[?25hdone\n",
            "  Created wheel for openml: filename=openml-0.11.0-py3-none-any.whl size=127467 sha256=4943367c71786e44a759d869c50cbf3ecbcc70dbda8ae76992f2ceccf6c17d19\n",
            "  Stored in directory: /root/.cache/pip/wheels/ef/fb/e8/723bdd14d02172ed4322b0cf6efcde4466069339e1c4fddc60\n",
            "  Building wheel for gputil (setup.py) ... \u001b[?25l\u001b[?25hdone\n",
            "  Created wheel for gputil: filename=GPUtil-1.4.0-py3-none-any.whl size=7411 sha256=91190865b61e157f6f7dd03c89a7a1f10292e734167b8ef1fe1a1de57bf967b0\n",
            "  Stored in directory: /root/.cache/pip/wheels/6e/f8/83/534c52482d6da64622ddbf72cd93c35d2ef2881b78fd08ff0c\n",
            "  Building wheel for liac-arff (setup.py) ... \u001b[?25l\u001b[?25hdone\n",
            "  Created wheel for liac-arff: filename=liac_arff-2.5.0-py3-none-any.whl size=11732 sha256=0bcfb2437813228509aac8efaec4b525b569aadeae7a1bb198f1356c470e96ea\n",
            "  Stored in directory: /root/.cache/pip/wheels/1f/0f/15/332ca86cbebf25ddf98518caaf887945fbe1712b97a0f2493b\n",
            "  Building wheel for wrapt (setup.py) ... \u001b[?25l\u001b[?25hdone\n",
            "  Created wheel for wrapt: filename=wrapt-1.12.1-cp37-cp37m-linux_x86_64.whl size=68723 sha256=3e77165f614442daa56140fb2544e55e12ed2d5d140179c4c88b99896b206d4e\n",
            "  Stored in directory: /root/.cache/pip/wheels/62/76/4c/aa25851149f3f6d9785f6c869387ad82b3fd37582fa8147ac6\n",
            "  Building wheel for combo (setup.py) ... \u001b[?25l\u001b[?25hdone\n",
            "  Created wheel for combo: filename=combo-0.1.3-py3-none-any.whl size=42884 sha256=ad5e78cf4d1b9206b67709065e8b8f1dd8742f7954276af89a49297a1394fd11\n",
            "  Stored in directory: /root/.cache/pip/wheels/b1/6e/c9/89dab355d4d5d58b11fe135b5839e8a3acc8b73273ffc68cde\n",
            "  Building wheel for pyod (setup.py) ... \u001b[?25l\u001b[?25hdone\n",
            "  Created wheel for pyod: filename=pyod-1.0.5-py3-none-any.whl size=170258 sha256=75fa98167fa273abd152c0520da04d75c2a7eb073962cc9672a10924a5b28b3a\n",
            "  Stored in directory: /root/.cache/pip/wheels/29/98/25/bc9bfccf3907de246c61668bc09c39216ec157f8218aea4c16\n",
            "  Building wheel for gpustat (setup.py) ... \u001b[?25l\u001b[?25hdone\n",
            "  Created wheel for gpustat: filename=gpustat-1.0.0-py3-none-any.whl size=19889 sha256=c7c823f456536747d6a597f4d8e7c0b32ff1de50b74c579e570cb690e27d5760\n",
            "  Stored in directory: /root/.cache/pip/wheels/d2/31/5c/eb69af6e2285e7d6ec8d7dc26435be7c81c6ad22c45efdcca7\n",
            "  Building wheel for grpcio-testing (setup.py) ... \u001b[?25l\u001b[?25hdone\n",
            "  Created wheel for grpcio-testing: filename=grpcio_testing-1.32.0-py3-none-any.whl size=28055 sha256=967a4ff5e5f190881fc773b066006d0881528bad569b7b6bb0873229af5d4966\n",
            "  Stored in directory: /root/.cache/pip/wheels/3f/5a/e7/a63710adbddcdcd210591e2fb744a4cc36d4214c1972ca510e\n",
            "Successfully built simplejson frozendict openml gputil liac-arff wrapt combo pyod gpustat grpcio-testing\n",
            "Installing collected packages: typing-extensions, numpy, smmap, scipy, xmltodict, scikit-learn, regex, pyrsistent, psutil, ply, pandas, opencensus-context, nvidia-ml-py, mypy-extensions, liac-arff, grpcio, gitdb, blessed, absl-py, wrapt, webcolors, typing-inspect, tensorflow-estimator, statsmodels, rfc3986-validator, rfc3339-validator, redis, pyyaml, pytypes, py-spy, prometheus-client, openml, opencensus, jsonschema, jsonpath-ng, h5py, gputil, gpustat, GitPython, gast, frozendict, flatbuffers, dateparser, custom-inherit, colorful, colorama, aioredis, aiohttp-cors, tensorflow, tamu-d3m, ray, pyod, networkx, grpcio-tools, grpcio-testing, tamu-axolotl, stumpy, simplejson, nimfa, more-itertools, keras, combo, tods\n",
            "  Attempting uninstall: typing-extensions\n",
            "    Found existing installation: typing-extensions 4.1.1\n",
            "    Uninstalling typing-extensions-4.1.1:\n",
            "      Successfully uninstalled typing-extensions-4.1.1\n",
            "  Attempting uninstall: numpy\n",
            "    Found existing installation: numpy 1.21.6\n",
            "    Uninstalling numpy-1.21.6:\n",
            "      Successfully uninstalled numpy-1.21.6\n",
            "  Attempting uninstall: scipy\n",
            "    Found existing installation: scipy 1.7.3\n",
            "    Uninstalling scipy-1.7.3:\n",
            "      Successfully uninstalled scipy-1.7.3\n",
            "  Attempting uninstall: scikit-learn\n",
            "    Found existing installation: scikit-learn 1.0.2\n",
            "    Uninstalling scikit-learn-1.0.2:\n",
            "      Successfully uninstalled scikit-learn-1.0.2\n",
            "  Attempting uninstall: regex\n",
            "    Found existing installation: regex 2022.6.2\n",
            "    Uninstalling regex-2022.6.2:\n",
            "      Successfully uninstalled regex-2022.6.2\n",
            "  Attempting uninstall: pyrsistent\n",
            "    Found existing installation: pyrsistent 0.18.1\n",
            "    Uninstalling pyrsistent-0.18.1:\n",
            "      Successfully uninstalled pyrsistent-0.18.1\n",
            "  Attempting uninstall: psutil\n",
            "    Found existing installation: psutil 5.4.8\n",
            "    Uninstalling psutil-5.4.8:\n",
            "      Successfully uninstalled psutil-5.4.8\n",
            "  Attempting uninstall: pandas\n",
            "    Found existing installation: pandas 1.3.5\n",
            "    Uninstalling pandas-1.3.5:\n",
            "      Successfully uninstalled pandas-1.3.5\n",
            "  Attempting uninstall: grpcio\n",
            "    Found existing installation: grpcio 1.48.1\n",
            "    Uninstalling grpcio-1.48.1:\n",
            "      Successfully uninstalled grpcio-1.48.1\n",
            "  Attempting uninstall: absl-py\n",
            "    Found existing installation: absl-py 1.2.0\n",
            "    Uninstalling absl-py-1.2.0:\n",
            "      Successfully uninstalled absl-py-1.2.0\n",
            "  Attempting uninstall: wrapt\n",
            "    Found existing installation: wrapt 1.14.1\n",
            "    Uninstalling wrapt-1.14.1:\n",
            "      Successfully uninstalled wrapt-1.14.1\n",
            "  Attempting uninstall: tensorflow-estimator\n",
            "    Found existing installation: tensorflow-estimator 2.8.0\n",
            "    Uninstalling tensorflow-estimator-2.8.0:\n",
            "      Successfully uninstalled tensorflow-estimator-2.8.0\n",
            "  Attempting uninstall: statsmodels\n",
            "    Found existing installation: statsmodels 0.12.2\n",
            "    Uninstalling statsmodels-0.12.2:\n",
            "      Successfully uninstalled statsmodels-0.12.2\n",
            "  Attempting uninstall: pyyaml\n",
            "    Found existing installation: PyYAML 6.0\n",
            "    Uninstalling PyYAML-6.0:\n",
            "      Successfully uninstalled PyYAML-6.0\n",
            "  Attempting uninstall: jsonschema\n",
            "    Found existing installation: jsonschema 4.3.3\n",
            "    Uninstalling jsonschema-4.3.3:\n",
            "      Successfully uninstalled jsonschema-4.3.3\n",
            "  Attempting uninstall: h5py\n",
            "    Found existing installation: h5py 3.1.0\n",
            "    Uninstalling h5py-3.1.0:\n",
            "      Successfully uninstalled h5py-3.1.0\n",
            "  Attempting uninstall: gast\n",
            "    Found existing installation: gast 0.5.3\n",
            "    Uninstalling gast-0.5.3:\n",
            "      Successfully uninstalled gast-0.5.3\n",
            "  Attempting uninstall: flatbuffers\n",
            "    Found existing installation: flatbuffers 2.0.7\n",
            "    Uninstalling flatbuffers-2.0.7:\n",
            "      Successfully uninstalled flatbuffers-2.0.7\n",
            "  Attempting uninstall: tensorflow\n",
            "    Found existing installation: tensorflow 2.8.2+zzzcolab20220719082949\n",
            "    Uninstalling tensorflow-2.8.2+zzzcolab20220719082949:\n",
            "      Successfully uninstalled tensorflow-2.8.2+zzzcolab20220719082949\n",
            "  Attempting uninstall: networkx\n",
            "    Found existing installation: networkx 2.6.3\n",
            "    Uninstalling networkx-2.6.3:\n",
            "      Successfully uninstalled networkx-2.6.3\n",
            "  Attempting uninstall: more-itertools\n",
            "    Found existing installation: more-itertools 8.14.0\n",
            "    Uninstalling more-itertools-8.14.0:\n",
            "      Successfully uninstalled more-itertools-8.14.0\n",
            "  Attempting uninstall: keras\n",
            "    Found existing installation: keras 2.8.0\n",
            "    Uninstalling keras-2.8.0:\n",
            "      Successfully uninstalled keras-2.8.0\n",
            "  Running setup.py develop for tods\n",
            "\u001b[31mERROR: pip's dependency resolver does not currently take into account all the packages that are installed. This behaviour is the source of the following dependency conflicts.\n",
            "yellowbrick 1.5 requires scikit-learn>=1.0.0, but you have scikit-learn 0.24.2 which is incompatible.\n",
            "xarray-einstats 0.2.2 requires numpy>=1.21, but you have numpy 1.19.5 which is incompatible.\n",
            "plotnine 0.8.0 requires statsmodels>=0.12.1, but you have statsmodels 0.11.1 which is incompatible.\n",
            "jax 0.3.17 requires numpy>=1.20, but you have numpy 1.19.5 which is incompatible.\n",
            "cmdstanpy 1.0.7 requires numpy>=1.21, but you have numpy 1.19.5 which is incompatible.\u001b[0m\n",
            "Successfully installed GitPython-3.1.24 absl-py-0.15.0 aiohttp-cors-0.7.0 aioredis-2.0.1 blessed-1.19.1 colorama-0.4.5 colorful-0.5.4 combo-0.1.3 custom-inherit-2.3.2 dateparser-1.1.1 flatbuffers-1.12 frozendict-1.2 gast-0.3.3 gitdb-4.0.9 gpustat-1.0.0 gputil-1.4.0 grpcio-1.32.0 grpcio-testing-1.32.0 grpcio-tools-1.32.0 h5py-2.10.0 jsonpath-ng-1.5.3 jsonschema-4.0.1 keras-2.4.0 liac-arff-2.5.0 more-itertools-8.5.0 mypy-extensions-0.4.3 networkx-2.4 nimfa-1.4.0 numpy-1.19.5 nvidia-ml-py-11.495.46 opencensus-0.11.0 opencensus-context-0.1.3 openml-0.11.0 pandas-1.3.4 ply-3.11 prometheus-client-0.14.1 psutil-5.9.2 py-spy-0.3.14 pyod-1.0.5 pyrsistent-0.18.0 pytypes-1.0b10 pyyaml-5.4.1 ray-1.0.1.post1 redis-3.4.1 regex-2022.3.2 rfc3339-validator-0.1.4 rfc3986-validator-0.1.1 scikit-learn-0.24.2 scipy-1.7.1 simplejson-3.12.0 smmap-5.0.0 statsmodels-0.11.1 stumpy-1.4.0 tamu-axolotl-2021.4.8 tamu-d3m-2022.5.23 tensorflow-2.4.0 tensorflow-estimator-2.4.0 tods-0.0.2 typing-extensions-3.7.4.3 typing-inspect-0.7.1 webcolors-1.11.1 wrapt-1.12.1 xmltodict-0.13.0\n"
          ]
        },
        {
          "output_type": "display_data",
          "data": {
            "application/vnd.colab-display-data+json": {
              "pip_warning": {
                "packages": [
                  "numpy",
                  "psutil",
                  "typing_extensions"
                ]
              }
            }
          },
          "metadata": {}
        }
      ]
    },
    {
      "cell_type": "markdown",
      "source": [
        "**PLEASE READ**: *After running the previous cell, we have installed TODS and restarted the runtime to finish the installation process.*\n",
        "\n",
        "Now, you can click on this cell, and simply click \"Runtime\" -> \"Run After\" to run the remaining sections."
      ],
      "metadata": {
        "id": "VkhIoNg-YCmq"
      }
    },
    {
      "cell_type": "markdown",
      "metadata": {
        "id": "V_7pe-jPoiYK"
      },
      "source": [
        "## Imports"
      ]
    },
    {
      "cell_type": "code",
      "execution_count": null,
      "metadata": {
        "id": "lXQPJyIhoiYL",
        "colab": {
          "base_uri": "https://localhost:8080/"
        },
        "outputId": "ae798ea1-288a-469a-9af9-8b5ee7e11388"
      },
      "outputs": [
        {
          "output_type": "stream",
          "name": "stderr",
          "text": [
            "ERROR:numba.cuda.cudadrv.driver:Call to cuInit results in CUDA_ERROR_NO_DEVICE\n"
          ]
        }
      ],
      "source": [
        "import sys\n",
        "import argparse\n",
        "import os\n",
        "import numpy as np\n",
        "import pandas as pd\n",
        "from sklearn.metrics import precision_recall_curve\n",
        "from sklearn.metrics import accuracy_score\n",
        "from sklearn.metrics import confusion_matrix\n",
        "from sklearn.metrics import classification_report\n",
        "import matplotlib.pyplot as plt\n",
        "from sklearn import metrics\n",
        "from d3m import index\n",
        "from d3m.metadata.base import ArgumentType\n",
        "from d3m.metadata.pipeline import Pipeline, PrimitiveStep\n",
        "from axolotl.backend.simple import SimpleRunner\n",
        "from tods import generate_dataset, generate_problem\n",
        "from tods.searcher import BruteForceSearch\n",
        "from tods import generate_dataset, load_pipeline, evaluate_pipeline\n",
        "from tods.sk_interface.detection_algorithm.DeepLog_skinterface import DeepLogSKI\n",
        "from tods.sk_interface.detection_algorithm.Telemanom_skinterface import TelemanomSKI\n"
      ]
    },
    {
      "cell_type": "markdown",
      "metadata": {
        "id": "fwX5J4YHoiYL"
      },
      "source": [
        "## Dataset"
      ]
    },
    {
      "cell_type": "markdown",
      "metadata": {
        "id": "4EhxHrvooiYM"
      },
      "source": [
        "### UCR Dataset"
      ]
    },
    {
      "cell_type": "code",
      "execution_count": null,
      "metadata": {
        "id": "NQeA1JL0oiYM"
      },
      "outputs": [],
      "source": [
        "data_UCR = np.loadtxt(\"src/tods/datasets/anomaly/raw_data/500_UCR_Anomaly_robotDOG1_10000_19280_19360.txt\")"
      ]
    },
    {
      "cell_type": "code",
      "execution_count": null,
      "metadata": {
        "id": "7yFGkV7doiYM",
        "colab": {
          "base_uri": "https://localhost:8080/"
        },
        "outputId": "86304503-fb44-47d6-ce04-13743016d232"
      },
      "outputs": [
        {
          "output_type": "stream",
          "name": "stdout",
          "text": [
            "shape: (20000,)\n",
            "datatype of data: float64\n",
            "First 5 rows:\n",
            " [0.145299 0.128205 0.094017 0.076923 0.111111]\n"
          ]
        }
      ],
      "source": [
        "print(\"shape:\", data_UCR.shape)\n",
        "print(\"datatype of data:\",data_UCR.dtype)\n",
        "print(\"First 5 rows:\\n\", data_UCR[:5])"
      ]
    },
    {
      "cell_type": "code",
      "execution_count": null,
      "metadata": {
        "id": "nogNcIpfoiYN"
      },
      "outputs": [],
      "source": [
        "X_train = np.expand_dims(data_UCR[:10000], axis=1)\n",
        "X_test = np.expand_dims(data_UCR[10000:], axis=1)"
      ]
    },
    {
      "cell_type": "code",
      "execution_count": null,
      "metadata": {
        "id": "E-nDyRzWoiYN",
        "colab": {
          "base_uri": "https://localhost:8080/"
        },
        "outputId": "7ef35ae0-9eef-4b9e-e796-c9cca8d9412b"
      },
      "outputs": [
        {
          "output_type": "stream",
          "name": "stdout",
          "text": [
            "First 5 rows train:\n",
            " [[0.145299]\n",
            " [0.128205]\n",
            " [0.094017]\n",
            " [0.076923]\n",
            " [0.111111]]\n",
            "First 5 rows test:\n",
            " [[0.076923]\n",
            " [0.076923]\n",
            " [0.076923]\n",
            " [0.094017]\n",
            " [0.145299]]\n"
          ]
        }
      ],
      "source": [
        "print(\"First 5 rows train:\\n\", X_train[:5])\n",
        "print(\"First 5 rows test:\\n\", X_test[:5])"
      ]
    },
    {
      "cell_type": "markdown",
      "metadata": {
        "id": "ckN9mRhBoiYN"
      },
      "source": [
        "### Yahoo Dataset"
      ]
    },
    {
      "cell_type": "code",
      "execution_count": null,
      "metadata": {
        "id": "m9IackYgoiYO"
      },
      "outputs": [],
      "source": [
        "data_yahoo = pd.read_csv('src/tods/datasets/anomaly/raw_data/yahoo_sub_5.csv')"
      ]
    },
    {
      "cell_type": "code",
      "execution_count": null,
      "metadata": {
        "id": "ZCBsPmMboiYO",
        "colab": {
          "base_uri": "https://localhost:8080/"
        },
        "outputId": "359ac5c5-dc09-4ed4-a542-e4c62523a36f"
      },
      "outputs": [
        {
          "output_type": "stream",
          "name": "stdout",
          "text": [
            "shape: (1400, 7)\n",
            "First 5 rows:\n",
            "    timestamp  value_0   value_1   value_2  value_3  value_4  anomaly\n",
            "0          1    12183  0.000000  3.716667        5     2109        0\n",
            "1          2    12715  0.091758  3.610833       60     3229        0\n",
            "2          3    12736  0.172297  3.481389       88     3637        0\n",
            "3          4    12716  0.226219  3.380278       84     1982        0\n",
            "4          5    12739  0.176358  3.193333      111     2751        0\n"
          ]
        }
      ],
      "source": [
        "print(\"shape:\", data_yahoo.shape)\n",
        "print(\"First 5 rows:\\n\", data_yahoo[:5])"
      ]
    },
    {
      "cell_type": "markdown",
      "metadata": {
        "id": "Do7eXcoooiYO"
      },
      "source": [
        "## SK Example 1: DeepLog"
      ]
    },
    {
      "cell_type": "code",
      "execution_count": null,
      "metadata": {
        "id": "pufgzgUBoiYO",
        "colab": {
          "base_uri": "https://localhost:8080/"
        },
        "outputId": "3aa9a480-79d0-4c04-df12-ac54b6c52273"
      },
      "outputs": [
        {
          "output_type": "stream",
          "name": "stdout",
          "text": [
            "Epoch 1/10\n",
            "282/282 [==============================] - 8s 11ms/step - loss: 0.5767 - val_loss: 0.2707\n",
            "Epoch 2/10\n",
            "282/282 [==============================] - 2s 7ms/step - loss: 0.3391 - val_loss: 0.2591\n",
            "Epoch 3/10\n",
            "282/282 [==============================] - 2s 8ms/step - loss: 0.3358 - val_loss: 0.2536\n",
            "Epoch 4/10\n",
            "282/282 [==============================] - 2s 6ms/step - loss: 0.3466 - val_loss: 0.2758\n",
            "Epoch 5/10\n",
            "282/282 [==============================] - 2s 7ms/step - loss: 0.3375 - val_loss: 0.2861\n",
            "Epoch 6/10\n",
            "282/282 [==============================] - 1s 4ms/step - loss: 0.3456 - val_loss: 0.2515\n",
            "Epoch 7/10\n",
            "282/282 [==============================] - 2s 8ms/step - loss: 0.3581 - val_loss: 0.2800\n",
            "Epoch 8/10\n",
            "282/282 [==============================] - 2s 6ms/step - loss: 0.3578 - val_loss: 0.2575\n",
            "Epoch 9/10\n",
            "282/282 [==============================] - 1s 4ms/step - loss: 0.3446 - val_loss: 0.2721\n",
            "Epoch 10/10\n",
            "282/282 [==============================] - 2s 7ms/step - loss: 0.3115 - val_loss: 0.2688\n"
          ]
        }
      ],
      "source": [
        "transformer = DeepLogSKI()\n",
        "transformer.fit(X_train)\n",
        "prediction_labels_train = transformer.predict(X_train)\n",
        "prediction_labels_test = transformer.predict(X_test)\n",
        "prediction_score = transformer.predict_score(X_test)"
      ]
    },
    {
      "cell_type": "code",
      "execution_count": null,
      "metadata": {
        "id": "zdpa2sEvoiYP",
        "colab": {
          "base_uri": "https://localhost:8080/"
        },
        "outputId": "1ae4f92e-ebd2-452b-87bc-62f0dabafce9"
      },
      "outputs": [
        {
          "output_type": "stream",
          "name": "stdout",
          "text": [
            "Prediction Labels\n",
            " [[0]\n",
            " [0]\n",
            " [0]\n",
            " ...\n",
            " [0]\n",
            " [0]\n",
            " [0]]\n",
            "Prediction Score\n",
            " [[0.        ]\n",
            " [0.33220587]\n",
            " [0.33220587]\n",
            " ...\n",
            " [0.76094826]\n",
            " [0.45291543]\n",
            " [0.16539938]]\n"
          ]
        }
      ],
      "source": [
        "print(\"Prediction Labels\\n\", prediction_labels_test)\n",
        "print(\"Prediction Score\\n\", prediction_score)"
      ]
    },
    {
      "cell_type": "code",
      "execution_count": null,
      "metadata": {
        "id": "vFCjDT1goiYP"
      },
      "outputs": [],
      "source": [
        "y_true = prediction_labels_train\n",
        "y_pred = prediction_labels_test\n",
        "precision, recall, thresholds = precision_recall_curve(y_true, y_pred)\n",
        "f1_scores = 2*recall*precision/(recall+precision)\n",
        "fpr, tpr, threshold = metrics.roc_curve(y_true, y_pred)\n",
        "roc_auc = metrics.auc(fpr, tpr)"
      ]
    },
    {
      "cell_type": "code",
      "execution_count": null,
      "metadata": {
        "id": "9JyxDL4FoiYP",
        "colab": {
          "base_uri": "https://localhost:8080/"
        },
        "outputId": "7192350e-3840-4219-a5bf-e34dbe49cfd0"
      },
      "outputs": [
        {
          "output_type": "stream",
          "name": "stdout",
          "text": [
            "Accuracy Score:  0.9049\n"
          ]
        }
      ],
      "source": [
        "print('Accuracy Score: ', accuracy_score(y_true, y_pred))"
      ]
    },
    {
      "cell_type": "code",
      "execution_count": null,
      "metadata": {
        "id": "38cWF9FboiYP",
        "colab": {
          "base_uri": "https://localhost:8080/"
        },
        "outputId": "be4d1f95-4dcd-418a-ad6c-cf820d37ce44"
      },
      "outputs": [
        {
          "output_type": "stream",
          "name": "stdout",
          "text": [
            "              precision    recall  f1-score   support\n",
            "\n",
            "           0       0.93      0.96      0.95      9004\n",
            "           1       0.53      0.38      0.44       996\n",
            "\n",
            "    accuracy                           0.90     10000\n",
            "   macro avg       0.73      0.67      0.70     10000\n",
            "weighted avg       0.89      0.90      0.90     10000\n",
            "\n"
          ]
        }
      ],
      "source": [
        "print(classification_report(y_true, y_pred))"
      ]
    },
    {
      "cell_type": "code",
      "execution_count": null,
      "metadata": {
        "id": "hC4goD5toiYQ",
        "colab": {
          "base_uri": "https://localhost:8080/"
        },
        "outputId": "53ecf090-2c76-4d65-c11d-c34618b56743"
      },
      "outputs": [
        {
          "output_type": "stream",
          "name": "stdout",
          "text": [
            "Best threshold:  1\n",
            "Best F1-Score:  0.4441846873173582\n"
          ]
        }
      ],
      "source": [
        "print('Best threshold: ', thresholds[np.argmax(f1_scores)])\n",
        "print('Best F1-Score: ', np.max(f1_scores))"
      ]
    },
    {
      "cell_type": "code",
      "execution_count": null,
      "metadata": {
        "id": "45Vl_CcxoiYQ",
        "colab": {
          "base_uri": "https://localhost:8080/",
          "height": 295
        },
        "outputId": "16601bc5-6a1d-44f1-8d73-27a0bfc7fcd8"
      },
      "outputs": [
        {
          "output_type": "display_data",
          "data": {
            "text/plain": [
              "<Figure size 432x288 with 1 Axes>"
            ],
            "image/png": "[encoded data removed]"
          },
          "metadata": {
            "needs_background": "light"
          }
        }
      ],
      "source": [
        "plt.title('ROC')\n",
        "plt.plot(fpr, tpr, 'b', label = 'AUC = %0.2f' % roc_auc)\n",
        "plt.legend(loc = 'lower right')\n",
        "plt.ylabel('True Positive Rate')\n",
        "plt.xlabel('False Positive Rate')\n",
        "plt.show()"
      ]
    },
    {
      "cell_type": "markdown",
      "metadata": {
        "id": "_jg-EaR5oiYQ"
      },
      "source": [
        "## SK Example 2: Telemanom"
      ]
    },
    {
      "cell_type": "code",
      "execution_count": null,
      "metadata": {
        "id": "QXg01BuSoiYQ",
        "colab": {
          "base_uri": "https://localhost:8080/"
        },
        "outputId": "916af594-0784-4251-ce03-5f14df50a1b3"
      },
      "outputs": [
        {
          "output_type": "stream",
          "name": "stdout",
          "text": [
            "125/125 [==============================] - 5s 11ms/step - loss: 0.0179 - val_loss: 0.0046\n"
          ]
        }
      ],
      "source": [
        "transformer = TelemanomSKI(l_s= 2, n_predictions= 1)\n",
        "transformer.fit(X_train)\n",
        "prediction_labels_train = transformer.predict(X_train)\n",
        "prediction_labels_test = transformer.predict(X_test)\n",
        "prediction_score = transformer.predict_score(X_test)"
      ]
    },
    {
      "cell_type": "code",
      "execution_count": null,
      "metadata": {
        "id": "Yz0iKSGvoiYR",
        "colab": {
          "base_uri": "https://localhost:8080/"
        },
        "outputId": "f2051b5e-2d8e-48de-c91c-2d05e3bb6b7d"
      },
      "outputs": [
        {
          "output_type": "stream",
          "name": "stdout",
          "text": [
            "Prediction Labels\n",
            " [[1]\n",
            " [1]\n",
            " [1]\n",
            " ...\n",
            " [1]\n",
            " [1]\n",
            " [1]]\n",
            "Prediction Score\n",
            " [[0.08460115]\n",
            " [0.07602973]\n",
            " [0.05638299]\n",
            " ...\n",
            " [0.05913635]\n",
            " [0.0596398 ]\n",
            " [0.06001454]]\n"
          ]
        }
      ],
      "source": [
        "print(\"Prediction Labels\\n\", prediction_labels_test)\n",
        "print(\"Prediction Score\\n\", prediction_score)"
      ]
    },
    {
      "cell_type": "code",
      "execution_count": null,
      "metadata": {
        "id": "LksMotruoiYR"
      },
      "outputs": [],
      "source": [
        "y_true = prediction_labels_train\n",
        "y_pred = prediction_labels_test\n",
        "precision, recall, thresholds = precision_recall_curve(y_true, y_pred)\n",
        "f1_scores = 2*recall*precision/(recall+precision)\n",
        "fpr, tpr, threshold = metrics.roc_curve(y_true, y_pred)\n",
        "roc_auc = metrics.auc(fpr, tpr)"
      ]
    },
    {
      "cell_type": "code",
      "execution_count": null,
      "metadata": {
        "id": "L-K8faxNoiYR",
        "colab": {
          "base_uri": "https://localhost:8080/"
        },
        "outputId": "d38a9c63-cf4c-4123-825b-345a97419b9b"
      },
      "outputs": [
        {
          "output_type": "stream",
          "name": "stdout",
          "text": [
            "Accuracy Score:  0.19015704711413425\n"
          ]
        }
      ],
      "source": [
        "print('Accuracy Score: ', accuracy_score(y_true, y_pred))"
      ]
    },
    {
      "cell_type": "code",
      "execution_count": null,
      "metadata": {
        "id": "2zmr4nCpoiYR",
        "colab": {
          "base_uri": "https://localhost:8080/"
        },
        "outputId": "1ee786ff-57d1-4178-b23e-6c2b01837602"
      },
      "outputs": [
        {
          "output_type": "execute_result",
          "data": {
            "text/plain": [
              "array([[1036, 7961],\n",
              "       [ 135,  865]])"
            ]
          },
          "metadata": {},
          "execution_count": 19
        }
      ],
      "source": [
        "confusion_matrix(y_true, y_pred)"
      ]
    },
    {
      "cell_type": "code",
      "execution_count": null,
      "metadata": {
        "id": "Xvu6q_qCoiYR",
        "colab": {
          "base_uri": "https://localhost:8080/"
        },
        "outputId": "0cc6f843-268a-45ec-de69-8d3eab097228"
      },
      "outputs": [
        {
          "output_type": "stream",
          "name": "stdout",
          "text": [
            "              precision    recall  f1-score   support\n",
            "\n",
            "           0       0.88      0.12      0.20      8997\n",
            "           1       0.10      0.86      0.18      1000\n",
            "\n",
            "    accuracy                           0.19      9997\n",
            "   macro avg       0.49      0.49      0.19      9997\n",
            "weighted avg       0.81      0.19      0.20      9997\n",
            "\n"
          ]
        }
      ],
      "source": [
        "print(classification_report(y_true, y_pred))"
      ]
    },
    {
      "cell_type": "code",
      "execution_count": null,
      "metadata": {
        "id": "ow6dyqQ3oiYS",
        "colab": {
          "base_uri": "https://localhost:8080/"
        },
        "outputId": "cee3415b-09a7-4fcf-f114-9b3bf52cfb65"
      },
      "outputs": [
        {
          "output_type": "stream",
          "name": "stdout",
          "text": [
            "Best threshold:  0\n",
            "Best F1-Score:  0.18186778212239701\n"
          ]
        }
      ],
      "source": [
        "print('Best threshold: ', thresholds[np.argmax(f1_scores)])\n",
        "print('Best F1-Score: ', np.max(f1_scores))"
      ]
    },
    {
      "cell_type": "code",
      "execution_count": null,
      "metadata": {
        "id": "OtAuHAKcoiYS",
        "colab": {
          "base_uri": "https://localhost:8080/",
          "height": 295
        },
        "outputId": "59d5b594-bfa7-4c73-b1d6-e594201cea53"
      },
      "outputs": [
        {
          "output_type": "display_data",
          "data": {
            "text/plain": [
              "<Figure size 432x288 with 1 Axes>"
            ],
            "image/png": "[encoded data removed]"
          },
          "metadata": {
            "needs_background": "light"
          }
        }
      ],
      "source": [
        "plt.title('ROC')\n",
        "plt.plot(fpr, tpr, 'b', label = 'AUC = %0.2f' % roc_auc)\n",
        "plt.legend(loc = 'lower right')\n",
        "plt.ylabel('True Positive Rate')\n",
        "plt.xlabel('False Positive Rate')\n",
        "plt.show()"
      ]
    },
    {
      "cell_type": "markdown",
      "metadata": {
        "id": "7HQoeYVroiYS"
      },
      "source": [
        "## Pipline Example: AutoEncoder"
      ]
    },
    {
      "cell_type": "markdown",
      "metadata": {
        "id": "7gveiGguoiYS"
      },
      "source": [
        "### Build Pipeline"
      ]
    },
    {
      "cell_type": "code",
      "execution_count": null,
      "metadata": {
        "id": "M8B_xh_HoiYS",
        "colab": {
          "base_uri": "https://localhost:8080/",
          "height": 37
        },
        "outputId": "a4e30fbf-ffd1-4247-aa25-7c81e8c2c9b8"
      },
      "outputs": [
        {
          "output_type": "execute_result",
          "data": {
            "text/plain": [
              "'inputs.0'"
            ],
            "application/vnd.google.colaboratory.intrinsic+json": {
              "type": "string"
            }
          },
          "metadata": {},
          "execution_count": 23
        }
      ],
      "source": [
        "# Creating pipeline\n",
        "pipeline_description = Pipeline()\n",
        "pipeline_description.add_input(name='inputs')"
      ]
    },
    {
      "cell_type": "code",
      "execution_count": null,
      "metadata": {
        "id": "d4z0n-oNoiYS",
        "colab": {
          "base_uri": "https://localhost:8080/"
        },
        "outputId": "2f3cabdf-4b48-47a6-8bd2-2cf43ede1fef"
      },
      "outputs": [
        {
          "output_type": "stream",
          "name": "stderr",
          "text": [
            "WARNING:d3m.deprecate:__main__: Providing a deprecated argument 'data_reference' to 'add_argument' function in '<ipython-input-24-79d64a140287>' at line 3: argument renamed to \"data\"\n"
          ]
        }
      ],
      "source": [
        "# Step 0: dataset_to_dataframe\n",
        "step_0 = PrimitiveStep(primitive=index.get_primitive('d3m.primitives.tods.data_processing.dataset_to_dataframe'))\n",
        "step_0.add_argument(name='inputs', argument_type=ArgumentType.CONTAINER, data_reference='inputs.0')\n",
        "step_0.add_output('produce')\n",
        "pipeline_description.add_step(step_0)"
      ]
    },
    {
      "cell_type": "code",
      "execution_count": null,
      "metadata": {
        "id": "G_itlT1AoiYT",
        "colab": {
          "base_uri": "https://localhost:8080/"
        },
        "outputId": "07f54543-dd2f-4358-caf3-e52d2ac505e6"
      },
      "outputs": [
        {
          "output_type": "stream",
          "name": "stderr",
          "text": [
            "WARNING:d3m.deprecate:__main__: Providing a deprecated argument 'data_reference' to 'add_argument' function in '<ipython-input-25-fe00c4ca9b38>' at line 3: argument renamed to \"data\"\n"
          ]
        }
      ],
      "source": [
        "# Step 1: column_parser\n",
        "step_1 = PrimitiveStep(primitive=index.get_primitive('d3m.primitives.tods.data_processing.column_parser'))\n",
        "step_1.add_argument(name='inputs', argument_type=ArgumentType.CONTAINER, data_reference='steps.0.produce')\n",
        "step_1.add_output('produce')\n",
        "pipeline_description.add_step(step_1)"
      ]
    },
    {
      "cell_type": "code",
      "execution_count": null,
      "metadata": {
        "id": "oQkj82hIoiYT",
        "colab": {
          "base_uri": "https://localhost:8080/"
        },
        "outputId": "2d3732a6-f4ff-4d37-8830-7968186e0ac6"
      },
      "outputs": [
        {
          "output_type": "stream",
          "name": "stderr",
          "text": [
            "WARNING:d3m.deprecate:__main__: Providing a deprecated argument 'data_reference' to 'add_argument' function in '<ipython-input-26-e3ca52ced785>' at line 3: argument renamed to \"data\"\n"
          ]
        }
      ],
      "source": [
        "# Step 2: extract_columns_by_semantic_types(attributes)\n",
        "step_2 = PrimitiveStep(primitive=index.get_primitive('d3m.primitives.tods.data_processing.extract_columns_by_semantic_types'))\n",
        "step_2.add_argument(name='inputs', argument_type=ArgumentType.CONTAINER, data_reference='steps.1.produce')\n",
        "step_2.add_output('produce')\n",
        "step_2.add_hyperparameter(name='semantic_types', argument_type=ArgumentType.VALUE,\n",
        "\t\t\t\t\t\t\t  data=['https://metadata.datadrivendiscovery.org/types/Attribute'])\n",
        "pipeline_description.add_step(step_2)"
      ]
    },
    {
      "cell_type": "code",
      "execution_count": null,
      "metadata": {
        "id": "1J6bIYbeoiYT",
        "colab": {
          "base_uri": "https://localhost:8080/"
        },
        "outputId": "a8baf37b-352d-4ff0-88d9-430f82e9fe4f"
      },
      "outputs": [
        {
          "output_type": "stream",
          "name": "stderr",
          "text": [
            "WARNING:d3m.deprecate:__main__: Providing a deprecated argument 'data_reference' to 'add_argument' function in '<ipython-input-27-cf332b95f440>' at line 3: argument renamed to \"data\"\n"
          ]
        }
      ],
      "source": [
        "# Step 3: extract_columns_by_semantic_types(targets)\n",
        "step_3 = PrimitiveStep(primitive=index.get_primitive('d3m.primitives.tods.data_processing.extract_columns_by_semantic_types'))\n",
        "step_3.add_argument(name='inputs', argument_type=ArgumentType.CONTAINER, data_reference='steps.0.produce')\n",
        "step_3.add_output('produce')\n",
        "step_3.add_hyperparameter(name='semantic_types', argument_type=ArgumentType.VALUE,\n",
        "\t\t\t\t\t\t\tdata=['https://metadata.datadrivendiscovery.org/types/TrueTarget'])\n",
        "pipeline_description.add_step(step_3)"
      ]
    },
    {
      "cell_type": "code",
      "execution_count": null,
      "metadata": {
        "id": "l0HNKbkMoiYT"
      },
      "outputs": [],
      "source": [
        "attributes = 'steps.2.produce'\n",
        "targets = 'steps.3.produce'"
      ]
    },
    {
      "cell_type": "code",
      "execution_count": null,
      "metadata": {
        "id": "xsNdL87AoiYT",
        "colab": {
          "base_uri": "https://localhost:8080/"
        },
        "outputId": "90d555a1-1621-45bb-f6cd-48bb74569804"
      },
      "outputs": [
        {
          "output_type": "stream",
          "name": "stderr",
          "text": [
            "WARNING:d3m.deprecate:__main__: Providing a deprecated argument 'data_reference' to 'add_argument' function in '<ipython-input-29-ae18ae426705>' at line 3: argument renamed to \"data\"\n"
          ]
        }
      ],
      "source": [
        "# Step 4: processing\n",
        "step_4 = PrimitiveStep(primitive=index.get_primitive('d3m.primitives.tods.feature_analysis.statistical_maximum'))\n",
        "step_4.add_argument(name='inputs', argument_type=ArgumentType.CONTAINER, data_reference=attributes)\n",
        "step_4.add_output('produce')\n",
        "pipeline_description.add_step(step_4)"
      ]
    },
    {
      "cell_type": "code",
      "execution_count": null,
      "metadata": {
        "id": "SVMjKWw3oiYT",
        "colab": {
          "base_uri": "https://localhost:8080/"
        },
        "outputId": "5a59ba4e-ab00-421f-c462-439d7dc6636b"
      },
      "outputs": [
        {
          "output_type": "stream",
          "name": "stderr",
          "text": [
            "WARNING:d3m.deprecate:__main__: Providing a deprecated argument 'data_reference' to 'add_argument' function in '<ipython-input-30-4926c43384c5>' at line 3: argument renamed to \"data\"\n"
          ]
        }
      ],
      "source": [
        "# Step 5: algorithm`\n",
        "step_5 = PrimitiveStep(primitive=index.get_primitive('d3m.primitives.tods.detection_algorithm.pyod_ae'))\n",
        "step_5.add_argument(name='inputs', argument_type=ArgumentType.CONTAINER, data_reference='steps.4.produce')\n",
        "step_5.add_output('produce')\n",
        "pipeline_description.add_step(step_5)"
      ]
    },
    {
      "cell_type": "code",
      "execution_count": null,
      "metadata": {
        "id": "2BOFeyU5oiYU",
        "colab": {
          "base_uri": "https://localhost:8080/"
        },
        "outputId": "eb02749a-388a-411c-c60a-379fc1959303"
      },
      "outputs": [
        {
          "output_type": "stream",
          "name": "stderr",
          "text": [
            "WARNING:d3m.deprecate:__main__: Providing a deprecated argument 'data_reference' to 'add_argument' function in '<ipython-input-31-be5a7a024a6d>' at line 3: argument renamed to \"data\"\n",
            "WARNING:d3m.deprecate:__main__: Providing a deprecated argument 'data_reference' to 'add_argument' function in '<ipython-input-31-be5a7a024a6d>' at line 4: argument renamed to \"data\"\n"
          ]
        }
      ],
      "source": [
        "# Step 6: Predictions\n",
        "step_6 = PrimitiveStep(primitive=index.get_primitive('d3m.primitives.tods.data_processing.construct_predictions'))\n",
        "step_6.add_argument(name='inputs', argument_type=ArgumentType.CONTAINER, data_reference='steps.5.produce')\n",
        "step_6.add_argument(name='reference', argument_type=ArgumentType.CONTAINER, data_reference='steps.1.produce')\n",
        "step_6.add_output('produce')\n",
        "pipeline_description.add_step(step_6)"
      ]
    },
    {
      "cell_type": "code",
      "execution_count": null,
      "metadata": {
        "id": "NLpmrD1EoiYU",
        "colab": {
          "base_uri": "https://localhost:8080/",
          "height": 37
        },
        "outputId": "2a8de953-2b16-465b-e2b7-9e8730d26811"
      },
      "outputs": [
        {
          "output_type": "execute_result",
          "data": {
            "text/plain": [
              "'outputs.0'"
            ],
            "application/vnd.google.colaboratory.intrinsic+json": {
              "type": "string"
            }
          },
          "metadata": {},
          "execution_count": 32
        }
      ],
      "source": [
        "# Final Output\n",
        "pipeline_description.add_output(name='output predictions', data_reference='steps.6.produce')"
      ]
    },
    {
      "cell_type": "code",
      "execution_count": null,
      "metadata": {
        "id": "z4stMk64oiYU",
        "colab": {
          "base_uri": "https://localhost:8080/"
        },
        "outputId": "d90814c7-8d8e-4c12-f29c-2c622df942e4"
      },
      "outputs": [
        {
          "output_type": "stream",
          "name": "stdout",
          "text": [
            "{\"id\": \"877ca468-fc5a-4767-83c8-219175d1b661\", \"schema\": \"https://metadata.datadrivendiscovery.org/schemas/v0/pipeline.json\", \"created\": \"2022-09-21T02:25:50.494694Z\", \"inputs\": [{\"name\": \"inputs\"}], \"outputs\": [{\"data\": \"steps.6.produce\", \"name\": \"output predictions\"}], \"steps\": [{\"type\": \"PRIMITIVE\", \"primitive\": {\"id\": \"c78138d9-9377-31dc-aee8-83d9df049c60\", \"version\": \"0.3.0\", \"python_path\": \"d3m.primitives.tods.data_processing.dataset_to_dataframe\", \"name\": \"Extract a DataFrame from a Dataset\"}, \"arguments\": {\"inputs\": {\"type\": \"CONTAINER\", \"data\": \"inputs.0\"}}, \"outputs\": [{\"id\": \"produce\"}]}, {\"type\": \"PRIMITIVE\", \"primitive\": {\"id\": \"81235c29-aeb9-3828-911a-1b25319b6998\", \"version\": \"0.3.0\", \"python_path\": \"d3m.primitives.tods.data_processing.column_parser\", \"name\": \"Parses strings into their types\"}, \"arguments\": {\"inputs\": {\"type\": \"CONTAINER\", \"data\": \"steps.0.produce\"}}, \"outputs\": [{\"id\": \"produce\"}]}, {\"type\": \"PRIMITIVE\", \"primitive\": {\"id\": \"a996cd89-ddf0-367f-8e7f-8c013cbc2891\", \"version\": \"0.3.0\", \"python_path\": \"d3m.primitives.tods.data_processing.extract_columns_by_semantic_types\", \"name\": \"Extracts columns by semantic type\"}, \"arguments\": {\"inputs\": {\"type\": \"CONTAINER\", \"data\": \"steps.1.produce\"}}, \"outputs\": [{\"id\": \"produce\"}], \"hyperparams\": {\"semantic_types\": {\"type\": \"VALUE\", \"data\": [\"https://metadata.datadrivendiscovery.org/types/Attribute\"]}}}, {\"type\": \"PRIMITIVE\", \"primitive\": {\"id\": \"a996cd89-ddf0-367f-8e7f-8c013cbc2891\", \"version\": \"0.3.0\", \"python_path\": \"d3m.primitives.tods.data_processing.extract_columns_by_semantic_types\", \"name\": \"Extracts columns by semantic type\"}, \"arguments\": {\"inputs\": {\"type\": \"CONTAINER\", \"data\": \"steps.0.produce\"}}, \"outputs\": [{\"id\": \"produce\"}], \"hyperparams\": {\"semantic_types\": {\"type\": \"VALUE\", \"data\": [\"https://metadata.datadrivendiscovery.org/types/TrueTarget\"]}}}, {\"type\": \"PRIMITIVE\", \"primitive\": {\"id\": \"f07ce875-bbc7-36c5-9cc1-ba4bfb7cf48e\", \"version\": \"0.3.0\", \"python_path\": \"d3m.primitives.tods.feature_analysis.statistical_maximum\", \"name\": \"Time Series Decompostional\"}, \"arguments\": {\"inputs\": {\"type\": \"CONTAINER\", \"data\": \"steps.2.produce\"}}, \"outputs\": [{\"id\": \"produce\"}]}, {\"type\": \"PRIMITIVE\", \"primitive\": {\"id\": \"67e7fcdf-d645-3417-9aa4-85cd369487d9\", \"version\": \"0.3.0\", \"python_path\": \"d3m.primitives.tods.detection_algorithm.pyod_ae\", \"name\": \"TODS.anomaly_detection_primitives.AutoEncoder\"}, \"arguments\": {\"inputs\": {\"type\": \"CONTAINER\", \"data\": \"steps.4.produce\"}}, \"outputs\": [{\"id\": \"produce\"}]}, {\"type\": \"PRIMITIVE\", \"primitive\": {\"id\": \"2530840a-07d4-3874-b7d8-9eb5e4ae2bf3\", \"version\": \"0.3.0\", \"python_path\": \"d3m.primitives.tods.data_processing.construct_predictions\", \"name\": \"Construct pipeline predictions output\"}, \"arguments\": {\"inputs\": {\"type\": \"CONTAINER\", \"data\": \"steps.5.produce\"}, \"reference\": {\"type\": \"CONTAINER\", \"data\": \"steps.1.produce\"}}, \"outputs\": [{\"id\": \"produce\"}]}], \"digest\": \"c8dc13ff5edf19c9fc3652c783de55b30a3f6f371808db6dbb1a009113f3b9f7\"}\n"
          ]
        }
      ],
      "source": [
        "# Output to json\n",
        "data = pipeline_description.to_json()\n",
        "with open('autoencoder_pipeline.json', 'w') as f:\n",
        "    f.write(data)\n",
        "    print(data)"
      ]
    },
    {
      "cell_type": "markdown",
      "metadata": {
        "id": "tJShRtIaoiYU"
      },
      "source": [
        "### Run Pipeline"
      ]
    },
    {
      "cell_type": "code",
      "execution_count": null,
      "metadata": {
        "id": "aon7PYDOoiYU"
      },
      "outputs": [],
      "source": [
        "this_path = os.path.dirname(os.path.abspath(\"__file__\"))\n",
        "default_data_path = os.path.join(this_path, 'src/tods/datasets/anomaly/raw_data/yahoo_sub_5.csv')"
      ]
    },
    {
      "cell_type": "code",
      "execution_count": null,
      "metadata": {
        "id": "qDuwGdpqoiYU",
        "colab": {
          "base_uri": "https://localhost:8080/"
        },
        "outputId": "7abe9e74-23af-4b63-a737-b1bd9ebcf96e"
      },
      "outputs": [
        {
          "output_type": "execute_result",
          "data": {
            "text/plain": [
              "_StoreAction(option_strings=['--pipeline_path'], dest='pipeline_path', nargs=None, const=None, default='/content/autoencoder_pipeline.json', type=None, choices=None, help='Input the path of the pre-built pipeline description', metavar=None)"
            ]
          },
          "metadata": {},
          "execution_count": 35
        }
      ],
      "source": [
        "parser = argparse.ArgumentParser(description='Arguments for running predefined pipelin.')\n",
        "parser.add_argument('--table_path', type=str, default=default_data_path,\n",
        "                    help='Input the path of the input data table')\n",
        "parser.add_argument('--target_index', type=int, default=6,\n",
        "                    help='Index of the ground truth (for evaluation)')\n",
        "parser.add_argument('--metric',type=str, default='F1_MACRO',\n",
        "                    help='Evaluation Metric (F1, F1_MACRO)')\n",
        "parser.add_argument('--pipeline_path',\n",
        "                    default=os.path.join(this_path, 'autoencoder_pipeline.json'),\n",
        "                    help='Input the path of the pre-built pipeline description')"
      ]
    },
    {
      "cell_type": "code",
      "execution_count": null,
      "metadata": {
        "id": "qh-F9b48oiYU"
      },
      "outputs": [],
      "source": [
        "args, unknown = parser.parse_known_args()\n",
        "table_path = args.table_path\n",
        "target_index = args.target_index # what column is the target\n",
        "pipeline_path = args.pipeline_path\n",
        "metric = args.metric # F1 on both label 0 and 1"
      ]
    },
    {
      "cell_type": "code",
      "execution_count": null,
      "metadata": {
        "id": "eIfVnLZSoiYV"
      },
      "outputs": [],
      "source": [
        "# Read data and generate dataset\n",
        "df = pd.read_csv(table_path)\n",
        "dataset = generate_dataset(df, target_index)"
      ]
    },
    {
      "cell_type": "code",
      "execution_count": null,
      "metadata": {
        "id": "xOSyoTkkoiYV"
      },
      "outputs": [],
      "source": [
        "# Load the default pipeline\n",
        "pipeline = load_pipeline(pipeline_path)"
      ]
    },
    {
      "cell_type": "code",
      "execution_count": null,
      "metadata": {
        "id": "GLC-BSUBoiYV",
        "colab": {
          "base_uri": "https://localhost:8080/"
        },
        "outputId": "05685094-732d-4fca-c5c4-164bccc049b8"
      },
      "outputs": [
        {
          "output_type": "stream",
          "name": "stderr",
          "text": [
            "WARNING:d3m.runtime:Not all provided hyper-parameters for the data preparation pipeline 79ce71bd-db96-494b-a455-14f2e2ac5040 were used: ['method', 'number_of_folds', 'randomSeed', 'shuffle', 'stratified']\n"
          ]
        },
        {
          "output_type": "stream",
          "name": "stdout",
          "text": [
            "Dataset(id='df3208bd-8ca0-4684-9fd1-173d6b2d06b5', name='df3208bd-8ca0-4684-9fd1-173d6b2d06b5') <d3m.metadata.pipeline.Pipeline object at 0x7fbdd90a1290> F1_MACRO <d3m.metadata.pipeline.Pipeline object at 0x7fbd6240b810>\n"
          ]
        },
        {
          "output_type": "stream",
          "name": "stderr",
          "text": [
            "WARNING:d3m.utils:Using global/shared random source using 'numpy.random.shuffle' can make execution not reproducible.\n",
            "Stack (most recent call last):\n",
            "  File \"/usr/lib/python3.7/runpy.py\", line 193, in _run_module_as_main\n",
            "    \"__main__\", mod_spec)\n",
            "  File \"/usr/lib/python3.7/runpy.py\", line 85, in _run_code\n",
            "    exec(code, run_globals)\n",
            "  File \"/usr/local/lib/python3.7/dist-packages/ipykernel_launcher.py\", line 16, in <module>\n",
            "    app.launch_new_instance()\n",
            "  File \"/usr/local/lib/python3.7/dist-packages/traitlets/config/application.py\", line 846, in launch_instance\n",
            "    app.start()\n",
            "  File \"/usr/local/lib/python3.7/dist-packages/ipykernel/kernelapp.py\", line 612, in start\n",
            "    self.io_loop.start()\n",
            "  File \"/usr/local/lib/python3.7/dist-packages/tornado/platform/asyncio.py\", line 132, in start\n",
            "    self.asyncio_loop.run_forever()\n",
            "  File \"/usr/lib/python3.7/asyncio/base_events.py\", line 541, in run_forever\n",
            "    self._run_once()\n",
            "  File \"/usr/lib/python3.7/asyncio/base_events.py\", line 1786, in _run_once\n",
            "    handle._run()\n",
            "  File \"/usr/lib/python3.7/asyncio/events.py\", line 88, in _run\n",
            "    self._context.run(self._callback, *self._args)\n",
            "  File \"/usr/local/lib/python3.7/dist-packages/tornado/ioloop.py\", line 758, in _run_callback\n",
            "    ret = callback()\n",
            "  File \"/usr/local/lib/python3.7/dist-packages/tornado/stack_context.py\", line 300, in null_wrapper\n",
            "    return fn(*args, **kwargs)\n",
            "  File \"/usr/local/lib/python3.7/dist-packages/tornado/gen.py\", line 1233, in inner\n",
            "    self.run()\n",
            "  File \"/usr/local/lib/python3.7/dist-packages/tornado/gen.py\", line 1147, in run\n",
            "    yielded = self.gen.send(value)\n",
            "  File \"/usr/local/lib/python3.7/dist-packages/ipykernel/kernelbase.py\", line 381, in dispatch_queue\n",
            "    yield self.process_one()\n",
            "  File \"/usr/local/lib/python3.7/dist-packages/tornado/gen.py\", line 346, in wrapper\n",
            "    runner = Runner(result, future, yielded)\n",
            "  File \"/usr/local/lib/python3.7/dist-packages/tornado/gen.py\", line 1080, in __init__\n",
            "    self.run()\n",
            "  File \"/usr/local/lib/python3.7/dist-packages/tornado/gen.py\", line 1147, in run\n",
            "    yielded = self.gen.send(value)\n",
            "  File \"/usr/local/lib/python3.7/dist-packages/ipykernel/kernelbase.py\", line 365, in process_one\n",
            "    yield gen.maybe_future(dispatch(*args))\n",
            "  File \"/usr/local/lib/python3.7/dist-packages/tornado/gen.py\", line 326, in wrapper\n",
            "    yielded = next(result)\n",
            "  File \"/usr/local/lib/python3.7/dist-packages/ipykernel/kernelbase.py\", line 268, in dispatch_shell\n",
            "    yield gen.maybe_future(handler(stream, idents, msg))\n",
            "  File \"/usr/local/lib/python3.7/dist-packages/tornado/gen.py\", line 326, in wrapper\n",
            "    yielded = next(result)\n",
            "  File \"/usr/local/lib/python3.7/dist-packages/ipykernel/kernelbase.py\", line 545, in execute_request\n",
            "    user_expressions, allow_stdin,\n",
            "  File \"/usr/local/lib/python3.7/dist-packages/tornado/gen.py\", line 326, in wrapper\n",
            "    yielded = next(result)\n",
            "  File \"/usr/local/lib/python3.7/dist-packages/ipykernel/ipkernel.py\", line 306, in do_execute\n",
            "    res = shell.run_cell(code, store_history=store_history, silent=silent)\n",
            "  File \"/usr/local/lib/python3.7/dist-packages/ipykernel/zmqshell.py\", line 536, in run_cell\n",
            "    return super(ZMQInteractiveShell, self).run_cell(*args, **kwargs)\n",
            "  File \"/usr/local/lib/python3.7/dist-packages/IPython/core/interactiveshell.py\", line 2855, in run_cell\n",
            "    raw_cell, store_history, silent, shell_futures)\n",
            "  File \"/usr/local/lib/python3.7/dist-packages/IPython/core/interactiveshell.py\", line 2881, in _run_cell\n",
            "    return runner(coro)\n",
            "  File \"/usr/local/lib/python3.7/dist-packages/IPython/core/async_helpers.py\", line 68, in _pseudo_sync_runner\n",
            "    coro.send(None)\n",
            "  File \"/usr/local/lib/python3.7/dist-packages/IPython/core/interactiveshell.py\", line 3058, in run_cell_async\n",
            "    interactivity=interactivity, compiler=compiler, result=result)\n",
            "  File \"/usr/local/lib/python3.7/dist-packages/IPython/core/interactiveshell.py\", line 3249, in run_ast_nodes\n",
            "    if (await self.run_code(code, result,  async_=asy)):\n",
            "  File \"/usr/local/lib/python3.7/dist-packages/IPython/core/interactiveshell.py\", line 3326, in run_code\n",
            "    exec(code_obj, self.user_global_ns, self.user_ns)\n",
            "  File \"<ipython-input-39-7c8d4885368f>\", line 2, in <module>\n",
            "    pipeline_result = evaluate_pipeline(dataset, pipeline, metric)\n",
            "  File \"/content/src/tods/tods/utils.py\", line 148, in evaluate_pipeline\n",
            "    data_preparation_params=data_preparation_params)\n",
            "  File \"/usr/local/lib/python3.7/dist-packages/axolotl/backend/base.py\", line 263, in evaluate_pipeline\n",
            "    data_preparation_params=data_preparation_params, scoring_params=scoring_params, timeout=timeout\n",
            "  File \"/usr/local/lib/python3.7/dist-packages/axolotl/backend/simple.py\", line 166, in evaluate_pipeline_request\n",
            "    volumes_dir=self.volumes_dir, scratch_dir=self.scratch_dir, runtime_environment=self.runtime_environment\n",
            "  File \"/usr/local/lib/python3.7/dist-packages/d3m/runtime.py\", line 1826, in evaluate\n",
            "    scratch_dir=scratch_dir, runtime_environment=runtime_environment,\n",
            "  File \"/usr/local/lib/python3.7/dist-packages/d3m/runtime.py\", line 1850, in evaluate_fold\n",
            "    fold_group_uuid=fold_group_uuid, fold_index=fold_index,\n",
            "  File \"/usr/local/lib/python3.7/dist-packages/d3m/runtime.py\", line 1495, in fit\n",
            "    result = runtime.fit(inputs, outputs_to_expose=outputs_to_expose)\n",
            "  File \"/usr/local/lib/python3.7/dist-packages/d3m/deprecate.py\", line 140, in wrapper\n",
            "    return f(*args, **kwargs)\n",
            "  File \"/usr/local/lib/python3.7/dist-packages/d3m/runtime.py\", line 1248, in fit\n",
            "    return self._run(inputs, metadata_base.PipelineRunPhase.FIT, outputs_to_expose or return_values)\n",
            "  File \"/usr/local/lib/python3.7/dist-packages/d3m/runtime.py\", line 1155, in _run\n",
            "    self._do_run()\n",
            "  File \"/usr/local/lib/python3.7/dist-packages/d3m/runtime.py\", line 1131, in _do_run\n",
            "    self._do_run_step(step)\n",
            "  File \"/usr/local/lib/python3.7/dist-packages/d3m/runtime.py\", line 1114, in _do_run_step\n",
            "    self._run_step(step)\n",
            "  File \"/usr/local/lib/python3.7/dist-packages/d3m/runtime.py\", line 1102, in _run_step\n",
            "    self._run_primitive(step)\n",
            "  File \"/usr/local/lib/python3.7/dist-packages/d3m/runtime.py\", line 975, in _run_primitive\n",
            "    multi_call_result = self._call_primitive_method(primitive.fit_multi_produce, fit_multi_produce_arguments)\n",
            "  File \"/usr/local/lib/python3.7/dist-packages/d3m/runtime.py\", line 1074, in _call_primitive_method\n",
            "    result = method(**arguments)\n",
            "  File \"/content/src/tods/tods/common/TODSBasePrimitives.py\", line 156, in fit_multi_produce\n",
            "    return self._fit_multi_produce(produce_methods=produce_methods, timeout=timeout, iterations=iterations, inputs=inputs)\n",
            "  File \"/usr/local/lib/python3.7/dist-packages/d3m/primitive_interfaces/base.py\", line 545, in _fit_multi_produce\n",
            "    fit_result = self.fit(timeout=timeout, iterations=iterations)\n",
            "  File \"/content/src/tods/tods/detection_algorithm/PyodAE.py\", line 300, in fit\n",
            "    return super()._fit()\n",
            "  File \"/content/src/tods/tods/detection_algorithm/UODBasePrimitive.py\", line 270, in _fit\n",
            "    self._clf.fit(X=self._training_inputs.values, **self._clf_fit_parameter)\n",
            "  File \"/usr/local/lib/python3.7/dist-packages/pyod/models/auto_encoder.py\", line 231, in fit\n",
            "    np.random.shuffle(X_norm)\n",
            "  File \"/usr/local/lib/python3.7/dist-packages/d3m/utils.py\", line 1217, in wrapper\n",
            "    ignore_modules=ignore_random_warnings,\n",
            "  File \"/usr/local/lib/python3.7/dist-packages/d3m/utils.py\", line 1727, in log_once\n",
            "    logger.log(level, msg, *args, **kwargs)\n"
          ]
        },
        {
          "output_type": "stream",
          "name": "stdout",
          "text": [
            "Model: \"sequential_2\"\n",
            "_________________________________________________________________\n",
            "Layer (type)                 Output Shape              Param #   \n",
            "=================================================================\n",
            "dense_2 (Dense)              (None, 12)                156       \n",
            "_________________________________________________________________\n",
            "dropout_2 (Dropout)          (None, 12)                0         \n",
            "_________________________________________________________________\n",
            "dense_3 (Dense)              (None, 12)                156       \n",
            "_________________________________________________________________\n",
            "dropout_3 (Dropout)          (None, 12)                0         \n",
            "_________________________________________________________________\n",
            "dense_4 (Dense)              (None, 1)                 13        \n",
            "_________________________________________________________________\n",
            "dropout_4 (Dropout)          (None, 1)                 0         \n",
            "_________________________________________________________________\n",
            "dense_5 (Dense)              (None, 4)                 8         \n",
            "_________________________________________________________________\n",
            "dropout_5 (Dropout)          (None, 4)                 0         \n",
            "_________________________________________________________________\n",
            "dense_6 (Dense)              (None, 1)                 5         \n",
            "_________________________________________________________________\n",
            "dropout_6 (Dropout)          (None, 1)                 0         \n",
            "_________________________________________________________________\n",
            "dense_7 (Dense)              (None, 12)                24        \n",
            "=================================================================\n",
            "Total params: 362\n",
            "Trainable params: 362\n",
            "Non-trainable params: 0\n",
            "_________________________________________________________________\n",
            "None\n"
          ]
        },
        {
          "output_type": "stream",
          "name": "stderr",
          "text": [
            "WARNING:d3m.utils:Using global/shared random source using 'numpy.random.shuffle' can make execution not reproducible.\n",
            "Stack (most recent call last):\n",
            "  File \"/usr/lib/python3.7/runpy.py\", line 193, in _run_module_as_main\n",
            "    \"__main__\", mod_spec)\n",
            "  File \"/usr/lib/python3.7/runpy.py\", line 85, in _run_code\n",
            "    exec(code, run_globals)\n",
            "  File \"/usr/local/lib/python3.7/dist-packages/ipykernel_launcher.py\", line 16, in <module>\n",
            "    app.launch_new_instance()\n",
            "  File \"/usr/local/lib/python3.7/dist-packages/traitlets/config/application.py\", line 846, in launch_instance\n",
            "    app.start()\n",
            "  File \"/usr/local/lib/python3.7/dist-packages/ipykernel/kernelapp.py\", line 612, in start\n",
            "    self.io_loop.start()\n",
            "  File \"/usr/local/lib/python3.7/dist-packages/tornado/platform/asyncio.py\", line 132, in start\n",
            "    self.asyncio_loop.run_forever()\n",
            "  File \"/usr/lib/python3.7/asyncio/base_events.py\", line 541, in run_forever\n",
            "    self._run_once()\n",
            "  File \"/usr/lib/python3.7/asyncio/base_events.py\", line 1786, in _run_once\n",
            "    handle._run()\n",
            "  File \"/usr/lib/python3.7/asyncio/events.py\", line 88, in _run\n",
            "    self._context.run(self._callback, *self._args)\n",
            "  File \"/usr/local/lib/python3.7/dist-packages/tornado/ioloop.py\", line 758, in _run_callback\n",
            "    ret = callback()\n",
            "  File \"/usr/local/lib/python3.7/dist-packages/tornado/stack_context.py\", line 300, in null_wrapper\n",
            "    return fn(*args, **kwargs)\n",
            "  File \"/usr/local/lib/python3.7/dist-packages/tornado/gen.py\", line 1233, in inner\n",
            "    self.run()\n",
            "  File \"/usr/local/lib/python3.7/dist-packages/tornado/gen.py\", line 1147, in run\n",
            "    yielded = self.gen.send(value)\n",
            "  File \"/usr/local/lib/python3.7/dist-packages/ipykernel/kernelbase.py\", line 381, in dispatch_queue\n",
            "    yield self.process_one()\n",
            "  File \"/usr/local/lib/python3.7/dist-packages/tornado/gen.py\", line 346, in wrapper\n",
            "    runner = Runner(result, future, yielded)\n",
            "  File \"/usr/local/lib/python3.7/dist-packages/tornado/gen.py\", line 1080, in __init__\n",
            "    self.run()\n",
            "  File \"/usr/local/lib/python3.7/dist-packages/tornado/gen.py\", line 1147, in run\n",
            "    yielded = self.gen.send(value)\n",
            "  File \"/usr/local/lib/python3.7/dist-packages/ipykernel/kernelbase.py\", line 365, in process_one\n",
            "    yield gen.maybe_future(dispatch(*args))\n",
            "  File \"/usr/local/lib/python3.7/dist-packages/tornado/gen.py\", line 326, in wrapper\n",
            "    yielded = next(result)\n",
            "  File \"/usr/local/lib/python3.7/dist-packages/ipykernel/kernelbase.py\", line 268, in dispatch_shell\n",
            "    yield gen.maybe_future(handler(stream, idents, msg))\n",
            "  File \"/usr/local/lib/python3.7/dist-packages/tornado/gen.py\", line 326, in wrapper\n",
            "    yielded = next(result)\n",
            "  File \"/usr/local/lib/python3.7/dist-packages/ipykernel/kernelbase.py\", line 545, in execute_request\n",
            "    user_expressions, allow_stdin,\n",
            "  File \"/usr/local/lib/python3.7/dist-packages/tornado/gen.py\", line 326, in wrapper\n",
            "    yielded = next(result)\n",
            "  File \"/usr/local/lib/python3.7/dist-packages/ipykernel/ipkernel.py\", line 306, in do_execute\n",
            "    res = shell.run_cell(code, store_history=store_history, silent=silent)\n",
            "  File \"/usr/local/lib/python3.7/dist-packages/ipykernel/zmqshell.py\", line 536, in run_cell\n",
            "    return super(ZMQInteractiveShell, self).run_cell(*args, **kwargs)\n",
            "  File \"/usr/local/lib/python3.7/dist-packages/IPython/core/interactiveshell.py\", line 2855, in run_cell\n",
            "    raw_cell, store_history, silent, shell_futures)\n",
            "  File \"/usr/local/lib/python3.7/dist-packages/IPython/core/interactiveshell.py\", line 2881, in _run_cell\n",
            "    return runner(coro)\n",
            "  File \"/usr/local/lib/python3.7/dist-packages/IPython/core/async_helpers.py\", line 68, in _pseudo_sync_runner\n",
            "    coro.send(None)\n",
            "  File \"/usr/local/lib/python3.7/dist-packages/IPython/core/interactiveshell.py\", line 3058, in run_cell_async\n",
            "    interactivity=interactivity, compiler=compiler, result=result)\n",
            "  File \"/usr/local/lib/python3.7/dist-packages/IPython/core/interactiveshell.py\", line 3249, in run_ast_nodes\n",
            "    if (await self.run_code(code, result,  async_=asy)):\n",
            "  File \"/usr/local/lib/python3.7/dist-packages/IPython/core/interactiveshell.py\", line 3326, in run_code\n",
            "    exec(code_obj, self.user_global_ns, self.user_ns)\n",
            "  File \"<ipython-input-39-7c8d4885368f>\", line 2, in <module>\n",
            "    pipeline_result = evaluate_pipeline(dataset, pipeline, metric)\n",
            "  File \"/content/src/tods/tods/utils.py\", line 148, in evaluate_pipeline\n",
            "    data_preparation_params=data_preparation_params)\n",
            "  File \"/usr/local/lib/python3.7/dist-packages/axolotl/backend/base.py\", line 263, in evaluate_pipeline\n",
            "    data_preparation_params=data_preparation_params, scoring_params=scoring_params, timeout=timeout\n",
            "  File \"/usr/local/lib/python3.7/dist-packages/axolotl/backend/simple.py\", line 166, in evaluate_pipeline_request\n",
            "    volumes_dir=self.volumes_dir, scratch_dir=self.scratch_dir, runtime_environment=self.runtime_environment\n",
            "  File \"/usr/local/lib/python3.7/dist-packages/d3m/runtime.py\", line 1826, in evaluate\n",
            "    scratch_dir=scratch_dir, runtime_environment=runtime_environment,\n",
            "  File \"/usr/local/lib/python3.7/dist-packages/d3m/runtime.py\", line 1850, in evaluate_fold\n",
            "    fold_group_uuid=fold_group_uuid, fold_index=fold_index,\n",
            "  File \"/usr/local/lib/python3.7/dist-packages/d3m/runtime.py\", line 1495, in fit\n",
            "    result = runtime.fit(inputs, outputs_to_expose=outputs_to_expose)\n",
            "  File \"/usr/local/lib/python3.7/dist-packages/d3m/deprecate.py\", line 140, in wrapper\n",
            "    return f(*args, **kwargs)\n",
            "  File \"/usr/local/lib/python3.7/dist-packages/d3m/runtime.py\", line 1248, in fit\n",
            "    return self._run(inputs, metadata_base.PipelineRunPhase.FIT, outputs_to_expose or return_values)\n",
            "  File \"/usr/local/lib/python3.7/dist-packages/d3m/runtime.py\", line 1155, in _run\n",
            "    self._do_run()\n",
            "  File \"/usr/local/lib/python3.7/dist-packages/d3m/runtime.py\", line 1131, in _do_run\n",
            "    self._do_run_step(step)\n",
            "  File \"/usr/local/lib/python3.7/dist-packages/d3m/runtime.py\", line 1114, in _do_run_step\n",
            "    self._run_step(step)\n",
            "  File \"/usr/local/lib/python3.7/dist-packages/d3m/runtime.py\", line 1102, in _run_step\n",
            "    self._run_primitive(step)\n",
            "  File \"/usr/local/lib/python3.7/dist-packages/d3m/runtime.py\", line 975, in _run_primitive\n",
            "    multi_call_result = self._call_primitive_method(primitive.fit_multi_produce, fit_multi_produce_arguments)\n",
            "  File \"/usr/local/lib/python3.7/dist-packages/d3m/runtime.py\", line 1074, in _call_primitive_method\n",
            "    result = method(**arguments)\n",
            "  File \"/content/src/tods/tods/common/TODSBasePrimitives.py\", line 156, in fit_multi_produce\n",
            "    return self._fit_multi_produce(produce_methods=produce_methods, timeout=timeout, iterations=iterations, inputs=inputs)\n",
            "  File \"/usr/local/lib/python3.7/dist-packages/d3m/primitive_interfaces/base.py\", line 545, in _fit_multi_produce\n",
            "    fit_result = self.fit(timeout=timeout, iterations=iterations)\n",
            "  File \"/content/src/tods/tods/detection_algorithm/PyodAE.py\", line 300, in fit\n",
            "    return super()._fit()\n",
            "  File \"/content/src/tods/tods/detection_algorithm/UODBasePrimitive.py\", line 270, in _fit\n",
            "    self._clf.fit(X=self._training_inputs.values, **self._clf_fit_parameter)\n",
            "  File \"/usr/local/lib/python3.7/dist-packages/pyod/models/auto_encoder.py\", line 250, in fit\n",
            "    verbose=self.verbose).history\n",
            "  File \"/usr/local/lib/python3.7/dist-packages/tensorflow/python/keras/engine/training_v1.py\", line 808, in fit\n",
            "    use_multiprocessing=use_multiprocessing)\n",
            "  File \"/usr/local/lib/python3.7/dist-packages/tensorflow/python/keras/engine/training_arrays_v1.py\", line 664, in fit\n",
            "    steps_name='steps_per_epoch')\n",
            "  File \"/usr/local/lib/python3.7/dist-packages/tensorflow/python/keras/engine/training_arrays_v1.py\", line 351, in model_iteration\n",
            "    np.random.shuffle(index_array)\n",
            "  File \"/usr/local/lib/python3.7/dist-packages/d3m/utils.py\", line 1217, in wrapper\n",
            "    ignore_modules=ignore_random_warnings,\n",
            "  File \"/usr/local/lib/python3.7/dist-packages/d3m/utils.py\", line 1727, in log_once\n",
            "    logger.log(level, msg, *args, **kwargs)\n"
          ]
        },
        {
          "output_type": "stream",
          "name": "stdout",
          "text": [
            "Train on 1260 samples, validate on 140 samples\n",
            "Epoch 1/20\n",
            "1260/1260 [==============================] - 0s 294us/sample - loss: 1.8660 - val_loss: 1.8624\n",
            "Epoch 2/20\n",
            "1260/1260 [==============================] - 0s 57us/sample - loss: 1.6543 - val_loss: 1.7376\n",
            "Epoch 3/20\n",
            "  32/1260 [..............................] - ETA: 0s - loss: 1.2131"
          ]
        },
        {
          "output_type": "stream",
          "name": "stderr",
          "text": [
            "/usr/local/lib/python3.7/dist-packages/tensorflow/python/keras/engine/training.py:2325: UserWarning: `Model.state_updates` will be removed in a future version. This property should not be used in TensorFlow 2.0, as `updates` are applied automatically.\n",
            "  warnings.warn('`Model.state_updates` will be removed in a future version. '\n"
          ]
        },
        {
          "output_type": "stream",
          "name": "stdout",
          "text": [
            "1260/1260 [==============================] - 0s 48us/sample - loss: 1.5749 - val_loss: 1.6481\n",
            "Epoch 4/20\n",
            "1260/1260 [==============================] - 0s 62us/sample - loss: 1.4853 - val_loss: 1.5835\n",
            "Epoch 5/20\n",
            "1260/1260 [==============================] - 0s 59us/sample - loss: 1.4066 - val_loss: 1.5359\n",
            "Epoch 6/20\n",
            "1260/1260 [==============================] - 0s 54us/sample - loss: 1.4071 - val_loss: 1.4916\n",
            "Epoch 7/20\n",
            "1260/1260 [==============================] - 0s 54us/sample - loss: 1.3339 - val_loss: 1.4514\n",
            "Epoch 8/20\n",
            "1260/1260 [==============================] - 0s 59us/sample - loss: 1.3102 - val_loss: 1.4196\n",
            "Epoch 9/20\n",
            "1260/1260 [==============================] - 0s 52us/sample - loss: 1.2793 - val_loss: 1.3893\n",
            "Epoch 10/20\n",
            "1260/1260 [==============================] - 0s 55us/sample - loss: 1.2450 - val_loss: 1.3612\n",
            "Epoch 11/20\n",
            "1260/1260 [==============================] - 0s 58us/sample - loss: 1.2287 - val_loss: 1.3334\n",
            "Epoch 12/20\n",
            "1260/1260 [==============================] - 0s 60us/sample - loss: 1.2135 - val_loss: 1.3094\n",
            "Epoch 13/20\n",
            "1260/1260 [==============================] - 0s 56us/sample - loss: 1.1707 - val_loss: 1.2836\n",
            "Epoch 14/20\n",
            "1260/1260 [==============================] - 0s 61us/sample - loss: 1.1664 - val_loss: 1.2600\n",
            "Epoch 15/20\n",
            "1260/1260 [==============================] - 0s 59us/sample - loss: 1.1359 - val_loss: 1.2395\n",
            "Epoch 16/20\n",
            "1260/1260 [==============================] - 0s 61us/sample - loss: 1.1130 - val_loss: 1.2200\n",
            "Epoch 17/20\n",
            "1260/1260 [==============================] - 0s 65us/sample - loss: 1.1081 - val_loss: 1.2015\n",
            "Epoch 18/20\n",
            "1260/1260 [==============================] - 0s 54us/sample - loss: 1.0912 - val_loss: 1.1838\n",
            "Epoch 19/20\n",
            "1260/1260 [==============================] - 0s 57us/sample - loss: 1.0738 - val_loss: 1.1665\n",
            "Epoch 20/20\n",
            "1260/1260 [==============================] - 0s 57us/sample - loss: 1.0610 - val_loss: 1.1507\n"
          ]
        },
        {
          "output_type": "stream",
          "name": "stderr",
          "text": [
            "/usr/local/lib/python3.7/dist-packages/tensorflow/python/keras/engine/training.py:2325: UserWarning: `Model.state_updates` will be removed in a future version. This property should not be used in TensorFlow 2.0, as `updates` are applied automatically.\n",
            "  warnings.warn('`Model.state_updates` will be removed in a future version. '\n"
          ]
        },
        {
          "output_type": "stream",
          "name": "stdout",
          "text": [
            "{'method_called': 'evaluate',\n",
            " 'outputs': \"[{'outputs.0':      d3mIndex  anomaly\"\n",
            "            '0           0        0'\n",
            "            '1           1        0'\n",
            "            '2           2        0'\n",
            "            '3           3        0'\n",
            "            '4           4        0'\n",
            "            '...       ...      ...'\n",
            "            '1395     1395        0'\n",
            "            '1396     1396        0'\n",
            "            '1397     1397        1'\n",
            "            '1398     1398        1'\n",
            "            '1399     1399        0'\n",
            "            ''\n",
            "            \"[1400 rows x 2 columns]}, {'outputs.0':      d3mIndex  anomaly\"\n",
            "            '0           0        0'\n",
            "            '1           1        0'\n",
            "            '2           2        0'\n",
            "            '3           3        0'\n",
            "            '4           4        0'\n",
            "            '...       ...      ...'\n",
            "            '1395     1395        0'\n",
            "            '1396     1396        0'\n",
            "            '1397     1397        1'\n",
            "            '1398     1398        1'\n",
            "            '1399     1399        0'\n",
            "            ''\n",
            "            '[1400 rows x 2 columns]}]',\n",
            " 'pipeline': '<d3m.metadata.pipeline.Pipeline object at 0x7fbdd90a1290>',\n",
            " 'scores': '     metric     value  normalized  randomSeed  fold'\n",
            "           '0  F1_MACRO  0.708549    0.708549           0     0',\n",
            " 'status': 'COMPLETED'}\n"
          ]
        }
      ],
      "source": [
        "# Run the pipeline\n",
        "pipeline_result = evaluate_pipeline(dataset, pipeline, metric)\n",
        "print(pipeline_result)"
      ]
    },
    {
      "cell_type": "markdown",
      "metadata": {
        "id": "TazcSYYXoiYV"
      },
      "source": [
        "## Searcher Example:"
      ]
    },
    {
      "cell_type": "code",
      "execution_count": null,
      "metadata": {
        "id": "8vjanZeFoiYV"
      },
      "outputs": [],
      "source": [
        "table_path = 'src/tods/datasets/anomaly/raw_data/yahoo_sub_5.csv'\n",
        "target_index = 6 # column of the target label\n",
        "time_limit = 30 # How many seconds you wanna search"
      ]
    },
    {
      "cell_type": "code",
      "execution_count": null,
      "metadata": {
        "id": "28kHehvToiYV"
      },
      "outputs": [],
      "source": [
        "metric = 'F1_MACRO' # F1 on both label 0 and 1"
      ]
    },
    {
      "cell_type": "code",
      "execution_count": null,
      "metadata": {
        "id": "hv2pLMIyoiYV"
      },
      "outputs": [],
      "source": [
        "# Read data and generate dataset and problem\n",
        "df = pd.read_csv(table_path)\n",
        "dataset = generate_dataset(df, target_index=target_index)\n",
        "problem_description = generate_problem(dataset, metric)"
      ]
    },
    {
      "cell_type": "code",
      "execution_count": null,
      "metadata": {
        "id": "O-jnvGRZoiYV"
      },
      "outputs": [],
      "source": [
        "# Start backend\n",
        "backend = SimpleRunner(random_seed=0)"
      ]
    },
    {
      "cell_type": "code",
      "execution_count": null,
      "metadata": {
        "id": "Py-FdcD1oiYW"
      },
      "outputs": [],
      "source": [
        "# Start search algorithm\n",
        "search = BruteForceSearch(problem_description=problem_description,\n",
        "                          backend=backend)"
      ]
    },
    {
      "cell_type": "code",
      "execution_count": null,
      "metadata": {
        "id": "ikhtyJ16oiYW",
        "colab": {
          "base_uri": "https://localhost:8080/"
        },
        "outputId": "558e1ff4-8de3-4850-fc45-f06642494a95"
      },
      "outputs": [
        {
          "output_type": "stream",
          "name": "stderr",
          "text": [
            "WARNING:d3m.runtime:Not all provided hyper-parameters for the data preparation pipeline 79ce71bd-db96-494b-a455-14f2e2ac5040 were used: ['method', 'number_of_folds', 'randomSeed', 'shuffle', 'stratified']\n"
          ]
        },
        {
          "output_type": "stream",
          "name": "stdout",
          "text": [
            "Model: \"sequential_3\"\n",
            "_________________________________________________________________\n",
            "Layer (type)                 Output Shape              Param #   \n",
            "=================================================================\n",
            "dense_8 (Dense)              (None, 12)                156       \n",
            "_________________________________________________________________\n",
            "dropout_7 (Dropout)          (None, 12)                0         \n",
            "_________________________________________________________________\n",
            "dense_9 (Dense)              (None, 12)                156       \n",
            "_________________________________________________________________\n",
            "dropout_8 (Dropout)          (None, 12)                0         \n",
            "_________________________________________________________________\n",
            "dense_10 (Dense)             (None, 1)                 13        \n",
            "_________________________________________________________________\n",
            "dropout_9 (Dropout)          (None, 1)                 0         \n",
            "_________________________________________________________________\n",
            "dense_11 (Dense)             (None, 4)                 8         \n",
            "_________________________________________________________________\n",
            "dropout_10 (Dropout)         (None, 4)                 0         \n",
            "_________________________________________________________________\n",
            "dense_12 (Dense)             (None, 1)                 5         \n",
            "_________________________________________________________________\n",
            "dropout_11 (Dropout)         (None, 1)                 0         \n",
            "_________________________________________________________________\n",
            "dense_13 (Dense)             (None, 12)                24        \n",
            "=================================================================\n",
            "Total params: 362\n",
            "Trainable params: 362\n",
            "Non-trainable params: 0\n",
            "_________________________________________________________________\n",
            "None\n",
            "Train on 1260 samples, validate on 140 samples\n",
            "Epoch 1/20\n",
            "1260/1260 [==============================] - 0s 360us/sample - loss: 1.6613 - val_loss: 1.2722\n",
            "Epoch 2/20\n",
            "1260/1260 [==============================] - 0s 68us/sample - loss: 1.4841 - val_loss: 1.1443\n",
            "Epoch 3/20\n",
            "  32/1260 [..............................] - ETA: 0s - loss: 0.9615"
          ]
        },
        {
          "output_type": "stream",
          "name": "stderr",
          "text": [
            "/usr/local/lib/python3.7/dist-packages/tensorflow/python/keras/engine/training.py:2325: UserWarning: `Model.state_updates` will be removed in a future version. This property should not be used in TensorFlow 2.0, as `updates` are applied automatically.\n",
            "  warnings.warn('`Model.state_updates` will be removed in a future version. '\n"
          ]
        },
        {
          "output_type": "stream",
          "name": "stdout",
          "text": [
            "1260/1260 [==============================] - 0s 56us/sample - loss: 1.3426 - val_loss: 1.0502\n",
            "Epoch 4/20\n",
            "1260/1260 [==============================] - 0s 49us/sample - loss: 1.2507 - val_loss: 0.9794\n",
            "Epoch 5/20\n",
            "1260/1260 [==============================] - 0s 55us/sample - loss: 1.1810 - val_loss: 0.9228\n",
            "Epoch 6/20\n",
            "1260/1260 [==============================] - 0s 62us/sample - loss: 1.1196 - val_loss: 0.8748\n",
            "Epoch 7/20\n",
            "1260/1260 [==============================] - 0s 54us/sample - loss: 1.0819 - val_loss: 0.8358\n",
            "Epoch 8/20\n",
            "1260/1260 [==============================] - 0s 51us/sample - loss: 1.0382 - val_loss: 0.8026\n",
            "Epoch 9/20\n",
            "1260/1260 [==============================] - 0s 56us/sample - loss: 0.9943 - val_loss: 0.7752\n",
            "Epoch 10/20\n",
            "1260/1260 [==============================] - 0s 54us/sample - loss: 0.9724 - val_loss: 0.7515\n",
            "Epoch 11/20\n",
            "1260/1260 [==============================] - 0s 56us/sample - loss: 0.9443 - val_loss: 0.7311\n",
            "Epoch 12/20\n",
            "1260/1260 [==============================] - 0s 58us/sample - loss: 0.9238 - val_loss: 0.7125\n",
            "Epoch 13/20\n",
            "1260/1260 [==============================] - 0s 67us/sample - loss: 0.9057 - val_loss: 0.6967\n",
            "Epoch 14/20\n",
            "1260/1260 [==============================] - 0s 54us/sample - loss: 0.8848 - val_loss: 0.6824\n",
            "Epoch 15/20\n",
            "1260/1260 [==============================] - 0s 60us/sample - loss: 0.8678 - val_loss: 0.6698\n",
            "Epoch 16/20\n",
            "1260/1260 [==============================] - 0s 52us/sample - loss: 0.8520 - val_loss: 0.6583\n",
            "Epoch 17/20\n",
            "1260/1260 [==============================] - 0s 56us/sample - loss: 0.8435 - val_loss: 0.6486\n",
            "Epoch 18/20\n",
            "1260/1260 [==============================] - 0s 55us/sample - loss: 0.8333 - val_loss: 0.6394\n",
            "Epoch 19/20\n",
            "1260/1260 [==============================] - 0s 56us/sample - loss: 0.8153 - val_loss: 0.6308\n",
            "Epoch 20/20\n",
            "1260/1260 [==============================] - 0s 55us/sample - loss: 0.8093 - val_loss: 0.6235\n"
          ]
        },
        {
          "output_type": "stream",
          "name": "stderr",
          "text": [
            "/usr/local/lib/python3.7/dist-packages/tensorflow/python/keras/engine/training.py:2325: UserWarning: `Model.state_updates` will be removed in a future version. This property should not be used in TensorFlow 2.0, as `updates` are applied automatically.\n",
            "  warnings.warn('`Model.state_updates` will be removed in a future version. '\n",
            "Traceback (most recent call last):\n",
            "  File \"/content/src/tods/tods/searcher/brute_force_search.py\", line 62, in _search\n",
            "    for error in pipeline_result.error:\n",
            "TypeError: 'NoneType' object is not iterable\n",
            "WARNING:d3m.runtime:Not all provided hyper-parameters for the data preparation pipeline 79ce71bd-db96-494b-a455-14f2e2ac5040 were used: ['method', 'number_of_folds', 'randomSeed', 'shuffle', 'stratified']\n"
          ]
        },
        {
          "output_type": "stream",
          "name": "stdout",
          "text": [
            "Model: \"sequential_4\"\n",
            "_________________________________________________________________\n",
            "Layer (type)                 Output Shape              Param #   \n",
            "=================================================================\n",
            "dense_14 (Dense)             (None, 12)                156       \n",
            "_________________________________________________________________\n",
            "dropout_12 (Dropout)         (None, 12)                0         \n",
            "_________________________________________________________________\n",
            "dense_15 (Dense)             (None, 12)                156       \n",
            "_________________________________________________________________\n",
            "dropout_13 (Dropout)         (None, 12)                0         \n",
            "_________________________________________________________________\n",
            "dense_16 (Dense)             (None, 1)                 13        \n",
            "_________________________________________________________________\n",
            "dropout_14 (Dropout)         (None, 1)                 0         \n",
            "_________________________________________________________________\n",
            "dense_17 (Dense)             (None, 4)                 8         \n",
            "_________________________________________________________________\n",
            "dropout_15 (Dropout)         (None, 4)                 0         \n",
            "_________________________________________________________________\n",
            "dense_18 (Dense)             (None, 1)                 5         \n",
            "_________________________________________________________________\n",
            "dropout_16 (Dropout)         (None, 1)                 0         \n",
            "_________________________________________________________________\n",
            "dense_19 (Dense)             (None, 12)                24        \n",
            "=================================================================\n",
            "Total params: 362\n",
            "Trainable params: 362\n",
            "Non-trainable params: 0\n",
            "_________________________________________________________________\n",
            "None\n",
            "Train on 1260 samples, validate on 140 samples\n",
            "Epoch 1/20\n",
            "1260/1260 [==============================] - 1s 420us/sample - loss: 1.7897 - val_loss: 1.3334\n",
            "Epoch 2/20\n",
            "1260/1260 [==============================] - 0s 58us/sample - loss: 1.5578 - val_loss: 1.1863\n",
            "Epoch 3/20\n"
          ]
        },
        {
          "output_type": "stream",
          "name": "stderr",
          "text": [
            "/usr/local/lib/python3.7/dist-packages/tensorflow/python/keras/engine/training.py:2325: UserWarning: `Model.state_updates` will be removed in a future version. This property should not be used in TensorFlow 2.0, as `updates` are applied automatically.\n",
            "  warnings.warn('`Model.state_updates` will be removed in a future version. '\n"
          ]
        },
        {
          "output_type": "stream",
          "name": "stdout",
          "text": [
            "1260/1260 [==============================] - 0s 61us/sample - loss: 1.4321 - val_loss: 1.0859\n",
            "Epoch 4/20\n",
            "1260/1260 [==============================] - 0s 54us/sample - loss: 1.3271 - val_loss: 1.0135\n",
            "Epoch 5/20\n",
            "1260/1260 [==============================] - 0s 55us/sample - loss: 1.2531 - val_loss: 0.9555\n",
            "Epoch 6/20\n",
            "1260/1260 [==============================] - 0s 61us/sample - loss: 1.1945 - val_loss: 0.9104\n",
            "Epoch 7/20\n",
            "1260/1260 [==============================] - 0s 58us/sample - loss: 1.1594 - val_loss: 0.8737\n",
            "Epoch 8/20\n",
            "1260/1260 [==============================] - 0s 69us/sample - loss: 1.1131 - val_loss: 0.8431\n",
            "Epoch 9/20\n",
            "1260/1260 [==============================] - 0s 57us/sample - loss: 1.0782 - val_loss: 0.8172\n",
            "Epoch 10/20\n",
            "1260/1260 [==============================] - 0s 67us/sample - loss: 1.0537 - val_loss: 0.7947\n",
            "Epoch 11/20\n",
            "1260/1260 [==============================] - 0s 59us/sample - loss: 1.0302 - val_loss: 0.7750\n",
            "Epoch 12/20\n",
            "1260/1260 [==============================] - 0s 52us/sample - loss: 1.0099 - val_loss: 0.7568\n",
            "Epoch 13/20\n",
            "1260/1260 [==============================] - 0s 57us/sample - loss: 0.9850 - val_loss: 0.7402\n",
            "Epoch 14/20\n",
            "1260/1260 [==============================] - 0s 59us/sample - loss: 0.9670 - val_loss: 0.7253\n",
            "Epoch 15/20\n",
            "1260/1260 [==============================] - 0s 56us/sample - loss: 0.9476 - val_loss: 0.7121\n",
            "Epoch 16/20\n",
            "1260/1260 [==============================] - 0s 60us/sample - loss: 0.9338 - val_loss: 0.6990\n",
            "Epoch 17/20\n",
            "1260/1260 [==============================] - 0s 54us/sample - loss: 0.9200 - val_loss: 0.6870\n",
            "Epoch 18/20\n",
            "1260/1260 [==============================] - 0s 60us/sample - loss: 0.9009 - val_loss: 0.6761\n",
            "Epoch 19/20\n",
            "1260/1260 [==============================] - 0s 55us/sample - loss: 0.8871 - val_loss: 0.6661\n",
            "Epoch 20/20\n",
            "1260/1260 [==============================] - 0s 59us/sample - loss: 0.8753 - val_loss: 0.6556\n"
          ]
        },
        {
          "output_type": "stream",
          "name": "stderr",
          "text": [
            "/usr/local/lib/python3.7/dist-packages/tensorflow/python/keras/engine/training.py:2325: UserWarning: `Model.state_updates` will be removed in a future version. This property should not be used in TensorFlow 2.0, as `updates` are applied automatically.\n",
            "  warnings.warn('`Model.state_updates` will be removed in a future version. '\n",
            "Traceback (most recent call last):\n",
            "  File \"/content/src/tods/tods/searcher/brute_force_search.py\", line 62, in _search\n",
            "    for error in pipeline_result.error:\n",
            "TypeError: 'NoneType' object is not iterable\n",
            "WARNING:d3m.runtime:Not all provided hyper-parameters for the data preparation pipeline 79ce71bd-db96-494b-a455-14f2e2ac5040 were used: ['method', 'number_of_folds', 'randomSeed', 'shuffle', 'stratified']\n"
          ]
        },
        {
          "output_type": "stream",
          "name": "stdout",
          "text": [
            "Model: \"sequential_5\"\n",
            "_________________________________________________________________\n",
            "Layer (type)                 Output Shape              Param #   \n",
            "=================================================================\n",
            "dense_20 (Dense)             (None, 12)                156       \n",
            "_________________________________________________________________\n",
            "dropout_17 (Dropout)         (None, 12)                0         \n",
            "_________________________________________________________________\n",
            "dense_21 (Dense)             (None, 12)                156       \n",
            "_________________________________________________________________\n",
            "dropout_18 (Dropout)         (None, 12)                0         \n",
            "_________________________________________________________________\n",
            "dense_22 (Dense)             (None, 1)                 13        \n",
            "_________________________________________________________________\n",
            "dropout_19 (Dropout)         (None, 1)                 0         \n",
            "_________________________________________________________________\n",
            "dense_23 (Dense)             (None, 4)                 8         \n",
            "_________________________________________________________________\n",
            "dropout_20 (Dropout)         (None, 4)                 0         \n",
            "_________________________________________________________________\n",
            "dense_24 (Dense)             (None, 1)                 5         \n",
            "_________________________________________________________________\n",
            "dropout_21 (Dropout)         (None, 1)                 0         \n",
            "_________________________________________________________________\n",
            "dense_25 (Dense)             (None, 12)                24        \n",
            "=================================================================\n",
            "Total params: 362\n",
            "Trainable params: 362\n",
            "Non-trainable params: 0\n",
            "_________________________________________________________________\n",
            "None\n",
            "Train on 1260 samples, validate on 140 samples\n",
            "Epoch 1/20\n",
            "1260/1260 [==============================] - 1s 472us/sample - loss: 1.7272 - val_loss: 1.9879\n",
            "Epoch 2/20\n",
            "1088/1260 [========================>.....] - ETA: 0s - loss: 1.4794"
          ]
        },
        {
          "output_type": "stream",
          "name": "stderr",
          "text": [
            "/usr/local/lib/python3.7/dist-packages/tensorflow/python/keras/engine/training.py:2325: UserWarning: `Model.state_updates` will be removed in a future version. This property should not be used in TensorFlow 2.0, as `updates` are applied automatically.\n",
            "  warnings.warn('`Model.state_updates` will be removed in a future version. '\n"
          ]
        },
        {
          "output_type": "stream",
          "name": "stdout",
          "text": [
            "1260/1260 [==============================] - 0s 67us/sample - loss: 1.5419 - val_loss: 1.7698\n",
            "Epoch 3/20\n",
            "1260/1260 [==============================] - 0s 58us/sample - loss: 1.3736 - val_loss: 1.6139\n",
            "Epoch 4/20\n",
            "1260/1260 [==============================] - 0s 62us/sample - loss: 1.2414 - val_loss: 1.5053\n",
            "Epoch 5/20\n",
            "1260/1260 [==============================] - 0s 53us/sample - loss: 1.1918 - val_loss: 1.4094\n",
            "Epoch 6/20\n",
            "1260/1260 [==============================] - 0s 67us/sample - loss: 1.1041 - val_loss: 1.3407\n",
            "Epoch 7/20\n",
            "1260/1260 [==============================] - 0s 56us/sample - loss: 1.0701 - val_loss: 1.2829\n",
            "Epoch 8/20\n",
            "1260/1260 [==============================] - 0s 57us/sample - loss: 1.0185 - val_loss: 1.2348\n",
            "Epoch 9/20\n",
            "1260/1260 [==============================] - 0s 64us/sample - loss: 0.9811 - val_loss: 1.1970\n",
            "Epoch 10/20\n",
            "1260/1260 [==============================] - 0s 59us/sample - loss: 0.9615 - val_loss: 1.1620\n",
            "Epoch 11/20\n",
            "1260/1260 [==============================] - 0s 62us/sample - loss: 0.9611 - val_loss: 1.1282\n",
            "Epoch 12/20\n",
            "1260/1260 [==============================] - 0s 57us/sample - loss: 0.9115 - val_loss: 1.1000\n",
            "Epoch 13/20\n",
            "1260/1260 [==============================] - 0s 64us/sample - loss: 0.8886 - val_loss: 1.0773\n",
            "Epoch 14/20\n",
            "1260/1260 [==============================] - 0s 64us/sample - loss: 0.8752 - val_loss: 1.0554\n",
            "Epoch 15/20\n",
            "1260/1260 [==============================] - 0s 69us/sample - loss: 0.8647 - val_loss: 1.0336\n",
            "Epoch 16/20\n",
            "1260/1260 [==============================] - 0s 62us/sample - loss: 0.8427 - val_loss: 1.0144\n",
            "Epoch 17/20\n",
            "1260/1260 [==============================] - 0s 61us/sample - loss: 0.8331 - val_loss: 0.9985\n",
            "Epoch 18/20\n",
            "1260/1260 [==============================] - 0s 85us/sample - loss: 0.8255 - val_loss: 0.9822\n",
            "Epoch 19/20\n",
            "1260/1260 [==============================] - 0s 61us/sample - loss: 0.8068 - val_loss: 0.9671\n",
            "Epoch 20/20\n",
            "1260/1260 [==============================] - 0s 65us/sample - loss: 0.7975 - val_loss: 0.9545\n"
          ]
        },
        {
          "output_type": "stream",
          "name": "stderr",
          "text": [
            "/usr/local/lib/python3.7/dist-packages/tensorflow/python/keras/engine/training.py:2325: UserWarning: `Model.state_updates` will be removed in a future version. This property should not be used in TensorFlow 2.0, as `updates` are applied automatically.\n",
            "  warnings.warn('`Model.state_updates` will be removed in a future version. '\n",
            "Traceback (most recent call last):\n",
            "  File \"/content/src/tods/tods/searcher/brute_force_search.py\", line 62, in _search\n",
            "    for error in pipeline_result.error:\n",
            "TypeError: 'NoneType' object is not iterable\n",
            "WARNING:d3m.runtime:Not all provided hyper-parameters for the data preparation pipeline 79ce71bd-db96-494b-a455-14f2e2ac5040 were used: ['method', 'number_of_folds', 'randomSeed', 'shuffle', 'stratified']\n"
          ]
        },
        {
          "output_type": "stream",
          "name": "stdout",
          "text": [
            "Model: \"sequential_6\"\n",
            "_________________________________________________________________\n",
            "Layer (type)                 Output Shape              Param #   \n",
            "=================================================================\n",
            "dense_26 (Dense)             (None, 12)                156       \n",
            "_________________________________________________________________\n",
            "dropout_22 (Dropout)         (None, 12)                0         \n",
            "_________________________________________________________________\n",
            "dense_27 (Dense)             (None, 12)                156       \n",
            "_________________________________________________________________\n",
            "dropout_23 (Dropout)         (None, 12)                0         \n",
            "_________________________________________________________________\n",
            "dense_28 (Dense)             (None, 1)                 13        \n",
            "_________________________________________________________________\n",
            "dropout_24 (Dropout)         (None, 1)                 0         \n",
            "_________________________________________________________________\n",
            "dense_29 (Dense)             (None, 4)                 8         \n",
            "_________________________________________________________________\n",
            "dropout_25 (Dropout)         (None, 4)                 0         \n",
            "_________________________________________________________________\n",
            "dense_30 (Dense)             (None, 1)                 5         \n",
            "_________________________________________________________________\n",
            "dropout_26 (Dropout)         (None, 1)                 0         \n",
            "_________________________________________________________________\n",
            "dense_31 (Dense)             (None, 12)                24        \n",
            "=================================================================\n",
            "Total params: 362\n",
            "Trainable params: 362\n",
            "Non-trainable params: 0\n",
            "_________________________________________________________________\n",
            "None\n",
            "Train on 1260 samples, validate on 140 samples\n",
            "Epoch 1/20\n",
            "1260/1260 [==============================] - 1s 581us/sample - loss: 1.2318 - val_loss: 2.1253\n",
            "Epoch 2/20\n",
            "  32/1260 [..............................] - ETA: 0s - loss: 0.9112"
          ]
        },
        {
          "output_type": "stream",
          "name": "stderr",
          "text": [
            "/usr/local/lib/python3.7/dist-packages/tensorflow/python/keras/engine/training.py:2325: UserWarning: `Model.state_updates` will be removed in a future version. This property should not be used in TensorFlow 2.0, as `updates` are applied automatically.\n",
            "  warnings.warn('`Model.state_updates` will be removed in a future version. '\n"
          ]
        },
        {
          "output_type": "stream",
          "name": "stdout",
          "text": [
            "1260/1260 [==============================] - 0s 59us/sample - loss: 1.1099 - val_loss: 1.9770\n",
            "Epoch 3/20\n",
            "1260/1260 [==============================] - 0s 56us/sample - loss: 1.0542 - val_loss: 1.9017\n",
            "Epoch 4/20\n",
            "1260/1260 [==============================] - 0s 61us/sample - loss: 1.0134 - val_loss: 1.8506\n",
            "Epoch 5/20\n",
            "1260/1260 [==============================] - 0s 56us/sample - loss: 0.9860 - val_loss: 1.8001\n",
            "Epoch 6/20\n",
            "1260/1260 [==============================] - 0s 68us/sample - loss: 0.9596 - val_loss: 1.7603\n",
            "Epoch 7/20\n",
            "1260/1260 [==============================] - 0s 61us/sample - loss: 0.9351 - val_loss: 1.7329\n",
            "Epoch 8/20\n",
            "1260/1260 [==============================] - 0s 62us/sample - loss: 0.9152 - val_loss: 1.6750\n",
            "Epoch 9/20\n",
            "1260/1260 [==============================] - 0s 68us/sample - loss: 0.8996 - val_loss: 1.6477\n",
            "Epoch 10/20\n",
            "1260/1260 [==============================] - 0s 61us/sample - loss: 0.8811 - val_loss: 1.6244\n",
            "Epoch 11/20\n",
            "1260/1260 [==============================] - 0s 70us/sample - loss: 0.8653 - val_loss: 1.5982\n",
            "Epoch 12/20\n",
            "1260/1260 [==============================] - 0s 67us/sample - loss: 0.8481 - val_loss: 1.5817\n",
            "Epoch 13/20\n",
            "1260/1260 [==============================] - 0s 66us/sample - loss: 0.8380 - val_loss: 1.5561\n",
            "Epoch 14/20\n",
            "1260/1260 [==============================] - 0s 67us/sample - loss: 0.8217 - val_loss: 1.5336\n",
            "Epoch 15/20\n",
            "1260/1260 [==============================] - 0s 68us/sample - loss: 0.8119 - val_loss: 1.5168\n",
            "Epoch 16/20\n",
            "1260/1260 [==============================] - 0s 58us/sample - loss: 0.7981 - val_loss: 1.4973\n",
            "Epoch 17/20\n",
            "1260/1260 [==============================] - 0s 66us/sample - loss: 0.7886 - val_loss: 1.4793\n",
            "Epoch 18/20\n",
            "1260/1260 [==============================] - 0s 67us/sample - loss: 0.7781 - val_loss: 1.4627\n",
            "Epoch 19/20\n",
            "1260/1260 [==============================] - 0s 72us/sample - loss: 0.7678 - val_loss: 1.4497\n",
            "Epoch 20/20\n",
            "1260/1260 [==============================] - 0s 66us/sample - loss: 0.7578 - val_loss: 1.4327\n"
          ]
        },
        {
          "output_type": "stream",
          "name": "stderr",
          "text": [
            "/usr/local/lib/python3.7/dist-packages/tensorflow/python/keras/engine/training.py:2325: UserWarning: `Model.state_updates` will be removed in a future version. This property should not be used in TensorFlow 2.0, as `updates` are applied automatically.\n",
            "  warnings.warn('`Model.state_updates` will be removed in a future version. '\n",
            "Traceback (most recent call last):\n",
            "  File \"/content/src/tods/tods/searcher/brute_force_search.py\", line 62, in _search\n",
            "    for error in pipeline_result.error:\n",
            "TypeError: 'NoneType' object is not iterable\n",
            "WARNING:d3m.runtime:Not all provided hyper-parameters for the data preparation pipeline 79ce71bd-db96-494b-a455-14f2e2ac5040 were used: ['method', 'number_of_folds', 'randomSeed', 'shuffle', 'stratified']\n"
          ]
        },
        {
          "output_type": "stream",
          "name": "stdout",
          "text": [
            "Model: \"sequential_7\"\n",
            "_________________________________________________________________\n",
            "Layer (type)                 Output Shape              Param #   \n",
            "=================================================================\n",
            "dense_32 (Dense)             (None, 12)                156       \n",
            "_________________________________________________________________\n",
            "dropout_27 (Dropout)         (None, 12)                0         \n",
            "_________________________________________________________________\n",
            "dense_33 (Dense)             (None, 12)                156       \n",
            "_________________________________________________________________\n",
            "dropout_28 (Dropout)         (None, 12)                0         \n",
            "_________________________________________________________________\n",
            "dense_34 (Dense)             (None, 1)                 13        \n",
            "_________________________________________________________________\n",
            "dropout_29 (Dropout)         (None, 1)                 0         \n",
            "_________________________________________________________________\n",
            "dense_35 (Dense)             (None, 4)                 8         \n",
            "_________________________________________________________________\n",
            "dropout_30 (Dropout)         (None, 4)                 0         \n",
            "_________________________________________________________________\n",
            "dense_36 (Dense)             (None, 1)                 5         \n",
            "_________________________________________________________________\n",
            "dropout_31 (Dropout)         (None, 1)                 0         \n",
            "_________________________________________________________________\n",
            "dense_37 (Dense)             (None, 12)                24        \n",
            "=================================================================\n",
            "Total params: 362\n",
            "Trainable params: 362\n",
            "Non-trainable params: 0\n",
            "_________________________________________________________________\n",
            "None\n",
            "Train on 1260 samples, validate on 140 samples\n",
            "Epoch 1/20\n",
            "1260/1260 [==============================] - 1s 639us/sample - loss: 1.5636 - val_loss: 1.6207\n"
          ]
        },
        {
          "output_type": "stream",
          "name": "stderr",
          "text": [
            "/usr/local/lib/python3.7/dist-packages/tensorflow/python/keras/engine/training.py:2325: UserWarning: `Model.state_updates` will be removed in a future version. This property should not be used in TensorFlow 2.0, as `updates` are applied automatically.\n",
            "  warnings.warn('`Model.state_updates` will be removed in a future version. '\n"
          ]
        },
        {
          "output_type": "stream",
          "name": "stdout",
          "text": [
            "Epoch 2/20\n",
            "1260/1260 [==============================] - 0s 67us/sample - loss: 1.3641 - val_loss: 1.4564\n",
            "Epoch 3/20\n",
            "1260/1260 [==============================] - 0s 59us/sample - loss: 1.2423 - val_loss: 1.3611\n",
            "Epoch 4/20\n",
            "1260/1260 [==============================] - 0s 56us/sample - loss: 1.1618 - val_loss: 1.2846\n",
            "Epoch 5/20\n",
            "1260/1260 [==============================] - 0s 60us/sample - loss: 1.1010 - val_loss: 1.2276\n",
            "Epoch 6/20\n",
            "1260/1260 [==============================] - 0s 65us/sample - loss: 1.0535 - val_loss: 1.1789\n",
            "Epoch 7/20\n",
            "1260/1260 [==============================] - 0s 62us/sample - loss: 1.0071 - val_loss: 1.1367\n",
            "Epoch 8/20\n",
            "1260/1260 [==============================] - 0s 65us/sample - loss: 0.9731 - val_loss: 1.0992\n",
            "Epoch 9/20\n",
            "1260/1260 [==============================] - 0s 60us/sample - loss: 0.9399 - val_loss: 1.0665\n",
            "Epoch 10/20\n",
            "1260/1260 [==============================] - 0s 64us/sample - loss: 0.9133 - val_loss: 1.0377\n",
            "Epoch 11/20\n",
            "1260/1260 [==============================] - 0s 72us/sample - loss: 0.8862 - val_loss: 1.0129\n",
            "Epoch 12/20\n",
            "1260/1260 [==============================] - 0s 66us/sample - loss: 0.8716 - val_loss: 0.9908\n",
            "Epoch 13/20\n",
            "1260/1260 [==============================] - 0s 64us/sample - loss: 0.8463 - val_loss: 0.9716\n",
            "Epoch 14/20\n",
            "1260/1260 [==============================] - 0s 66us/sample - loss: 0.8325 - val_loss: 0.9542\n",
            "Epoch 15/20\n",
            "1260/1260 [==============================] - 0s 58us/sample - loss: 0.8174 - val_loss: 0.9382\n",
            "Epoch 16/20\n",
            "1260/1260 [==============================] - 0s 63us/sample - loss: 0.8028 - val_loss: 0.9250\n",
            "Epoch 17/20\n",
            "1260/1260 [==============================] - 0s 61us/sample - loss: 0.7967 - val_loss: 0.9126\n",
            "Epoch 18/20\n",
            "1260/1260 [==============================] - 0s 68us/sample - loss: 0.7810 - val_loss: 0.9020\n",
            "Epoch 19/20\n",
            "1260/1260 [==============================] - 0s 66us/sample - loss: 0.7681 - val_loss: 0.8922\n",
            "Epoch 20/20\n",
            "1260/1260 [==============================] - 0s 61us/sample - loss: 0.7651 - val_loss: 0.8831\n"
          ]
        },
        {
          "output_type": "stream",
          "name": "stderr",
          "text": [
            "/usr/local/lib/python3.7/dist-packages/tensorflow/python/keras/engine/training.py:2325: UserWarning: `Model.state_updates` will be removed in a future version. This property should not be used in TensorFlow 2.0, as `updates` are applied automatically.\n",
            "  warnings.warn('`Model.state_updates` will be removed in a future version. '\n",
            "Traceback (most recent call last):\n",
            "  File \"/content/src/tods/tods/searcher/brute_force_search.py\", line 62, in _search\n",
            "    for error in pipeline_result.error:\n",
            "TypeError: 'NoneType' object is not iterable\n",
            "WARNING:d3m.runtime:Not all provided hyper-parameters for the data preparation pipeline 79ce71bd-db96-494b-a455-14f2e2ac5040 were used: ['method', 'number_of_folds', 'randomSeed', 'shuffle', 'stratified']\n"
          ]
        },
        {
          "output_type": "stream",
          "name": "stdout",
          "text": [
            "Model: \"sequential_8\"\n",
            "_________________________________________________________________\n",
            "Layer (type)                 Output Shape              Param #   \n",
            "=================================================================\n",
            "dense_38 (Dense)             (None, 12)                156       \n",
            "_________________________________________________________________\n",
            "dropout_32 (Dropout)         (None, 12)                0         \n",
            "_________________________________________________________________\n",
            "dense_39 (Dense)             (None, 12)                156       \n",
            "_________________________________________________________________\n",
            "dropout_33 (Dropout)         (None, 12)                0         \n",
            "_________________________________________________________________\n",
            "dense_40 (Dense)             (None, 1)                 13        \n",
            "_________________________________________________________________\n",
            "dropout_34 (Dropout)         (None, 1)                 0         \n",
            "_________________________________________________________________\n",
            "dense_41 (Dense)             (None, 4)                 8         \n",
            "_________________________________________________________________\n",
            "dropout_35 (Dropout)         (None, 4)                 0         \n",
            "_________________________________________________________________\n",
            "dense_42 (Dense)             (None, 1)                 5         \n",
            "_________________________________________________________________\n",
            "dropout_36 (Dropout)         (None, 1)                 0         \n",
            "_________________________________________________________________\n",
            "dense_43 (Dense)             (None, 12)                24        \n",
            "=================================================================\n",
            "Total params: 362\n",
            "Trainable params: 362\n",
            "Non-trainable params: 0\n",
            "_________________________________________________________________\n",
            "None\n",
            "Train on 1260 samples, validate on 140 samples\n",
            "Epoch 1/20\n",
            "1056/1260 [========================>.....] - ETA: 0s - loss: 1.7758 "
          ]
        },
        {
          "output_type": "stream",
          "name": "stderr",
          "text": [
            "/usr/local/lib/python3.7/dist-packages/tensorflow/python/keras/engine/training.py:2325: UserWarning: `Model.state_updates` will be removed in a future version. This property should not be used in TensorFlow 2.0, as `updates` are applied automatically.\n",
            "  warnings.warn('`Model.state_updates` will be removed in a future version. '\n"
          ]
        },
        {
          "output_type": "stream",
          "name": "stdout",
          "text": [
            "1260/1260 [==============================] - 1s 717us/sample - loss: 1.7938 - val_loss: 1.9949\n",
            "Epoch 2/20\n",
            "1260/1260 [==============================] - 0s 59us/sample - loss: 1.5309 - val_loss: 1.8318\n",
            "Epoch 3/20\n",
            "1260/1260 [==============================] - 0s 58us/sample - loss: 1.3410 - val_loss: 1.7228\n",
            "Epoch 4/20\n",
            "1260/1260 [==============================] - 0s 71us/sample - loss: 1.2392 - val_loss: 1.6411\n",
            "Epoch 5/20\n",
            "1260/1260 [==============================] - 0s 76us/sample - loss: 1.1627 - val_loss: 1.5830\n",
            "Epoch 6/20\n",
            "1260/1260 [==============================] - 0s 63us/sample - loss: 1.1054 - val_loss: 1.5261\n",
            "Epoch 7/20\n",
            "1260/1260 [==============================] - 0s 77us/sample - loss: 1.0525 - val_loss: 1.4851\n",
            "Epoch 8/20\n",
            "1260/1260 [==============================] - 0s 73us/sample - loss: 1.0376 - val_loss: 1.4471\n",
            "Epoch 9/20\n",
            "1260/1260 [==============================] - 0s 68us/sample - loss: 0.9971 - val_loss: 1.4179\n",
            "Epoch 10/20\n",
            "1260/1260 [==============================] - 0s 62us/sample - loss: 0.9633 - val_loss: 1.3884\n",
            "Epoch 11/20\n",
            "1260/1260 [==============================] - 0s 56us/sample - loss: 0.9341 - val_loss: 1.3644\n",
            "Epoch 12/20\n",
            "1260/1260 [==============================] - 0s 63us/sample - loss: 0.9113 - val_loss: 1.3286\n",
            "Epoch 13/20\n",
            "1260/1260 [==============================] - 0s 64us/sample - loss: 0.8926 - val_loss: 1.3050\n",
            "Epoch 14/20\n",
            "1260/1260 [==============================] - 0s 62us/sample - loss: 0.8742 - val_loss: 1.2839\n",
            "Epoch 15/20\n",
            "1260/1260 [==============================] - 0s 63us/sample - loss: 0.8446 - val_loss: 1.2629\n",
            "Epoch 16/20\n",
            "1260/1260 [==============================] - 0s 65us/sample - loss: 0.8243 - val_loss: 1.2417\n",
            "Epoch 17/20\n",
            "1260/1260 [==============================] - 0s 66us/sample - loss: 0.8061 - val_loss: 1.2230\n",
            "Epoch 18/20\n",
            "1260/1260 [==============================] - 0s 67us/sample - loss: 0.7913 - val_loss: 1.2072\n",
            "Epoch 19/20\n",
            "1260/1260 [==============================] - 0s 59us/sample - loss: 0.7779 - val_loss: 1.1929\n",
            "Epoch 20/20\n",
            "1260/1260 [==============================] - 0s 59us/sample - loss: 0.7679 - val_loss: 1.1793\n"
          ]
        },
        {
          "output_type": "stream",
          "name": "stderr",
          "text": [
            "/usr/local/lib/python3.7/dist-packages/tensorflow/python/keras/engine/training.py:2325: UserWarning: `Model.state_updates` will be removed in a future version. This property should not be used in TensorFlow 2.0, as `updates` are applied automatically.\n",
            "  warnings.warn('`Model.state_updates` will be removed in a future version. '\n",
            "Traceback (most recent call last):\n",
            "  File \"/content/src/tods/tods/searcher/brute_force_search.py\", line 62, in _search\n",
            "    for error in pipeline_result.error:\n",
            "TypeError: 'NoneType' object is not iterable\n"
          ]
        },
        {
          "output_type": "stream",
          "name": "stdout",
          "text": [
            "Model: \"sequential_9\"\n",
            "_________________________________________________________________\n",
            "Layer (type)                 Output Shape              Param #   \n",
            "=================================================================\n",
            "dense_44 (Dense)             (None, 12)                156       \n",
            "_________________________________________________________________\n",
            "dropout_37 (Dropout)         (None, 12)                0         \n",
            "_________________________________________________________________\n",
            "dense_45 (Dense)             (None, 12)                156       \n",
            "_________________________________________________________________\n",
            "dropout_38 (Dropout)         (None, 12)                0         \n",
            "_________________________________________________________________\n",
            "dense_46 (Dense)             (None, 1)                 13        \n",
            "_________________________________________________________________\n",
            "dropout_39 (Dropout)         (None, 1)                 0         \n",
            "_________________________________________________________________\n",
            "dense_47 (Dense)             (None, 4)                 8         \n",
            "_________________________________________________________________\n",
            "dropout_40 (Dropout)         (None, 4)                 0         \n",
            "_________________________________________________________________\n",
            "dense_48 (Dense)             (None, 1)                 5         \n",
            "_________________________________________________________________\n",
            "dropout_41 (Dropout)         (None, 1)                 0         \n",
            "_________________________________________________________________\n",
            "dense_49 (Dense)             (None, 12)                24        \n",
            "=================================================================\n",
            "Total params: 362\n",
            "Trainable params: 362\n",
            "Non-trainable params: 0\n",
            "_________________________________________________________________\n",
            "None\n",
            "Train on 1260 samples, validate on 140 samples\n",
            "Epoch 1/20\n",
            " 960/1260 [=====================>........] - ETA: 0s - loss: 1.5900 "
          ]
        },
        {
          "output_type": "stream",
          "name": "stderr",
          "text": [
            "/usr/local/lib/python3.7/dist-packages/tensorflow/python/keras/engine/training.py:2325: UserWarning: `Model.state_updates` will be removed in a future version. This property should not be used in TensorFlow 2.0, as `updates` are applied automatically.\n",
            "  warnings.warn('`Model.state_updates` will be removed in a future version. '\n"
          ]
        },
        {
          "output_type": "stream",
          "name": "stdout",
          "text": [
            "1260/1260 [==============================] - 1s 792us/sample - loss: 1.4859 - val_loss: 1.0971\n",
            "Epoch 2/20\n",
            "1260/1260 [==============================] - 0s 61us/sample - loss: 1.3447 - val_loss: 1.0030\n",
            "Epoch 3/20\n",
            "1260/1260 [==============================] - 0s 66us/sample - loss: 1.2593 - val_loss: 0.9408\n",
            "Epoch 4/20\n",
            "1260/1260 [==============================] - 0s 65us/sample - loss: 1.1785 - val_loss: 0.8937\n",
            "Epoch 5/20\n",
            "1260/1260 [==============================] - 0s 75us/sample - loss: 1.1357 - val_loss: 0.8586\n",
            "Epoch 6/20\n",
            "1260/1260 [==============================] - 0s 63us/sample - loss: 1.1008 - val_loss: 0.8296\n",
            "Epoch 7/20\n",
            "1260/1260 [==============================] - 0s 67us/sample - loss: 1.0599 - val_loss: 0.8045\n",
            "Epoch 8/20\n",
            "1260/1260 [==============================] - 0s 68us/sample - loss: 1.0387 - val_loss: 0.7832\n",
            "Epoch 9/20\n",
            "1260/1260 [==============================] - 0s 64us/sample - loss: 1.0068 - val_loss: 0.7647\n",
            "Epoch 10/20\n",
            "1260/1260 [==============================] - 0s 63us/sample - loss: 0.9853 - val_loss: 0.7478\n",
            "Epoch 11/20\n",
            "1260/1260 [==============================] - 0s 63us/sample - loss: 0.9728 - val_loss: 0.7324\n",
            "Epoch 12/20\n",
            "1260/1260 [==============================] - 0s 68us/sample - loss: 0.9546 - val_loss: 0.7184\n",
            "Epoch 13/20\n",
            "1260/1260 [==============================] - 0s 66us/sample - loss: 0.9390 - val_loss: 0.7049\n",
            "Epoch 14/20\n",
            "1260/1260 [==============================] - 0s 66us/sample - loss: 0.9243 - val_loss: 0.6923\n",
            "Epoch 15/20\n",
            "1260/1260 [==============================] - 0s 69us/sample - loss: 0.9093 - val_loss: 0.6808\n",
            "Epoch 16/20\n",
            "1260/1260 [==============================] - 0s 67us/sample - loss: 0.8960 - val_loss: 0.6699\n",
            "Epoch 17/20\n",
            "1260/1260 [==============================] - 0s 74us/sample - loss: 0.8820 - val_loss: 0.6595\n",
            "Epoch 18/20\n",
            "1260/1260 [==============================] - 0s 61us/sample - loss: 0.8680 - val_loss: 0.6498\n",
            "Epoch 19/20\n",
            "1260/1260 [==============================] - 0s 62us/sample - loss: 0.8589 - val_loss: 0.6406\n",
            "Epoch 20/20\n",
            "1260/1260 [==============================] - 0s 61us/sample - loss: 0.8483 - val_loss: 0.6318\n"
          ]
        },
        {
          "output_type": "stream",
          "name": "stderr",
          "text": [
            "/usr/local/lib/python3.7/dist-packages/tensorflow/python/keras/engine/training.py:2325: UserWarning: `Model.state_updates` will be removed in a future version. This property should not be used in TensorFlow 2.0, as `updates` are applied automatically.\n",
            "  warnings.warn('`Model.state_updates` will be removed in a future version. '\n"
          ]
        }
      ],
      "source": [
        "# Find the best pipeline\n",
        "best_runtime, best_pipeline_result = search.search_fit(input_data=[dataset], time_limit=time_limit)\n",
        "best_pipeline = best_runtime.pipeline\n",
        "best_output = best_pipeline_result.output"
      ]
    },
    {
      "cell_type": "code",
      "execution_count": null,
      "metadata": {
        "id": "FWKHONbXoiYW",
        "colab": {
          "base_uri": "https://localhost:8080/"
        },
        "outputId": "b5d7dea4-113c-4fcb-fe83-60a712cd5ee7"
      },
      "outputs": [
        {
          "output_type": "stream",
          "name": "stderr",
          "text": [
            "WARNING:d3m.runtime:Not all provided hyper-parameters for the data preparation pipeline 79ce71bd-db96-494b-a455-14f2e2ac5040 were used: ['method', 'number_of_folds', 'randomSeed', 'shuffle', 'stratified']\n"
          ]
        },
        {
          "output_type": "stream",
          "name": "stdout",
          "text": [
            "Model: \"sequential_10\"\n",
            "_________________________________________________________________\n",
            "Layer (type)                 Output Shape              Param #   \n",
            "=================================================================\n",
            "dense_50 (Dense)             (None, 12)                156       \n",
            "_________________________________________________________________\n",
            "dropout_42 (Dropout)         (None, 12)                0         \n",
            "_________________________________________________________________\n",
            "dense_51 (Dense)             (None, 12)                156       \n",
            "_________________________________________________________________\n",
            "dropout_43 (Dropout)         (None, 12)                0         \n",
            "_________________________________________________________________\n",
            "dense_52 (Dense)             (None, 1)                 13        \n",
            "_________________________________________________________________\n",
            "dropout_44 (Dropout)         (None, 1)                 0         \n",
            "_________________________________________________________________\n",
            "dense_53 (Dense)             (None, 4)                 8         \n",
            "_________________________________________________________________\n",
            "dropout_45 (Dropout)         (None, 4)                 0         \n",
            "_________________________________________________________________\n",
            "dense_54 (Dense)             (None, 1)                 5         \n",
            "_________________________________________________________________\n",
            "dropout_46 (Dropout)         (None, 1)                 0         \n",
            "_________________________________________________________________\n",
            "dense_55 (Dense)             (None, 12)                24        \n",
            "=================================================================\n",
            "Total params: 362\n",
            "Trainable params: 362\n",
            "Non-trainable params: 0\n",
            "_________________________________________________________________\n",
            "None\n",
            "Train on 1260 samples, validate on 140 samples\n",
            "Epoch 1/20\n",
            " 992/1260 [======================>.......] - ETA: 0s - loss: 1.5536 "
          ]
        },
        {
          "output_type": "stream",
          "name": "stderr",
          "text": [
            "/usr/local/lib/python3.7/dist-packages/tensorflow/python/keras/engine/training.py:2325: UserWarning: `Model.state_updates` will be removed in a future version. This property should not be used in TensorFlow 2.0, as `updates` are applied automatically.\n",
            "  warnings.warn('`Model.state_updates` will be removed in a future version. '\n"
          ]
        },
        {
          "output_type": "stream",
          "name": "stdout",
          "text": [
            "1260/1260 [==============================] - 1s 953us/sample - loss: 1.4433 - val_loss: 1.4167\n",
            "Epoch 2/20\n",
            "1260/1260 [==============================] - 0s 75us/sample - loss: 1.3026 - val_loss: 1.3340\n",
            "Epoch 3/20\n",
            "1260/1260 [==============================] - 0s 60us/sample - loss: 1.2371 - val_loss: 1.2749\n",
            "Epoch 4/20\n",
            "1260/1260 [==============================] - 0s 76us/sample - loss: 1.1622 - val_loss: 1.2287\n",
            "Epoch 5/20\n",
            "1260/1260 [==============================] - 0s 66us/sample - loss: 1.1203 - val_loss: 1.1850\n",
            "Epoch 6/20\n",
            "1260/1260 [==============================] - 0s 66us/sample - loss: 1.1118 - val_loss: 1.1528\n",
            "Epoch 7/20\n",
            "1260/1260 [==============================] - 0s 65us/sample - loss: 1.0757 - val_loss: 1.1263\n",
            "Epoch 8/20\n",
            "1260/1260 [==============================] - 0s 62us/sample - loss: 1.0155 - val_loss: 1.1003\n",
            "Epoch 9/20\n",
            "1260/1260 [==============================] - 0s 65us/sample - loss: 1.0234 - val_loss: 1.0769\n",
            "Epoch 10/20\n",
            "1260/1260 [==============================] - 0s 68us/sample - loss: 1.0012 - val_loss: 1.0569\n",
            "Epoch 11/20\n",
            "1260/1260 [==============================] - 0s 73us/sample - loss: 0.9670 - val_loss: 1.0391\n",
            "Epoch 12/20\n",
            "1260/1260 [==============================] - 0s 66us/sample - loss: 0.9606 - val_loss: 1.0225\n",
            "Epoch 13/20\n",
            "1260/1260 [==============================] - 0s 70us/sample - loss: 0.9264 - val_loss: 1.0065\n",
            "Epoch 14/20\n",
            "1260/1260 [==============================] - 0s 64us/sample - loss: 0.9129 - val_loss: 0.9916\n",
            "Epoch 15/20\n",
            "1260/1260 [==============================] - 0s 60us/sample - loss: 0.9109 - val_loss: 0.9781\n",
            "Epoch 16/20\n",
            "1260/1260 [==============================] - 0s 69us/sample - loss: 0.8819 - val_loss: 0.9657\n",
            "Epoch 17/20\n",
            "1260/1260 [==============================] - 0s 69us/sample - loss: 0.8694 - val_loss: 0.9533\n",
            "Epoch 18/20\n",
            "1260/1260 [==============================] - 0s 66us/sample - loss: 0.8585 - val_loss: 0.9423\n",
            "Epoch 19/20\n",
            "1260/1260 [==============================] - 0s 72us/sample - loss: 0.8535 - val_loss: 0.9315\n",
            "Epoch 20/20\n",
            "1260/1260 [==============================] - 0s 70us/sample - loss: 0.8470 - val_loss: 0.9214\n"
          ]
        },
        {
          "output_type": "stream",
          "name": "stderr",
          "text": [
            "/usr/local/lib/python3.7/dist-packages/tensorflow/python/keras/engine/training.py:2325: UserWarning: `Model.state_updates` will be removed in a future version. This property should not be used in TensorFlow 2.0, as `updates` are applied automatically.\n",
            "  warnings.warn('`Model.state_updates` will be removed in a future version. '\n"
          ]
        }
      ],
      "source": [
        "# Evaluate the best pipeline\n",
        "best_scores = search.evaluate(best_pipeline).scores"
      ]
    },
    {
      "cell_type": "code",
      "execution_count": null,
      "metadata": {
        "id": "r3cZ5W4hoiYW",
        "colab": {
          "base_uri": "https://localhost:8080/"
        },
        "outputId": "9a230d24-f241-462f-c7b5-442802487a86"
      },
      "outputs": [
        {
          "output_type": "stream",
          "name": "stdout",
          "text": [
            "Search History:\n",
            "----------------------------------------------------\n",
            "Pipeline id: 43fe3788-3af8-47d8-9a7c-d1c2534c54e6\n",
            "     metric     value  normalized  randomSeed  fold\n",
            "0  F1_MACRO  0.708549    0.708549           0     0\n",
            "----------------------------------------------------\n",
            "Pipeline id: d01fc5fe-4865-46f9-8fc3-10adc15abf16\n",
            "     metric     value  normalized  randomSeed  fold\n",
            "0  F1_MACRO  0.616695    0.616695           0     0\n",
            "----------------------------------------------------\n",
            "Pipeline id: d15974fd-0a5b-4363-a366-ae0af5afce06\n",
            "     metric    value  normalized  randomSeed  fold\n",
            "0  F1_MACRO  0.55474     0.55474           0     0\n",
            "----------------------------------------------------\n",
            "Pipeline id: d2d82c40-0505-4924-978f-1d3a2c01f292\n",
            "     metric     value  normalized  randomSeed  fold\n",
            "0  F1_MACRO  0.531302    0.531302           0     0\n",
            "----------------------------------------------------\n",
            "Pipeline id: 10dcf22c-0701-4cd8-b99a-c32053af7b0a\n",
            "     metric     value  normalized  randomSeed  fold\n",
            "0  F1_MACRO  0.509059    0.509059           0     0\n",
            "----------------------------------------------------\n",
            "Pipeline id: 415f025d-d9ab-4db9-bbad-7d21cb02b2b3\n",
            "     metric     value  normalized  randomSeed  fold\n",
            "0  F1_MACRO  0.483604    0.483604           0     0\n"
          ]
        }
      ],
      "source": [
        "print('Search History:')\n",
        "for pipeline_result in search.history:\n",
        "    print('-' * 52)\n",
        "    print('Pipeline id:', pipeline_result.pipeline.id)\n",
        "    print(pipeline_result.scores)"
      ]
    },
    {
      "cell_type": "code",
      "execution_count": null,
      "metadata": {
        "id": "ohiTE6tioiYW",
        "colab": {
          "base_uri": "https://localhost:8080/"
        },
        "outputId": "8afc218b-0842-43dc-c015-1c0fd2f7584c"
      },
      "outputs": [
        {
          "output_type": "stream",
          "name": "stdout",
          "text": [
            "Best pipeline:\n",
            "----------------------------------------------------\n",
            "Pipeline id: 43fe3788-3af8-47d8-9a7c-d1c2534c54e6\n",
            "Pipeline json: {\"id\": \"43fe3788-3af8-47d8-9a7c-d1c2534c54e6\", \"schema\": \"https://metadata.datadrivendiscovery.org/schemas/v0/pipeline.json\", \"created\": \"2022-09-21T02:25:59.810674Z\", \"inputs\": [{\"name\": \"inputs\"}], \"outputs\": [{\"data\": \"steps.7.produce\", \"name\": \"output predictions\"}], \"steps\": [{\"type\": \"PRIMITIVE\", \"primitive\": {\"id\": \"c78138d9-9377-31dc-aee8-83d9df049c60\", \"version\": \"0.3.0\", \"python_path\": \"d3m.primitives.tods.data_processing.dataset_to_dataframe\", \"name\": \"Extract a DataFrame from a Dataset\"}, \"arguments\": {\"inputs\": {\"type\": \"CONTAINER\", \"data\": \"inputs.0\"}}, \"outputs\": [{\"id\": \"produce\"}]}, {\"type\": \"PRIMITIVE\", \"primitive\": {\"id\": \"81235c29-aeb9-3828-911a-1b25319b6998\", \"version\": \"0.3.0\", \"python_path\": \"d3m.primitives.tods.data_processing.column_parser\", \"name\": \"Parses strings into their types\"}, \"arguments\": {\"inputs\": {\"type\": \"CONTAINER\", \"data\": \"steps.0.produce\"}}, \"outputs\": [{\"id\": \"produce\"}]}, {\"type\": \"PRIMITIVE\", \"primitive\": {\"id\": \"a996cd89-ddf0-367f-8e7f-8c013cbc2891\", \"version\": \"0.3.0\", \"python_path\": \"d3m.primitives.tods.data_processing.extract_columns_by_semantic_types\", \"name\": \"Extracts columns by semantic type\"}, \"arguments\": {\"inputs\": {\"type\": \"CONTAINER\", \"data\": \"steps.1.produce\"}}, \"outputs\": [{\"id\": \"produce\"}], \"hyperparams\": {\"semantic_types\": {\"type\": \"VALUE\", \"data\": [\"https://metadata.datadrivendiscovery.org/types/Attribute\"]}}}, {\"type\": \"PRIMITIVE\", \"primitive\": {\"id\": \"a996cd89-ddf0-367f-8e7f-8c013cbc2891\", \"version\": \"0.3.0\", \"python_path\": \"d3m.primitives.tods.data_processing.extract_columns_by_semantic_types\", \"name\": \"Extracts columns by semantic type\"}, \"arguments\": {\"inputs\": {\"type\": \"CONTAINER\", \"data\": \"steps.0.produce\"}}, \"outputs\": [{\"id\": \"produce\"}], \"hyperparams\": {\"semantic_types\": {\"type\": \"VALUE\", \"data\": [\"https://metadata.datadrivendiscovery.org/types/TrueTarget\"]}}}, {\"type\": \"PRIMITIVE\", \"primitive\": {\"id\": \"642de2e7-5590-3cab-9266-2a53c326c461\", \"version\": \"0.3.0\", \"python_path\": \"d3m.primitives.tods.timeseries_processing.axiswise_scaler\", \"name\": \"Axis_wise_scale\"}, \"arguments\": {\"inputs\": {\"type\": \"CONTAINER\", \"data\": \"steps.2.produce\"}}, \"outputs\": [{\"id\": \"produce\"}]}, {\"type\": \"PRIMITIVE\", \"primitive\": {\"id\": \"30bc7cec-2ccc-34bc-9df8-2095bf3b1ae2\", \"version\": \"0.3.0\", \"python_path\": \"d3m.primitives.tods.feature_analysis.statistical_mean\", \"name\": \"Time Series Decompostional\"}, \"arguments\": {\"inputs\": {\"type\": \"CONTAINER\", \"data\": \"steps.4.produce\"}}, \"outputs\": [{\"id\": \"produce\"}]}, {\"type\": \"PRIMITIVE\", \"primitive\": {\"id\": \"67e7fcdf-d645-3417-9aa4-85cd369487d9\", \"version\": \"0.3.0\", \"python_path\": \"d3m.primitives.tods.detection_algorithm.pyod_ae\", \"name\": \"TODS.anomaly_detection_primitives.AutoEncoder\"}, \"arguments\": {\"inputs\": {\"type\": \"CONTAINER\", \"data\": \"steps.5.produce\"}}, \"outputs\": [{\"id\": \"produce\"}], \"hyperparams\": {\"contamination\": {\"type\": \"VALUE\", \"data\": 0.01}}}, {\"type\": \"PRIMITIVE\", \"primitive\": {\"id\": \"2530840a-07d4-3874-b7d8-9eb5e4ae2bf3\", \"version\": \"0.3.0\", \"python_path\": \"d3m.primitives.tods.data_processing.construct_predictions\", \"name\": \"Construct pipeline predictions output\"}, \"arguments\": {\"inputs\": {\"type\": \"CONTAINER\", \"data\": \"steps.6.produce\"}, \"reference\": {\"type\": \"CONTAINER\", \"data\": \"steps.1.produce\"}}, \"outputs\": [{\"id\": \"produce\"}]}], \"digest\": \"45bdb8104af5d2f8574b4f132811de79a43d2b5f4a0202dcf229fbe566fe54e4\"}\n",
            "Output:\n",
            "     d3mIndex  anomaly\n",
            "0           0        0\n",
            "1           1        0\n",
            "2           2        0\n",
            "3           3        0\n",
            "4           4        0\n",
            "...       ...      ...\n",
            "1395     1395        0\n",
            "1396     1396        0\n",
            "1397     1397        1\n",
            "1398     1398        1\n",
            "1399     1399        0\n",
            "\n",
            "[1400 rows x 2 columns]\n",
            "Scores:\n",
            "     metric     value  normalized  randomSeed  fold\n",
            "0  F1_MACRO  0.708549    0.708549           0     0\n"
          ]
        }
      ],
      "source": [
        "print('Best pipeline:')\n",
        "print('-' * 52)\n",
        "print('Pipeline id:', best_pipeline.id)\n",
        "print('Pipeline json:', best_pipeline.to_json())\n",
        "print('Output:')\n",
        "print(best_output)\n",
        "print('Scores:')\n",
        "print(best_scores)"
      ]
    },
    {
      "cell_type": "code",
      "execution_count": null,
      "metadata": {
        "id": "g2J5rKuNoiYW"
      },
      "outputs": [],
      "source": []
    }
  ],
  "metadata": {
    "kernelspec": {
      "display_name": "Python 3",
      "language": "python",
      "name": "python3"
    },
    "language_info": {
      "codemirror_mode": {
        "name": "ipython",
        "version": 3
      },
      "file_extension": ".py",
      "mimetype": "text/x-python",
      "name": "python",
      "nbconvert_exporter": "python",
      "pygments_lexer": "ipython3",
      "version": "3.6.10"
    },
    "colab": {
      "provenance": [],
      "collapsed_sections": [
        "7gveiGguoiYS"
      ]
    }
  },
  "nbformat": 4,
  "nbformat_minor": 0
}